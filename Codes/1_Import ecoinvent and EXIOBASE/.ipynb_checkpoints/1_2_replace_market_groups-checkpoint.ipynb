{
 "cells": [
  {
   "cell_type": "markdown",
   "metadata": {},
   "source": [
    "# Replace market groups\n",
    "info about market groups: https://ecoinvent.org/the-ecoinvent-database/market-activities/\n",
    "- market groups only exist to facilitate readability\n",
    "- no information is lost by removing them from the system\n",
    "\n",
    "The purpose of this notebook is to remove the market groups from the database\n",
    "- this is achieved by subsituting the technosphere input representing a market group by all markets in the group \n",
    "- this has to be done iteratively in several steps because some supply chains inlcude market groups which import from other market groups"
   ]
  },
  {
   "cell_type": "code",
   "execution_count": 1,
   "metadata": {},
   "outputs": [],
   "source": [
    "import pickle\n",
    "import random\n",
    "import collections\n",
    "import itertools\n",
    "import copy\n",
    "import pandas as pd\n",
    "import numpy as np\n",
    "import brightway2 as bw"
   ]
  },
  {
   "cell_type": "markdown",
   "metadata": {},
   "source": [
    "### 1. Load LCI data "
   ]
  },
  {
   "cell_type": "code",
   "execution_count": 2,
   "metadata": {},
   "outputs": [
    {
     "name": "stdout",
     "output_type": "stream",
     "text": [
      "regeco\n"
     ]
    },
    {
     "data": {
      "text/plain": [
       "19128"
      ]
     },
     "execution_count": 2,
     "metadata": {},
     "output_type": "execute_result"
    }
   ],
   "source": [
    "# use \"eidb\" for checking dataset details in preliminary analysis and \"datasets\" for efficient calcualtion\n",
    "bw.projects.set_current('regeco')\n",
    "eidb = bw.Database('ecoinvent 3.7.1_cutoff_ecoSpold02')\n",
    "with open('../../Data/lci_iot_imported/cutoff371_data.pickle', 'rb') as i:\n",
    "    datasets = pickle.load(i)"
   ]
  },
  {
   "cell_type": "markdown",
   "metadata": {},
   "source": [
    "### 2. Preliminary analysis"
   ]
  },
  {
   "cell_type": "code",
   "execution_count": 5,
   "metadata": {},
   "outputs": [
    {
     "data": {
      "text/plain": [
       "115"
      ]
     },
     "execution_count": 5,
     "metadata": {},
     "output_type": "execute_result"
    }
   ],
   "source": [
    "market_groups = [d for d in eidb if d['activity type']=='market group']\n",
    "market_group_codes = {d['code'] for d in market_groups}\n",
    "len(market_groups)"
   ]
  },
  {
   "cell_type": "markdown",
   "metadata": {},
   "source": [
    "#### 2.1 Make sure that no market groups imports from itself (so replacement is not infinite)"
   ]
  },
  {
   "cell_type": "code",
   "execution_count": 8,
   "metadata": {},
   "outputs": [],
   "source": [
    "for mg in market_groups:\n",
    "    exc = [exc for exc in mg.exchanges()]\n",
    "    inputs = [e['input'][1] for e in exc if e['type'] != 'production'] # \"production\" -> exchange showing output. e['input'][1] returns code of activity.\n",
    "    assert all([i != mg['code'] for i in inputs])"
   ]
  },
  {
   "cell_type": "markdown",
   "metadata": {},
   "source": [
    "#### 2.2 Assert that  there are no bioshpere exchanges (so removing market group will not affect LCA results)"
   ]
  },
  {
   "cell_type": "code",
   "execution_count": 9,
   "metadata": {},
   "outputs": [],
   "source": [
    "for mg in market_groups:\n",
    "    exc = [exc for exc in mg.exchanges()]\n",
    "    assert all([e['type']!='biosphere' for e in exc])"
   ]
  },
  {
   "cell_type": "markdown",
   "metadata": {},
   "source": [
    "#### 2.3 Assert that there are not circular references (so replacement is not infinite)"
   ]
  },
  {
   "cell_type": "code",
   "execution_count": 11,
   "metadata": {},
   "outputs": [
    {
     "name": "stdout",
     "output_type": "stream",
     "text": [
      "<class 'bw2data.backends.peewee.proxies.Activity'>\n",
      "<class 'bw2data.backends.peewee.proxies.Activity'>\n",
      "<class 'bw2data.backends.peewee.proxies.Activity'>\n",
      "<class 'bw2data.backends.peewee.proxies.Activity'>\n",
      "<class 'bw2data.backends.peewee.proxies.Activity'>\n",
      "<class 'bw2data.backends.peewee.proxies.Activity'>\n",
      "<class 'bw2data.backends.peewee.proxies.Activity'>\n",
      "<class 'bw2data.backends.peewee.proxies.Activity'>\n",
      "<class 'bw2data.backends.peewee.proxies.Activity'>\n",
      "<class 'bw2data.backends.peewee.proxies.Activity'>\n",
      "<class 'bw2data.backends.peewee.proxies.Activity'>\n",
      "<class 'bw2data.backends.peewee.proxies.Activity'>\n",
      "<class 'bw2data.backends.peewee.proxies.Activity'>\n",
      "<class 'bw2data.backends.peewee.proxies.Activity'>\n",
      "<class 'bw2data.backends.peewee.proxies.Activity'>\n",
      "<class 'bw2data.backends.peewee.proxies.Activity'>\n",
      "<class 'bw2data.backends.peewee.proxies.Activity'>\n",
      "<class 'bw2data.backends.peewee.proxies.Activity'>\n",
      "<class 'bw2data.backends.peewee.proxies.Activity'>\n",
      "<class 'bw2data.backends.peewee.proxies.Activity'>\n",
      "<class 'bw2data.backends.peewee.proxies.Activity'>\n",
      "<class 'bw2data.backends.peewee.proxies.Activity'>\n",
      "<class 'bw2data.backends.peewee.proxies.Activity'>\n",
      "<class 'bw2data.backends.peewee.proxies.Activity'>\n",
      "<class 'bw2data.backends.peewee.proxies.Activity'>\n",
      "<class 'bw2data.backends.peewee.proxies.Activity'>\n",
      "<class 'bw2data.backends.peewee.proxies.Activity'>\n",
      "<class 'bw2data.backends.peewee.proxies.Activity'>\n",
      "<class 'bw2data.backends.peewee.proxies.Activity'>\n",
      "<class 'bw2data.backends.peewee.proxies.Activity'>\n",
      "<class 'bw2data.backends.peewee.proxies.Activity'>\n",
      "<class 'bw2data.backends.peewee.proxies.Activity'>\n",
      "<class 'bw2data.backends.peewee.proxies.Activity'>\n",
      "<class 'bw2data.backends.peewee.proxies.Activity'>\n",
      "<class 'bw2data.backends.peewee.proxies.Activity'>\n",
      "<class 'bw2data.backends.peewee.proxies.Activity'>\n",
      "<class 'bw2data.backends.peewee.proxies.Activity'>\n",
      "<class 'bw2data.backends.peewee.proxies.Activity'>\n",
      "<class 'bw2data.backends.peewee.proxies.Activity'>\n",
      "<class 'bw2data.backends.peewee.proxies.Activity'>\n",
      "<class 'bw2data.backends.peewee.proxies.Activity'>\n",
      "<class 'bw2data.backends.peewee.proxies.Activity'>\n",
      "<class 'bw2data.backends.peewee.proxies.Activity'>\n",
      "<class 'bw2data.backends.peewee.proxies.Activity'>\n",
      "<class 'bw2data.backends.peewee.proxies.Activity'>\n",
      "<class 'bw2data.backends.peewee.proxies.Activity'>\n",
      "<class 'bw2data.backends.peewee.proxies.Activity'>\n",
      "<class 'bw2data.backends.peewee.proxies.Activity'>\n",
      "<class 'bw2data.backends.peewee.proxies.Activity'>\n",
      "<class 'bw2data.backends.peewee.proxies.Activity'>\n",
      "<class 'bw2data.backends.peewee.proxies.Activity'>\n",
      "<class 'bw2data.backends.peewee.proxies.Activity'>\n",
      "<class 'bw2data.backends.peewee.proxies.Activity'>\n",
      "<class 'bw2data.backends.peewee.proxies.Activity'>\n",
      "<class 'bw2data.backends.peewee.proxies.Activity'>\n",
      "<class 'bw2data.backends.peewee.proxies.Activity'>\n",
      "<class 'bw2data.backends.peewee.proxies.Activity'>\n",
      "<class 'bw2data.backends.peewee.proxies.Activity'>\n",
      "<class 'bw2data.backends.peewee.proxies.Activity'>\n",
      "<class 'bw2data.backends.peewee.proxies.Activity'>\n",
      "<class 'bw2data.backends.peewee.proxies.Activity'>\n",
      "<class 'bw2data.backends.peewee.proxies.Activity'>\n",
      "<class 'bw2data.backends.peewee.proxies.Activity'>\n",
      "<class 'bw2data.backends.peewee.proxies.Activity'>\n",
      "<class 'bw2data.backends.peewee.proxies.Activity'>\n",
      "<class 'bw2data.backends.peewee.proxies.Activity'>\n",
      "<class 'bw2data.backends.peewee.proxies.Activity'>\n",
      "<class 'bw2data.backends.peewee.proxies.Activity'>\n",
      "<class 'bw2data.backends.peewee.proxies.Activity'>\n",
      "<class 'bw2data.backends.peewee.proxies.Activity'>\n",
      "<class 'bw2data.backends.peewee.proxies.Activity'>\n",
      "<class 'bw2data.backends.peewee.proxies.Activity'>\n",
      "<class 'bw2data.backends.peewee.proxies.Activity'>\n",
      "<class 'bw2data.backends.peewee.proxies.Activity'>\n",
      "<class 'bw2data.backends.peewee.proxies.Activity'>\n",
      "<class 'bw2data.backends.peewee.proxies.Activity'>\n",
      "<class 'bw2data.backends.peewee.proxies.Activity'>\n",
      "<class 'bw2data.backends.peewee.proxies.Activity'>\n",
      "<class 'bw2data.backends.peewee.proxies.Activity'>\n",
      "<class 'bw2data.backends.peewee.proxies.Activity'>\n",
      "<class 'bw2data.backends.peewee.proxies.Activity'>\n",
      "<class 'bw2data.backends.peewee.proxies.Activity'>\n",
      "<class 'bw2data.backends.peewee.proxies.Activity'>\n",
      "<class 'bw2data.backends.peewee.proxies.Activity'>\n",
      "<class 'bw2data.backends.peewee.proxies.Activity'>\n",
      "<class 'bw2data.backends.peewee.proxies.Activity'>\n",
      "<class 'bw2data.backends.peewee.proxies.Activity'>\n",
      "<class 'bw2data.backends.peewee.proxies.Activity'>\n",
      "<class 'bw2data.backends.peewee.proxies.Activity'>\n",
      "<class 'bw2data.backends.peewee.proxies.Activity'>\n",
      "<class 'bw2data.backends.peewee.proxies.Activity'>\n",
      "<class 'bw2data.backends.peewee.proxies.Activity'>\n",
      "<class 'bw2data.backends.peewee.proxies.Activity'>\n",
      "<class 'bw2data.backends.peewee.proxies.Activity'>\n",
      "<class 'bw2data.backends.peewee.proxies.Activity'>\n",
      "<class 'bw2data.backends.peewee.proxies.Activity'>\n",
      "<class 'bw2data.backends.peewee.proxies.Activity'>\n",
      "<class 'bw2data.backends.peewee.proxies.Activity'>\n",
      "<class 'bw2data.backends.peewee.proxies.Activity'>\n",
      "<class 'bw2data.backends.peewee.proxies.Activity'>\n",
      "<class 'bw2data.backends.peewee.proxies.Activity'>\n",
      "<class 'bw2data.backends.peewee.proxies.Activity'>\n",
      "<class 'bw2data.backends.peewee.proxies.Activity'>\n",
      "<class 'bw2data.backends.peewee.proxies.Activity'>\n",
      "<class 'bw2data.backends.peewee.proxies.Activity'>\n",
      "<class 'bw2data.backends.peewee.proxies.Activity'>\n",
      "<class 'bw2data.backends.peewee.proxies.Activity'>\n",
      "<class 'bw2data.backends.peewee.proxies.Activity'>\n",
      "<class 'bw2data.backends.peewee.proxies.Activity'>\n",
      "<class 'bw2data.backends.peewee.proxies.Activity'>\n",
      "<class 'bw2data.backends.peewee.proxies.Activity'>\n",
      "<class 'bw2data.backends.peewee.proxies.Activity'>\n",
      "<class 'bw2data.backends.peewee.proxies.Activity'>\n",
      "<class 'bw2data.backends.peewee.proxies.Activity'>\n",
      "<class 'bw2data.backends.peewee.proxies.Activity'>\n",
      "0\n"
     ]
    }
   ],
   "source": [
    "code_d = {d['code']:d for d in datasets}\n",
    "\n",
    "market_group_exchanges = lambda m: [code_d[e['input'][1]] for e in [exc for exc in m.exchanges()] if \n",
    "                                    code_d[e['input'][1]]['activity type']=='market group' and \n",
    "                                    e['type']!='production']  #anonymous function with m as input\n",
    "i_max = 0\n",
    "for mg in market_groups:\n",
    "    list_of_market_groups = [mg]\n",
    "    print(type(list_of_market_groups.pop()))\n",
    "    i = 0\n",
    "    while list_of_market_groups: \n",
    "        list_of_market_groups.extend(market_group_exchanges(list_of_market_groups.pop()))  \n",
    "        i += 1\n",
    "        if i > i_max:\n",
    "            i_max = i\n",
    "        if i == 20:\n",
    "            print('failed')\n",
    "            break\n",
    "print(i_max)"
   ]
  },
  {
   "cell_type": "markdown",
   "metadata": {},
   "source": [
    "#### 2.4 Check the algebraic sign of the amounts for market groups themselved and their technosphere inputs"
   ]
  },
  {
   "cell_type": "code",
   "execution_count": 12,
   "metadata": {},
   "outputs": [
    {
     "data": {
      "text/plain": [
       "Counter({1.0: 1041, -1.0: 444})"
      ]
     },
     "execution_count": 12,
     "metadata": {},
     "output_type": "execute_result"
    }
   ],
   "source": [
    "collections.Counter([e['amount']/abs(e['amount']) for e in \n",
    "                     itertools.chain.from_iterable([[exc for exc in d.exchanges()] for d in market_groups]) if e['type']!='production'])"
   ]
  },
  {
   "cell_type": "code",
   "execution_count": 13,
   "metadata": {},
   "outputs": [
    {
     "data": {
      "text/plain": [
       "Counter({1.0: 1132, -1.0: 468})"
      ]
     },
     "execution_count": 13,
     "metadata": {},
     "output_type": "execute_result"
    }
   ],
   "source": [
    "collections.Counter([e['amount']/abs(e['amount']) for e in \n",
    "                     itertools.chain.from_iterable([[exc for exc in d.exchanges()] for d in market_groups])])"
   ]
  },
  {
   "cell_type": "markdown",
   "metadata": {},
   "source": [
    "note: negative amounts are for 'market of waste' exchanges of 'market groups of waste' (there are also negative amounts for the whole supply chain, i.e., market group of waste - consumer, treatment - market of waste). to prevent swapping of signs if both are negative, we need to replace negative amounts under 'market groups' by positive values during replacement, to ensure that after replacing market group by multiplication amounts are still negative"
   ]
  },
  {
   "cell_type": "markdown",
   "metadata": {},
   "source": [
    "### 3. Replace market groups by markets in the groups."
   ]
  },
  {
   "cell_type": "code",
   "execution_count": 27,
   "metadata": {},
   "outputs": [
    {
     "name": "stdout",
     "output_type": "stream",
     "text": [
      "19013\n",
      "CPU times: user 44.8 s, sys: 2.69 s, total: 47.5 s\n",
      "Wall time: 47.5 s\n"
     ]
    }
   ],
   "source": [
    "%%time\n",
    "datasets_no_mg = copy.deepcopy([d for d in datasets if d['activity type']!='market group'])\n",
    "print(len(datasets_no_mg))"
   ]
  },
  {
   "cell_type": "code",
   "execution_count": 26,
   "metadata": {},
   "outputs": [],
   "source": [
    "def get_input_dataset_by_code(exchange):\n",
    "    return code_d[exchange['input'][1]]"
   ]
  },
  {
   "cell_type": "code",
   "execution_count": 28,
   "metadata": {},
   "outputs": [],
   "source": [
    "def combine_double_exchanges(exchanges):#no double exchanges now, but there may be after replacement\n",
    "    \"\"\"\n",
    "    This function merges the technosphere double exchanges.\n",
    "    \n",
    "    \"\"\"\n",
    "    non_technosphere_ex = [e for e in exchanges if e['type'] != 'technosphere']\n",
    "    technosphere_ex = [e for e in exchanges if e['type'] == 'technosphere']\n",
    "    \n",
    "    input_codes = {e['input'][1] for e in technosphere_ex}\n",
    "    input_dict = {c:sorted([e for e in technosphere_ex if e['input'][1]==c], \n",
    "                           key=lambda x:x['amount'], reverse=True) for c in input_codes} # in the dic, code: names of exchanges, may >1 due to double exchanges\n",
    "    combined_exchanges = []\n",
    "    for code, exchange_list in input_dict.items():\n",
    "        if len(exchange_list) == 1:\n",
    "            combined_exchanges.append(exchange_list[0])\n",
    "        else:\n",
    "            new_ex = copy.deepcopy(exchange_list[0])\n",
    "            new_ex['amount'] = sum([e['amount'] for e in exchange_list]) # use one of double exchanges as template, change its amount to sum of double exchanges\n",
    "            combined_exchanges.append(new_ex)\n",
    "    \n",
    "    np.testing.assert_almost_equal(sum([e['amount'] for e in technosphere_ex]),\n",
    "                                   sum([e['amount'] for e in combined_exchanges]),\n",
    "                                   decimal=3, err_msg='merging error')\n",
    "    \n",
    "    combined_exchanges = non_technosphere_ex + combined_exchanges\n",
    "    \n",
    "    return combined_exchanges"
   ]
  },
  {
   "cell_type": "code",
   "execution_count": 29,
   "metadata": {},
   "outputs": [],
   "source": [
    "def replace_market_group(exchanges): \n",
    "    \"\"\"\n",
    "    This function replace market group by markets in the group.\n",
    "    \n",
    "    \"\"\"\n",
    "    normal_exchanges = [e for e in exchanges if not e['input'][1] in market_group_codes]\n",
    "    market_group_exchanges = [e for e in exchanges if e['input'][1] in market_group_codes]\n",
    "    assert len([e for e in market_group_exchanges if e['type']!='technosphere']) == 0, 'working on no_mg_datasets' \n",
    "    \n",
    "    if not market_group_exchanges: \n",
    "        return exchanges\n",
    "    \n",
    "    exchanges_via_market_group = [] \n",
    "    for exchange in market_group_exchanges:\n",
    "        amount = abs(exchange['amount']) \n",
    "        indirect_exchanges = copy.deepcopy(get_input_dataset_by_code(exchange)['exchanges'])\n",
    "        indirect_exchanges = [e for e in indirect_exchanges if e['type']!='production'] \n",
    "        for indirect_exchange in indirect_exchanges:\n",
    "            indirect_exchange['amount'] *= amount \n",
    "        exchanges_via_market_group.extend(indirect_exchanges)\n",
    "    \n",
    "    assert not [e for e in indirect_exchanges if e['type']=='production'], 'included production exchange'\n",
    "    \n",
    "    \n",
    "    adapted_exchanges = normal_exchanges + exchanges_via_market_group\n",
    "    \n",
    "    if len(adapted_exchanges) != len({e['input'][1] for e in adapted_exchanges}):\n",
    "        adapted_exchanges = combine_double_exchanges(adapted_exchanges)\n",
    "        \n",
    "    adapted_exchanges_technosphere = [e for e in adapted_exchanges if e['type']=='technosphere']\n",
    "    assert len(adapted_exchanges_technosphere) == len({e['input'][1] for e in adapted_exchanges_technosphere}),\\\n",
    "    'double exchanges'\n",
    "    \n",
    "    \n",
    "    return adapted_exchanges"
   ]
  },
  {
   "cell_type": "code",
   "execution_count": 32,
   "metadata": {
    "scrolled": true
   },
   "outputs": [
    {
     "name": "stdout",
     "output_type": "stream",
     "text": [
      "replacement loop: 1\n",
      "number of market group references: 17938\n",
      "total number of exchanges: 620119\n",
      "--------------------------------------------------\n",
      "replacement loop: 2\n",
      "number of market group references: 16637\n",
      "total number of exchanges: 857220\n",
      "--------------------------------------------------\n",
      "replacement loop: 3\n",
      "number of market group references: 4676\n",
      "total number of exchanges: 1011019\n",
      "--------------------------------------------------\n",
      "replacement loop: 4\n",
      "number of market group references: 440\n",
      "total number of exchanges: 1054975\n",
      "--------------------------------------------------\n",
      "replacement loop: 5\n",
      "number of market group references: 0\n",
      "total number of exchanges: 1059815\n",
      "done\n",
      "CPU times: user 21.7 s, sys: 441 ms, total: 22.1 s\n",
      "Wall time: 22.1 s\n"
     ]
    }
   ],
   "source": [
    "%%time\n",
    "replacement_loop = 0\n",
    "while True:\n",
    "    replacement_loop += 1\n",
    "    # calculate total number of market group exchanges in non-market-group datasets\n",
    "    number_of_market_group_references = len([True for e in \n",
    "                                             itertools.chain.from_iterable([d['exchanges'] for \n",
    "                                                                            d in datasets_no_mg]) if \n",
    "                                             e['input'][1] in market_group_codes])\n",
    "        \n",
    "    print('replacement loop: {}'.format(replacement_loop))\n",
    "    print('number of market group references: {}'.format(number_of_market_group_references))\n",
    "    total_n_exchanges = len([True for e in itertools.chain.from_iterable([d['exchanges'] for \n",
    "                                                                          d in datasets_no_mg])])\n",
    "    print('total number of exchanges: {}'.format(total_n_exchanges))\n",
    "    if not number_of_market_group_references:\n",
    "        print('done')\n",
    "        break\n",
    "    for d in datasets_no_mg:\n",
    "        d['exchanges'] = replace_market_group(d['exchanges'])\n",
    "        \n",
    "    print('-'*50)"
   ]
  },
  {
   "cell_type": "markdown",
   "metadata": {},
   "source": [
    "### 4. Save the new datasets"
   ]
  },
  {
   "cell_type": "code",
   "execution_count": 33,
   "metadata": {},
   "outputs": [],
   "source": [
    "with open('../../Data/lci_iot_imported/cutoff371_no_mg.pickle', 'wb') as o:\n",
    "    pickle.dump(datasets_no_mg, o)"
   ]
  },
  {
   "cell_type": "markdown",
   "metadata": {},
   "source": [
    "### 5. Write no-market-group datasets to bw2_databases"
   ]
  },
  {
   "cell_type": "code",
   "execution_count": null,
   "metadata": {},
   "outputs": [],
   "source": [
    "bw.databases"
   ]
  },
  {
   "cell_type": "code",
   "execution_count": null,
   "metadata": {},
   "outputs": [],
   "source": [
    "# import ecoinvent database as framework for new no-market-groups database\n",
    "my_path = r'../../Data/ecoinvent_database/ecoinvent 3.7.1_cutoff_ecoSpold02/datasets'\n",
    "datasets = bw.SingleOutputEcospold2Importer(my_path, 'ecoinvent 3.7.1_cutoff_ecoSpold02')\n",
    "datasets.apply_strategies()"
   ]
  },
  {
   "cell_type": "code",
   "execution_count": null,
   "metadata": {},
   "outputs": [],
   "source": [
    "with open('../../Data/lci_iot_imported/cutoff371_no_mg.pickle', 'rb') as i:\n",
    "    data_no_mg = pickle.load(i)\n",
    "\n",
    "# rename the information of database name in no-market-groups database\n",
    "for d in data_no_mg:\n",
    "    assert d['database']=='ecoinvent 3.7.1_cutoff_ecoSpold02'\n",
    "    d['database'] = 'ecoinvent 3.7.1_cutoff_no_marketgroups'\n",
    "    for exc in d['exchanges']:\n",
    "        if exc['input'][0] == 'ecoinvent 3.7.1_cutoff_ecoSpold02':\n",
    "            exc['input'] = ('ecoinvent 3.7.1_cutoff_no_marketgroups', exc['input'][1])"
   ]
  },
  {
   "cell_type": "code",
   "execution_count": null,
   "metadata": {},
   "outputs": [],
   "source": [
    "datasets.db_name = 'ecoinvent 3.7.1_cutoff_no_marketgroups'\n",
    "datasets.data = data_no_mg\n",
    "datasets.write_database() \n",
    "bw.databases"
   ]
  },
  {
   "cell_type": "code",
   "execution_count": null,
   "metadata": {},
   "outputs": [],
   "source": []
  }
 ],
 "metadata": {
  "anaconda-cloud": {},
  "kernelspec": {
   "display_name": "reg_eco",
   "language": "python",
   "name": "reg_eco"
  },
  "language_info": {
   "codemirror_mode": {
    "name": "ipython",
    "version": 3
   },
   "file_extension": ".py",
   "mimetype": "text/x-python",
   "name": "python",
   "nbconvert_exporter": "python",
   "pygments_lexer": "ipython3",
   "version": "3.6.13"
  }
 },
 "nbformat": 4,
 "nbformat_minor": 1
}
