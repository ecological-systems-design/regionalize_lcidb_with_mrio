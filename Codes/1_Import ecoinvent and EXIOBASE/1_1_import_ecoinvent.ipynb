{
 "cells": [
  {
   "cell_type": "markdown",
   "metadata": {},
   "source": [
    "# Import  ecoinvent cutoff 3.7.1  datasets\n",
    "\n",
    "This notebook is to import ecoinvent in ecoSpold format and biosphere database, apply strategies to ecooinvent, and save the data for future editing."
   ]
  },
  {
   "cell_type": "code",
   "execution_count": 1,
   "metadata": {},
   "outputs": [],
   "source": [
    "import os\n",
    "import re\n",
    "import pickle\n",
    "import itertools\n",
    "import brightway2 as bw\n",
    "from bw2io.importers import Ecospold2BiosphereImporter"
   ]
  },
  {
   "cell_type": "markdown",
   "metadata": {},
   "source": [
    "Brightway2 settings"
   ]
  },
  {
   "cell_type": "code",
   "execution_count": 3,
   "metadata": {
    "scrolled": true
   },
   "outputs": [
    {
     "data": {
      "text/plain": [
       "'/home/sipeng2/.local/share/Brightway3/regeco.2047a394654d95578d4ed3a8f3ba8ec0'"
      ]
     },
     "execution_count": 3,
     "metadata": {},
     "output_type": "execute_result"
    }
   ],
   "source": [
    "if 'regeco' in bw.projects:\n",
    "    bw.projects.delete_project('regeco', delete_dir=True)\n",
    "bw.projects.create_project('regeco')\n",
    "bw.projects.set_current('regeco')\n",
    "bw.projects.current\n",
    "bw.projects.dir"
   ]
  },
  {
   "cell_type": "code",
   "execution_count": 4,
   "metadata": {
    "scrolled": true
   },
   "outputs": [
    {
     "name": "stdout",
     "output_type": "stream",
     "text": [
      "Biosphere database already present!!! No setup is needed\n"
     ]
    }
   ],
   "source": [
    "#set up biosphere3 database.\n",
    "bw.bw2setup()  "
   ]
  },
  {
   "cell_type": "code",
   "execution_count": 6,
   "metadata": {
    "scrolled": false
   },
   "outputs": [
    {
     "name": "stdout",
     "output_type": "stream",
     "text": [
      "Extracting XML data from 19128 datasets\n",
      "Extracted 19128 datasets in 44.75 seconds\n",
      "Applying strategy: normalize_units\n",
      "Applying strategy: update_ecoinvent_locations\n",
      "Applying strategy: remove_zero_amount_coproducts\n",
      "Applying strategy: remove_zero_amount_inputs_with_no_activity\n",
      "Applying strategy: remove_unnamed_parameters\n",
      "Applying strategy: es2_assign_only_product_with_amount_as_reference_product\n",
      "Applying strategy: assign_single_product_as_activity\n",
      "Applying strategy: create_composite_code\n",
      "Applying strategy: drop_unspecified_subcategories\n",
      "Applying strategy: fix_ecoinvent_flows_pre35\n",
      "Applying strategy: drop_temporary_outdated_biosphere_flows\n",
      "Applying strategy: link_biosphere_by_flow_uuid\n",
      "Applying strategy: link_internal_technosphere_by_composite_code\n",
      "Applying strategy: delete_exchanges_missing_activity\n",
      "Applying strategy: delete_ghost_exchanges\n",
      "Applying strategy: remove_uncertainty_from_negative_loss_exchanges\n",
      "Applying strategy: fix_unreasonably_high_lognormal_uncertainties\n",
      "Applying strategy: set_lognormal_loc_value\n",
      "Applying strategy: convert_activity_parameters_to_list\n",
      "Applying strategy: add_cpc_classification_from_single_reference_product\n",
      "Applying strategy: delete_none_synonyms\n",
      "Applied 21 strategies in 12.53 seconds\n",
      "19128 datasets\n",
      "621719 exchanges\n",
      "0 unlinked exchanges\n",
      "  \n",
      "19128 4427 (19128, 621719, 0)\n"
     ]
    }
   ],
   "source": [
    "# load ecospold files of ecoinvent data (requiring license)\n",
    "assert os.path.exists(r'../../Data/ecoinvent_database/ecoinvent 3.7.1_cutoff_ecoSpold02/datasets') \n",
    "my_path = r'../../Data/ecoinvent_database/ecoinvent 3.7.1_cutoff_ecoSpold02/datasets'\n",
    "datasets = bw.SingleOutputEcospold2Importer(my_path, 'ecoinvent 3.7.1_cutoff_ecoSpold02')\n",
    "\n",
    "# import current biosphere database\n",
    "bio = Ecospold2BiosphereImporter() \n",
    "\n",
    "# link datasets with biosphere flows\n",
    "datasets.apply_strategies()\n",
    "\n",
    "print(len(datasets.data), len(bio.data), datasets.statistics())"
   ]
  },
  {
   "cell_type": "code",
   "execution_count": 21,
   "metadata": {
    "scrolled": true
   },
   "outputs": [
    {
     "name": "stderr",
     "output_type": "stream",
     "text": [
      "Writing activities to SQLite3 database:\n",
      "0% [##############################] 100% | ETA: 00:00:00\n",
      "Total time elapsed: 00:05:42\n"
     ]
    },
    {
     "name": "stdout",
     "output_type": "stream",
     "text": [
      "Title: Writing activities to SQLite3 database:\n",
      "  Started: 08/23/2022 20:31:30\n",
      "  Finished: 08/23/2022 20:37:12\n",
      "  Total time elapsed: 00:05:42\n",
      "  CPU %: 21.60\n",
      "  Memory %: 0.88\n",
      "Created database: ecoinvent 3.7.1_cutoff_ecoSpold02\n"
     ]
    },
    {
     "data": {
      "text/plain": [
       "Databases dictionary with 2 object(s):\n",
       "\tbiosphere3\n",
       "\tecoinvent 3.7.1_cutoff_ecoSpold02"
      ]
     },
     "execution_count": 21,
     "metadata": {},
     "output_type": "execute_result"
    }
   ],
   "source": [
    "# write database to disk \n",
    "datasets.write_database()\n",
    "bw.databases"
   ]
  },
  {
   "cell_type": "markdown",
   "metadata": {},
   "source": [
    "Save the data for future editing."
   ]
  },
  {
   "cell_type": "code",
   "execution_count": 45,
   "metadata": {},
   "outputs": [],
   "source": [
    "with open('../../Data/lci_iot_imported/cutoff371_data.pickle', 'wb') as outfile:\n",
    "    pickle.dump(datasets.data, outfile)\n",
    "\n",
    "with open('../Data/lci_iot_imported/biosphere371.pickle', 'wb') as outfile:\n",
    "    pickle.dump(bio.data, outfile)"
   ]
  },
  {
   "cell_type": "code",
   "execution_count": 46,
   "metadata": {},
   "outputs": [],
   "source": []
  }
 ],
 "metadata": {
  "anaconda-cloud": {},
  "kernelspec": {
   "display_name": "reg_eco",
   "language": "python",
   "name": "reg_eco"
  },
  "language_info": {
   "codemirror_mode": {
    "name": "ipython",
    "version": 3
   },
   "file_extension": ".py",
   "mimetype": "text/x-python",
   "name": "python",
   "nbconvert_exporter": "python",
   "pygments_lexer": "ipython3",
   "version": "3.6.13"
  }
 },
 "nbformat": 4,
 "nbformat_minor": 1
}
