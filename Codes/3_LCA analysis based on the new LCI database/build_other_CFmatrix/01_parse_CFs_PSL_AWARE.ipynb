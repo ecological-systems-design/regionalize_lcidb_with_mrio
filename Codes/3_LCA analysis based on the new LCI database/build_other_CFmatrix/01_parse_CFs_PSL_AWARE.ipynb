{
 "cells": [
  {
   "cell_type": "markdown",
   "metadata": {},
   "source": [
    "## Match raw CF file to final location set and elementary flow"
   ]
  },
  {
   "cell_type": "code",
   "execution_count": 1,
   "metadata": {},
   "outputs": [],
   "source": [
    "import os\n",
    "import json\n",
    "import pandas as pd\n",
    "import brightway2 as bw\n",
    "from IPython.display import display\n",
    "import pickle\n",
    "import numpy as np"
   ]
  },
  {
   "cell_type": "markdown",
   "metadata": {},
   "source": [
    "# Land Use\n",
    "### Load data"
   ]
  },
  {
   "cell_type": "code",
   "execution_count": 29,
   "metadata": {},
   "outputs": [
    {
     "name": "stdout",
     "output_type": "stream",
     "text": [
      "CPU times: user 153 ms, sys: 12.4 ms, total: 165 ms\n",
      "Wall time: 163 ms\n"
     ]
    }
   ],
   "source": [
    "path_to_file = os.path.abspath('./raw_data/PSLglobal_modified_region_name.xlsx')\n",
    "%time excel_file = pd.ExcelFile(path_to_file,engine='openpyxl')"
   ]
  },
  {
   "cell_type": "code",
   "execution_count": 30,
   "metadata": {},
   "outputs": [
    {
     "data": {
      "text/plain": [
       "['Explanations',\n",
       " 'Occupation_Ecoregion',\n",
       " 'Occupation_Country',\n",
       " 'Occupation_Continent',\n",
       " 'Transformation_Ecoregion',\n",
       " 'Transformation_Country',\n",
       " 'Transformation_Continent',\n",
       " 'Taxaspecific_Occupation',\n",
       " 'TaxasspecificTransformation']"
      ]
     },
     "execution_count": 30,
     "metadata": {},
     "output_type": "execute_result"
    }
   ],
   "source": [
    "excel_file.sheet_names"
   ]
  },
  {
   "cell_type": "code",
   "execution_count": 31,
   "metadata": {},
   "outputs": [],
   "source": [
    "sheets = [sheet for sheet in excel_file.sheet_names if \n",
    "          any((n in sheet for n in ('Country', 'Continent', 'Ecoregion')))]"
   ]
  },
  {
   "cell_type": "markdown",
   "metadata": {},
   "source": [
    "combine the same type of CF with different region resolution"
   ]
  },
  {
   "cell_type": "code",
   "execution_count": 32,
   "metadata": {},
   "outputs": [],
   "source": [
    "def parse_land_use_sheets(sheetname, excel_file):\n",
    "    skip = 2 if 'Ecoregion' in sheetname else 1\n",
    "    df = pd.read_excel(excel_file, sheet_name=sheetname, skiprows=skip, index_col=0, header=[0,1])\n",
    "    df_median = df.xs('Median', axis=1, level=1, drop_level=True)\n",
    "    return df_median"
   ]
  },
  {
   "cell_type": "code",
   "execution_count": 33,
   "metadata": {
    "scrolled": true
   },
   "outputs": [
    {
     "name": "stdout",
     "output_type": "stream",
     "text": [
      "Transformation\n",
      "Transformation_Ecoregion (805, 6)\n",
      "Transformation_Country (244, 6)\n",
      "Transformation_Continent (8, 6)\n",
      "(1055, 7) \n",
      "\n",
      "Occupation\n",
      "Occupation_Ecoregion (805, 6)\n",
      "Occupation_Country (244, 6)\n",
      "Occupation_Continent (8, 6)\n",
      "(1055, 7) \n",
      "\n"
     ]
    }
   ],
   "source": [
    "cf_dict = {}\n",
    "categories = ('Transformation', 'Occupation')\n",
    "for category in categories:\n",
    "    dfs = {sheet:parse_land_use_sheets(sheet, excel_file) for sheet in sheets if category in sheet}\n",
    "    print(category)\n",
    "    for name, df in dfs.items():\n",
    "        print(name, df.shape)\n",
    "    df = pd.concat(dfs.values(), axis=0)\n",
    "    df = df[~df.index.duplicated()] # remove duplicates from index\n",
    "    df['Natural'] = 0\n",
    "    cf_dict[category] = df\n",
    "    print(df.shape, '\\n')"
   ]
  },
  {
   "cell_type": "code",
   "execution_count": 34,
   "metadata": {
    "scrolled": true
   },
   "outputs": [],
   "source": [
    "for category, df in cf_dict.items():\n",
    "    df.to_csv(f'intermediate_data/{category.lower()}_median.csv')"
   ]
  },
  {
   "cell_type": "markdown",
   "metadata": {},
   "source": [
    "### Match to ecoinvent"
   ]
  },
  {
   "cell_type": "markdown",
   "metadata": {},
   "source": [
    "#### match regions: final_loc -> co_code -> co_name -> row in CF table"
   ]
  },
  {
   "cell_type": "code",
   "execution_count": 35,
   "metadata": {
    "scrolled": true
   },
   "outputs": [],
   "source": [
    "with open('/home/sipeng2/2021RA_ESD/RegEcoData/data/tech_vector/final_loc_set.p', 'rb') as i:\n",
    "    final_loc_set = pickle.load(i)"
   ]
  },
  {
   "cell_type": "code",
   "execution_count": 36,
   "metadata": {},
   "outputs": [],
   "source": [
    "eco_geo = pd.read_excel (r'../../../ecoinvent_database/eiv3.7_geographies_names_coordinates_shortcuts_overlaps.xlsx',\n",
    "                         sheet_name='list of geographies',keep_default_na=False, engine='openpyxl')\n",
    "shortcut_eco_loc = eco_geo.set_index('shortname')['name'].to_dict()"
   ]
  },
  {
   "cell_type": "code",
   "execution_count": 45,
   "metadata": {
    "scrolled": true
   },
   "outputs": [],
   "source": [
    "for category in categories:\n",
    "    \n",
    "    CF_final_loc_df = pd.DataFrame(columns=cf_dict[category].columns.tolist())\n",
    "    df = cf_dict[category]\n",
    "    \n",
    "    #add missing CF: Kosovo -> Europe. Hong Kong, Taiwan, Province of China-> China\n",
    "    df.loc['Kosovo'] = df.loc['Europe'] \n",
    "    df.loc['Hong Kong'] = df.loc['Asia'] \n",
    "    df.loc['Taiwan, Province of China'] = df.loc['Asia']  \n",
    "    \n",
    "    # final_loc -> co_code -> co_name -> CF\n",
    "    for loc in final_loc_set:\n",
    "        if loc=='Canada without Quebec':\n",
    "            co_code = 'CA'\n",
    "        else:\n",
    "            co_code = loc[:2]\n",
    "        co = shortcut_eco_loc[co_code]\n",
    "        CF_final_loc_df.loc[loc]=df.loc[co]\n",
    "    CF_final_loc_df.loc['World average']=df.loc['World average']\n",
    "    \n",
    "    CF_final_loc_df = CF_final_loc_df.sort_index()\n",
    "    CF_final_loc_df.to_csv(f'intermediate_data/landuse_{category.lower()}_CF_with_final_location.csv')"
   ]
  },
  {
   "cell_type": "markdown",
   "metadata": {},
   "source": [
    "#### match impact categories: bio flow code -> bio flow name -> column in CF table"
   ]
  },
  {
   "cell_type": "code",
   "execution_count": 38,
   "metadata": {},
   "outputs": [],
   "source": [
    "def load_json(path):\n",
    "    with open(path, 'r') as i:\n",
    "        json_dict = json.load(i)\n",
    "    return json_dict"
   ]
  },
  {
   "cell_type": "code",
   "execution_count": 39,
   "metadata": {},
   "outputs": [
    {
     "data": {
      "text/plain": [
       "{'Occupation, annual crop': ['Occupation', 'Annual crops'],\n",
       " 'Occupation, annual crop, flooded crop': ['Occupation', 'Annual crops'],\n",
       " 'Occupation, annual crop, greenhouse': ['Occupation', 'Annual crops'],\n",
       " 'Occupation, annual crop, irrigated': ['Occupation', 'Annual crops'],\n",
       " 'Occupation, annual crop, irrigated, extensive': ['Occupation',\n",
       "  'Annual crops'],\n",
       " 'Occupation, annual crop, irrigated, intensive': ['Occupation',\n",
       "  'Annual crops'],\n",
       " 'Occupation, annual crop, non-irrigated': ['Occupation', 'Annual crops'],\n",
       " 'Occupation, annual crop, non-irrigated, extensive': ['Occupation',\n",
       "  'Annual crops'],\n",
       " 'Occupation, annual crop, non-irrigated, intensive': ['Occupation',\n",
       "  'Annual crops'],\n",
       " 'Occupation, arable land, unspecified use': ['Occupation', 'Annual crops'],\n",
       " 'Occupation, arable, conservation tillage (obsolete)': ['Occupation',\n",
       "  'Annual crops'],\n",
       " 'Occupation, arable, conventional tillage (obsolete)': ['Occupation',\n",
       "  'Annual crops'],\n",
       " 'Occupation, arable, reduced tillage (obsolete)': ['Occupation',\n",
       "  'Annual crops'],\n",
       " 'Occupation, bare area (non-use)': ['Occupation', 'Urban'],\n",
       " 'Occupation, construction site': ['Occupation', 'Urban'],\n",
       " 'Occupation, cropland fallow (non-use)': ['Occupation', 'Annual crops'],\n",
       " 'Occupation, dump site': ['Occupation', 'Urban'],\n",
       " 'Occupation, field margin/hedgerow': ['Occupation', 'Annual crops'],\n",
       " 'Occupation, forest, extensive': ['Occupation', 'Extensive forestry'],\n",
       " 'Occupation, forest, intensive': ['Occupation', 'Intensive forestry'],\n",
       " 'Occupation, forest, primary (non-use)': ['Occupation', 'Natural'],\n",
       " 'Occupation, forest, secondary (non-use)': ['Occupation', 'Natural'],\n",
       " 'Occupation, forest, unspecified': ['Occupation', 'Intensive forestry'],\n",
       " 'Occupation, grassland, natural (non-use)': ['Occupation', 'Natural'],\n",
       " 'Occupation, grassland, natural, for livestock grazing': ['Occupation',\n",
       "  'Pasture'],\n",
       " 'Occupation, heterogeneous, agricultural': ['Occupation', 'Annual crops'],\n",
       " 'Occupation, industrial area': ['Occupation', 'Urban'],\n",
       " 'Occupation, inland waterbody, unspecified': ['Occupation', 'Natural'],\n",
       " 'Occupation, lake, artificial': ['Occupation', 'Urban'],\n",
       " 'Occupation, lake, natural (non-use)': ['Occupation', 'Natural'],\n",
       " 'Occupation, mineral extraction site': ['Occupation', 'Urban'],\n",
       " 'Occupation, pasture, man made': ['Occupation', 'Pasture'],\n",
       " 'Occupation, pasture, man made, extensive': ['Occupation', 'Pasture'],\n",
       " 'Occupation, pasture, man made, intensive': ['Occupation', 'Pasture'],\n",
       " 'Occupation, permanent crop': ['Occupation', 'Permanent crops'],\n",
       " 'Occupation, permanent crop, irrigated': ['Occupation', 'Permanent crops'],\n",
       " 'Occupation, permanent crop, irrigated, extensive': ['Occupation',\n",
       "  'Permanent crops'],\n",
       " 'Occupation, permanent crop, irrigated, intensive': ['Occupation',\n",
       "  'Permanent crops'],\n",
       " 'Occupation, permanent crop, non-irrigated': ['Occupation',\n",
       "  'Permanent crops'],\n",
       " 'Occupation, permanent crop, non-irrigated, extensive': ['Occupation',\n",
       "  'Permanent crops'],\n",
       " 'Occupation, permanent crop, non-irrigated, intensive': ['Occupation',\n",
       "  'Permanent crops'],\n",
       " 'Occupation, river, artificial': ['Occupation', 'Urban'],\n",
       " 'Occupation, river, natural (non-use)': ['Occupation', 'Natural'],\n",
       " 'Occupation, seabed, drilling and mining': ['Occupation', 'Natural'],\n",
       " 'Occupation, seabed, infrastructure': ['Occupation', 'Natural'],\n",
       " 'Occupation, seabed, natural (non-use)': ['Occupation', 'Natural'],\n",
       " 'Occupation, seabed, unspecified': ['Occupation', 'Natural'],\n",
       " 'Occupation, shrub land, sclerophyllous': ['Occupation',\n",
       "  'Extensive forestry'],\n",
       " 'Occupation, snow and ice (non-use)': ['Occupation', 'Natural'],\n",
       " 'Occupation, traffic area, rail network': ['Occupation', 'Urban'],\n",
       " 'Occupation, traffic area, rail/road embankment': ['Occupation', 'Urban'],\n",
       " 'Occupation, traffic area, road network': ['Occupation', 'Urban'],\n",
       " 'Occupation, unspecified': ['Occupation', 'Urban'],\n",
       " 'Occupation, unspecified, natural (non-use)': ['Occupation', 'Natural'],\n",
       " 'Occupation, urban, continuously built': ['Occupation', 'Urban'],\n",
       " 'Occupation, urban, discontinuously built': ['Occupation', 'Urban'],\n",
       " 'Occupation, urban, green area': ['Occupation', 'Urban'],\n",
       " 'Occupation, urban/industrial fallow (non-use)': ['Occupation', 'Urban'],\n",
       " 'Occupation, wetland, coastal (non-use)': ['Occupation', 'Natural'],\n",
       " 'Occupation, wetland, inland (non-use)': ['Occupation', 'Natural'],\n",
       " 'Transformation, from annual crop': ['Transformation', 'Annual crops'],\n",
       " 'Transformation, from annual crop, flooded crop': ['Transformation',\n",
       "  'Annual crops'],\n",
       " 'Transformation, from annual crop, greenhouse': ['Transformation',\n",
       "  'Annual crops'],\n",
       " 'Transformation, from annual crop, irrigated': ['Transformation',\n",
       "  'Annual crops'],\n",
       " 'Transformation, from annual crop, irrigated, extensive': ['Transformation',\n",
       "  'Annual crops'],\n",
       " 'Transformation, from annual crop, irrigated, intensive': ['Transformation',\n",
       "  'Annual crops'],\n",
       " 'Transformation, from annual crop, non-irrigated': ['Transformation',\n",
       "  'Annual crops'],\n",
       " 'Transformation, from annual crop, non-irrigated, extensive': ['Transformation',\n",
       "  'Annual crops'],\n",
       " 'Transformation, from annual crop, non-irrigated, intensive': ['Transformation',\n",
       "  'Annual crops'],\n",
       " 'Transformation, from arable land, unspecified use': ['Transformation',\n",
       "  'Pasture'],\n",
       " 'Transformation, from bare area (non-use)': ['Transformation', 'Natural'],\n",
       " 'Transformation, from cropland fallow (non-use)': ['Transformation',\n",
       "  'Pasture'],\n",
       " 'Transformation, from dump site': ['Transformation', 'Urban'],\n",
       " 'Transformation, from dump site, inert material landfill': ['Transformation',\n",
       "  'Urban'],\n",
       " 'Transformation, from dump site, residual material landfill': ['Transformation',\n",
       "  'Urban'],\n",
       " 'Transformation, from dump site, sanitary landfill': ['Transformation',\n",
       "  'Urban'],\n",
       " 'Transformation, from dump site, slag compartment': ['Transformation',\n",
       "  'Urban'],\n",
       " 'Transformation, from field margin/hedgerow': ['Transformation', 'Pasture'],\n",
       " 'Transformation, from forest, extensive': ['Transformation',\n",
       "  'Extensive forestry'],\n",
       " 'Transformation, from forest, intensive': ['Transformation',\n",
       "  'Intensive forestry'],\n",
       " 'Transformation, from forest, primary (non-use)': ['Transformation',\n",
       "  'Natural'],\n",
       " 'Transformation, from forest, secondary (non-use)': ['Transformation',\n",
       "  'Natural'],\n",
       " 'Transformation, from forest, unspecified': ['Transformation', 'Natural'],\n",
       " 'Transformation, from grassland, natural (non-use)': ['Transformation',\n",
       "  'Natural'],\n",
       " 'Transformation, from grassland, natural, for livestock grazing': ['Transformation',\n",
       "  'Natural'],\n",
       " 'Transformation, from heterogeneous, agricultural': ['Transformation',\n",
       "  'Pasture'],\n",
       " 'Transformation, from industrial area': ['Transformation', 'Urban'],\n",
       " 'Transformation, from inland waterbody, unspecified': ['Transformation',\n",
       "  'Natural'],\n",
       " 'Transformation, from lake, artificial': ['Transformation', 'Natural'],\n",
       " 'Transformation, from lake, natural (non-use)': ['Transformation', 'Natural'],\n",
       " 'Transformation, from mineral extraction site': ['Transformation', 'Urban'],\n",
       " 'Transformation, from pasture, man made': ['Transformation', 'Pasture'],\n",
       " 'Transformation, from pasture, man made, extensive': ['Transformation',\n",
       "  'Pasture'],\n",
       " 'Transformation, from pasture, man made, intensive': ['Transformation',\n",
       "  'Pasture'],\n",
       " 'Transformation, from permanent crop': ['Transformation', 'Permanent crops'],\n",
       " 'Transformation, from permanent crop, irrigated': ['Transformation',\n",
       "  'Permanent crops'],\n",
       " 'Transformation, from permanent crop, irrigated, extensive': ['Transformation',\n",
       "  'Permanent crops'],\n",
       " 'Transformation, from permanent crop, irrigated, intensive': ['Transformation',\n",
       "  'Permanent crops'],\n",
       " 'Transformation, from permanent crop, non-irrigated': ['Transformation',\n",
       "  'Permanent crops'],\n",
       " 'Transformation, from permanent crop, non-irrigated, extensive': ['Transformation',\n",
       "  'Permanent crops'],\n",
       " 'Transformation, from permanent crop, non-irrigated, intensive': ['Transformation',\n",
       "  'Permanent crops'],\n",
       " 'Transformation, from river, artificial': ['Transformation', 'Natural'],\n",
       " 'Transformation, from river, natural (non-use)': ['Transformation',\n",
       "  'Natural'],\n",
       " 'Transformation, from seabed, drilling and mining': ['Transformation',\n",
       "  'Natural'],\n",
       " 'Transformation, from seabed, infrastructure': ['Transformation', 'Natural'],\n",
       " 'Transformation, from seabed, natural (non-use)': ['Transformation',\n",
       "  'Natural'],\n",
       " 'Transformation, from seabed, unspecified': ['Transformation', 'Natural'],\n",
       " 'Transformation, from shrub land, sclerophyllous': ['Transformation',\n",
       "  'Natural'],\n",
       " 'Transformation, from snow and ice (non-use)': ['Transformation', 'Natural'],\n",
       " 'Transformation, from traffic area, rail network': ['Transformation',\n",
       "  'Urban'],\n",
       " 'Transformation, from traffic area, rail/road embankment': ['Transformation',\n",
       "  'Urban'],\n",
       " 'Transformation, from traffic area, road network': ['Transformation',\n",
       "  'Urban'],\n",
       " 'Transformation, from unspecified': ['Transformation', 'Natural'],\n",
       " 'Transformation, from unspecified, natural (non-use)': ['Transformation',\n",
       "  'Natural'],\n",
       " 'Transformation, from urban, continuously built': ['Transformation', 'Urban'],\n",
       " 'Transformation, from urban, discontinuously built': ['Transformation',\n",
       "  'Urban'],\n",
       " 'Transformation, from urban, green area': ['Transformation', 'Urban'],\n",
       " 'Transformation, from urban/industrial fallow (non-use)': ['Transformation',\n",
       "  'Urban'],\n",
       " 'Transformation, from wetland, coastal (non-use)': ['Transformation',\n",
       "  'Natural'],\n",
       " 'Transformation, from wetland, inland (non-use)': ['Transformation',\n",
       "  'Natural'],\n",
       " 'Transformation, to annual crop': ['Transformation', 'Annual crops'],\n",
       " 'Transformation, to annual crop, flooded crop': ['Transformation',\n",
       "  'Annual crops'],\n",
       " 'Transformation, to annual crop, greenhouse': ['Transformation',\n",
       "  'Annual crops'],\n",
       " 'Transformation, to annual crop, irrigated': ['Transformation',\n",
       "  'Annual crops'],\n",
       " 'Transformation, to annual crop, irrigated, extensive': ['Transformation',\n",
       "  'Annual crops'],\n",
       " 'Transformation, to annual crop, irrigated, intensive': ['Transformation',\n",
       "  'Annual crops'],\n",
       " 'Transformation, to annual crop, non-irrigated': ['Transformation',\n",
       "  'Annual crops'],\n",
       " 'Transformation, to annual crop, non-irrigated, extensive': ['Transformation',\n",
       "  'Annual crops'],\n",
       " 'Transformation, to annual crop, non-irrigated, intensive': ['Transformation',\n",
       "  'Annual crops'],\n",
       " 'Transformation, to arable land, unspecified use': ['Transformation',\n",
       "  'Annual crops'],\n",
       " 'Transformation, to bare area (non-use)': ['Transformation', 'Urban'],\n",
       " 'Transformation, to cropland fallow (non-use)': ['Transformation',\n",
       "  'Annual crops'],\n",
       " 'Transformation, to dump site': ['Transformation', 'Urban'],\n",
       " 'Transformation, to dump site, inert material landfill': ['Transformation',\n",
       "  'Urban'],\n",
       " 'Transformation, to dump site, residual material landfill': ['Transformation',\n",
       "  'Urban'],\n",
       " 'Transformation, to dump site, sanitary landfill': ['Transformation',\n",
       "  'Urban'],\n",
       " 'Transformation, to dump site, slag compartment': ['Transformation', 'Urban'],\n",
       " 'Transformation, to field margin/hedgerow': ['Transformation',\n",
       "  'Annual crops'],\n",
       " 'Transformation, to forest, extensive': ['Transformation',\n",
       "  'Extensive forestry'],\n",
       " 'Transformation, to forest, intensive': ['Transformation',\n",
       "  'Intensive forestry'],\n",
       " 'Transformation, to forest, primary (non-use)': ['Transformation', 'Natural'],\n",
       " 'Transformation, to forest, secondary (non-use)': ['Transformation',\n",
       "  'Natural'],\n",
       " 'Transformation, to forest, unspecified': ['Transformation',\n",
       "  'Intensive forestry'],\n",
       " 'Transformation, to grassland, natural (non-use)': ['Transformation',\n",
       "  'Pasture'],\n",
       " 'Transformation, to grassland, natural, for livestock grazing': ['Transformation',\n",
       "  'Pasture'],\n",
       " 'Transformation, to heterogeneous, agricultural': ['Transformation',\n",
       "  'Annual crops'],\n",
       " 'Transformation, to industrial area': ['Transformation', 'Urban'],\n",
       " 'Transformation, to inland waterbody, unspecified': ['Transformation',\n",
       "  'Natural'],\n",
       " 'Transformation, to lake, artificial': ['Transformation', 'Urban'],\n",
       " 'Transformation, to lake, natural (non-use)': ['Transformation', 'Natural'],\n",
       " 'Transformation, to mineral extraction site': ['Transformation', 'Urban'],\n",
       " 'Transformation, to pasture, man made': ['Transformation', 'Pasture'],\n",
       " 'Transformation, to pasture, man made, extensive': ['Transformation',\n",
       "  'Pasture'],\n",
       " 'Transformation, to pasture, man made, intensive': ['Transformation',\n",
       "  'Pasture'],\n",
       " 'Transformation, to permanent crop': ['Transformation', 'Permanent crops'],\n",
       " 'Transformation, to permanent crop, irrigated': ['Transformation',\n",
       "  'Permanent crops'],\n",
       " 'Transformation, to permanent crop, irrigated, extensive': ['Transformation',\n",
       "  'Permanent crops'],\n",
       " 'Transformation, to permanent crop, irrigated, intensive': ['Transformation',\n",
       "  'Permanent crops'],\n",
       " 'Transformation, to permanent crop, non-irrigated': ['Transformation',\n",
       "  'Permanent crops'],\n",
       " 'Transformation, to permanent crop, non-irrigated, extensive': ['Transformation',\n",
       "  'Permanent crops'],\n",
       " 'Transformation, to permanent crop, non-irrigated, intensive': ['Transformation',\n",
       "  'Permanent crops'],\n",
       " 'Transformation, to river, artificial': ['Transformation', 'Urban'],\n",
       " 'Transformation, to river, natural (non-use)': ['Transformation', 'Natural'],\n",
       " 'Transformation, to seabed, drilling and mining': ['Transformation',\n",
       "  'Natural'],\n",
       " 'Transformation, to seabed, infrastructure': ['Transformation', 'Natural'],\n",
       " 'Transformation, to seabed, natural (non-use)': ['Transformation', 'Natural'],\n",
       " 'Transformation, to seabed, unspecified': ['Transformation', 'Natural'],\n",
       " 'Transformation, to shrub land, sclerophyllous': ['Transformation',\n",
       "  'Extensive forestry'],\n",
       " 'Transformation, to snow and ice (non-use)': ['Transformation', 'Natural'],\n",
       " 'Transformation, to traffic area, rail network': ['Transformation', 'Urban'],\n",
       " 'Transformation, to traffic area, rail/road embankment': ['Transformation',\n",
       "  'Urban'],\n",
       " 'Transformation, to traffic area, road network': ['Transformation', 'Urban'],\n",
       " 'Transformation, to unspecified': ['Transformation', 'Urban'],\n",
       " 'Transformation, to unspecified, natural (non-use)': ['Transformation',\n",
       "  'Natural'],\n",
       " 'Transformation, to urban, continuously built': ['Transformation', 'Urban'],\n",
       " 'Transformation, to urban, discontinuously built': ['Transformation',\n",
       "  'Urban'],\n",
       " 'Transformation, to urban, green area': ['Transformation', 'Urban'],\n",
       " 'Transformation, to urban/industrial fallow (non-use)': ['Transformation',\n",
       "  'Urban'],\n",
       " 'Transformation, to wetland, coastal (non-use)': ['Transformation',\n",
       "  'Natural'],\n",
       " 'Transformation, to wetland, inland (non-use)': ['Transformation', 'Natural']}"
      ]
     },
     "execution_count": 39,
     "metadata": {},
     "output_type": "execute_result"
    }
   ],
   "source": [
    "lu_category_to_elemflows = load_json('matching_dictionaries/landuse_category_to_ei_elementary_flows.json')\n",
    "lu_category_to_elemflows"
   ]
  },
  {
   "cell_type": "code",
   "execution_count": 59,
   "metadata": {},
   "outputs": [
    {
     "data": {
      "text/plain": [
       "180"
      ]
     },
     "execution_count": 59,
     "metadata": {},
     "output_type": "execute_result"
    }
   ],
   "source": [
    "len(lu_category_to_elemflows)"
   ]
  },
  {
   "cell_type": "code",
   "execution_count": 40,
   "metadata": {},
   "outputs": [],
   "source": [
    "bw.projects.set_current('regeco')\n",
    "bio = bw.Database('biosphere3').load()"
   ]
  },
  {
   "cell_type": "code",
   "execution_count": 41,
   "metadata": {},
   "outputs": [
    {
     "data": {
      "text/plain": [
       "{'Transformation, from unknown', 'Transformation, to unknown'}"
      ]
     },
     "execution_count": 41,
     "metadata": {},
     "output_type": "execute_result"
    }
   ],
   "source": [
    "# all bio flow with occupation or transformation in the name\n",
    "lu_flow_eco = []\n",
    "for k, v in bio.items():\n",
    "    if 'Occupation' in v['name'] or 'Transformation' in v['name']:\n",
    "        lu_flow_eco.append(v['name'])\n",
    "set(lu_flow_eco).difference(set(lu_category_to_elemflows.keys())) # the following two are not in dict"
   ]
  },
  {
   "cell_type": "code",
   "execution_count": 42,
   "metadata": {
    "scrolled": true
   },
   "outputs": [
    {
     "data": {
      "text/plain": [
       "{'Occupation, annual crop, flooded crop',\n",
       " 'Occupation, annual crop, irrigated, extensive',\n",
       " 'Occupation, arable, conservation tillage (obsolete)',\n",
       " 'Occupation, arable, conventional tillage (obsolete)',\n",
       " 'Occupation, arable, reduced tillage (obsolete)',\n",
       " 'Occupation, bare area (non-use)',\n",
       " 'Occupation, cropland fallow (non-use)',\n",
       " 'Occupation, field margin/hedgerow',\n",
       " 'Occupation, forest, primary (non-use)',\n",
       " 'Occupation, forest, secondary (non-use)',\n",
       " 'Occupation, forest, unspecified',\n",
       " 'Occupation, heterogeneous, agricultural',\n",
       " 'Occupation, lake, natural (non-use)',\n",
       " 'Occupation, permanent crop, irrigated, extensive',\n",
       " 'Occupation, permanent crop, non-irrigated, extensive',\n",
       " 'Occupation, river, natural (non-use)',\n",
       " 'Occupation, seabed, natural (non-use)',\n",
       " 'Occupation, snow and ice (non-use)',\n",
       " 'Occupation, wetland, coastal (non-use)',\n",
       " 'Occupation, wetland, inland (non-use)',\n",
       " 'Transformation, from annual crop, flooded crop',\n",
       " 'Transformation, from annual crop, irrigated, extensive',\n",
       " 'Transformation, from bare area (non-use)',\n",
       " 'Transformation, from dump site',\n",
       " 'Transformation, from field margin/hedgerow',\n",
       " 'Transformation, from inland waterbody, unspecified',\n",
       " 'Transformation, from lake, artificial',\n",
       " 'Transformation, from lake, natural (non-use)',\n",
       " 'Transformation, from permanent crop, irrigated, extensive',\n",
       " 'Transformation, from permanent crop, non-irrigated, extensive',\n",
       " 'Transformation, from river, artificial',\n",
       " 'Transformation, from seabed, drilling and mining',\n",
       " 'Transformation, from seabed, natural (non-use)',\n",
       " 'Transformation, from snow and ice (non-use)',\n",
       " 'Transformation, from traffic area, rail network',\n",
       " 'Transformation, from unknown',\n",
       " 'Transformation, from urban, discontinuously built',\n",
       " 'Transformation, from urban/industrial fallow (non-use)',\n",
       " 'Transformation, from wetland, coastal (non-use)',\n",
       " 'Transformation, to annual crop, flooded crop',\n",
       " 'Transformation, to bare area (non-use)',\n",
       " 'Transformation, to field margin/hedgerow',\n",
       " 'Transformation, to forest, primary (non-use)',\n",
       " 'Transformation, to lake, natural (non-use)',\n",
       " 'Transformation, to permanent crop, irrigated, extensive',\n",
       " 'Transformation, to permanent crop, non-irrigated, extensive',\n",
       " 'Transformation, to river, natural (non-use)',\n",
       " 'Transformation, to seabed, natural (non-use)',\n",
       " 'Transformation, to snow and ice (non-use)',\n",
       " 'Transformation, to unknown',\n",
       " 'Transformation, to urban, green area',\n",
       " 'Transformation, to wetland, coastal (non-use)'}"
      ]
     },
     "execution_count": 42,
     "metadata": {},
     "output_type": "execute_result"
    }
   ],
   "source": [
    "# the missing two are also not used as exchanges in our study\n",
    "with open('../../data/final_matrix/biosphere_index.p', 'rb') as i:\n",
    "    bio_index = pickle.load(i)\n",
    "act_flows = []\n",
    "for ind in bio_index:\n",
    "    bio_key = ('biosphere3',ind)\n",
    "    if 'Occupation' in bio[bio_key]['name'] or 'Transformation' in bio[bio_key]['name']:\n",
    "        act_flows.append(bio[bio_key]['name'])\n",
    "set(lu_flow_eco).difference(act_flows)"
   ]
  },
  {
   "cell_type": "code",
   "execution_count": null,
   "metadata": {},
   "outputs": [],
   "source": []
  },
  {
   "cell_type": "code",
   "execution_count": 46,
   "metadata": {},
   "outputs": [],
   "source": [
    "code_to_name = {b['code']:b['name'] for b in bio.values() if b['name'] in lu_category_to_elemflows}\n",
    "to_from = {code:-1 if name.split(' ')[1]=='from' else 1 for code,name in code_to_name.items()}"
   ]
  },
  {
   "cell_type": "code",
   "execution_count": 48,
   "metadata": {},
   "outputs": [],
   "source": [
    "for category in categories:\n",
    "    CF_final_loc_df = pd.read_csv(f'intermediate_data/landuse_{category.lower()}_CF_with_final_location.csv', index_col = 0, keep_default_na=False)\n",
    "    CF_final_loc_biocode_df = pd.DataFrame(index = CF_final_loc_df.index.tolist())\n",
    "    for code,name in code_to_name.items(): \n",
    "        if category in name:\n",
    "            CF_final_loc_biocode_df[code] = CF_final_loc_df[tuple(lu_category_to_elemflows[name])[1]]*to_from[code]\n",
    "    CF_final_loc_biocode_df = CF_final_loc_biocode_df.reindex(sorted(CF_final_loc_biocode_df.columns), axis=1)\n",
    "    CF_final_loc_biocode_df.to_csv(f'prepared_characterization_factors/prepared_land_use_{category.lower()}_CF.csv')"
   ]
  },
  {
   "cell_type": "markdown",
   "metadata": {},
   "source": [
    "# Water use \n",
    "## Load data"
   ]
  },
  {
   "cell_type": "code",
   "execution_count": 51,
   "metadata": {},
   "outputs": [
    {
     "name": "stdout",
     "output_type": "stream",
     "text": [
      "CPU times: user 29.9 ms, sys: 6.73 ms, total: 36.7 ms\n",
      "Wall time: 35.3 ms\n"
     ]
    }
   ],
   "source": [
    "path_to_file = os.path.abspath('./raw_data/AWARE_country_regions_world_april2016_modified_region_name.xlsx')\n",
    "%time excel_file = pd.ExcelFile(path_to_file,engine='openpyxl')"
   ]
  },
  {
   "cell_type": "code",
   "execution_count": 52,
   "metadata": {},
   "outputs": [
    {
     "data": {
      "text/plain": [
       "['AWARE', 'AWARE monthly', 'Spatio-Temporal Variability']"
      ]
     },
     "execution_count": 52,
     "metadata": {},
     "output_type": "execute_result"
    }
   ],
   "source": [
    "excel_file.sheet_names"
   ]
  },
  {
   "cell_type": "code",
   "execution_count": 53,
   "metadata": {
    "scrolled": true
   },
   "outputs": [
    {
     "name": "stderr",
     "output_type": "stream",
     "text": [
      "/home/sipeng2/miniconda3/envs/regeco/lib/python3.6/site-packages/ipykernel_launcher.py:5: FutureWarning: The pandas.np module is deprecated and will be removed from pandas in a future version. Import numpy directly instead\n",
      "  \"\"\"\n"
     ]
    },
    {
     "data": {
      "text/plain": [
       "227"
      ]
     },
     "execution_count": 53,
     "metadata": {},
     "output_type": "execute_result"
    }
   ],
   "source": [
    "aware = pd.read_excel(excel_file, sheet_name='AWARE', skiprows=2, usecols='A:D')\n",
    "aware.dropna(axis=0, how='all', inplace=True) #drop three rows where all values are na (blank)\n",
    "aware.fillna(axis=1, method='ffill', inplace=True) #propagate non-null values forward, column-wise \n",
    "aware_unknown = aware[['COUNTRY', 'UNKNOWN']]\n",
    "aware_unknown = aware_unknown[aware_unknown.applymap(pd.np.isreal)['UNKNOWN']] # remove those with text\n",
    "aware_unknown.set_index('COUNTRY', inplace=True)\n",
    "aware_cf = aware_unknown['UNKNOWN']\n",
    "len(aware_cf)"
   ]
  },
  {
   "cell_type": "markdown",
   "metadata": {},
   "source": [
    "## Match to ecoinvent"
   ]
  },
  {
   "cell_type": "markdown",
   "metadata": {},
   "source": [
    "### regions"
   ]
  },
  {
   "cell_type": "code",
   "execution_count": 55,
   "metadata": {
    "scrolled": true
   },
   "outputs": [],
   "source": [
    "aware_final_loc_df = pd.DataFrame(columns=aware_unknown.columns.tolist())\n",
    "df = aware_unknown\n",
    "\n",
    "#add missing CF: South Sudan -> RAF. Kosovo -> Europe. Curaçao -> RLA. Hongkong, Taiwan -> RAS\n",
    "df.loc['Kosovo'] = df.loc['RER'] \n",
    "df.loc['South Sudan'] = df.loc['RAF'] \n",
    "df.loc['Curaçao'] = df.loc['RLA'] \n",
    "df.loc['Hong Kong'] = df.loc['RAS'] \n",
    "df.loc['Taiwan, Province of China'] = df.loc['RAS']  \n",
    "\n",
    "# final_loc -> co_code -> co_name -> CF\n",
    "for loc in final_loc_set:\n",
    "    if loc=='Canada without Quebec':\n",
    "        co_code = 'CA'\n",
    "    else:\n",
    "        co_code = loc[:2]\n",
    "    co = shortcut_eco_loc[co_code]\n",
    "    aware_final_loc_df.loc[loc]=df.loc[co]\n",
    "aware_final_loc_df.loc['World average']=df.loc['World, UNKNOWN']\n",
    "\n",
    "aware_final_loc_df = aware_final_loc_df.sort_index() #by index (final loc)\n",
    "aware_final_loc_df.to_csv(f'intermediate_data/aware_CF_with_final_location.csv')"
   ]
  },
  {
   "cell_type": "markdown",
   "metadata": {},
   "source": [
    "### Elementary flows"
   ]
  },
  {
   "cell_type": "code",
   "execution_count": 23,
   "metadata": {},
   "outputs": [],
   "source": [
    "aware_flow_factors = load_json('matching_dictionaries/wateruse_elementary_flows_factors.json')\n",
    "aware_flow_factors = {tuple(k.split('|')):v for k,v in aware_flow_factors.items()}"
   ]
  },
  {
   "cell_type": "code",
   "execution_count": 24,
   "metadata": {},
   "outputs": [
    {
     "data": {
      "text/plain": [
       "{('Fresh water (obsolete)', \"('water', 'surface water')\"): -1.0,\n",
       " ('Water, cooling, unspecified natural origin',\n",
       "  \"('natural resource', 'in water')\"): 1.0,\n",
       " ('Water, lake', \"('natural resource', 'in water')\"): 1.0,\n",
       " ('Water, river', \"('natural resource', 'in water')\"): 1.0,\n",
       " ('Water, turbine use, unspecified natural origin',\n",
       "  \"('natural resource', 'in water')\"): 1.0,\n",
       " ('Water, unspecified natural origin',\n",
       "  \"('natural resource', 'in water')\"): 1.0,\n",
       " ('Water, well, in ground', \"('natural resource', 'in water')\"): 1.0,\n",
       " ('Water', \"('water', 'ground-')\"): -1.0,\n",
       " ('Water', \"('water', 'ground-, long-term')\"): -1.0,\n",
       " ('Water', \"('water', 'surface water')\"): -1.0,\n",
       " ('Water', \"('water',)\"): -1.0}"
      ]
     },
     "execution_count": 24,
     "metadata": {},
     "output_type": "execute_result"
    }
   ],
   "source": [
    "aware_flow_factors"
   ]
  },
  {
   "cell_type": "code",
   "execution_count": 25,
   "metadata": {
    "scrolled": true
   },
   "outputs": [
    {
     "data": {
      "text/plain": [
       "[('Water', ('water',), 'emission'),\n",
       " ('Water', ('water', 'fossil well'), 'emission'),\n",
       " ('Water', ('water', 'ground-'), 'emission'),\n",
       " ('Water', ('water', 'ground-, long-term'), 'emission'),\n",
       " ('Water', ('water', 'ocean'), 'emission'),\n",
       " ('Water', ('water', 'surface water'), 'emission')]"
      ]
     },
     "execution_count": 25,
     "metadata": {},
     "output_type": "execute_result"
    }
   ],
   "source": [
    "# check water relevant elementary flows\n",
    "water_flow_eco = []\n",
    "for k, v in bio.items():\n",
    "    if 'Water' in v['name'] and 'water' in v['categories']: #only consider water compartment\n",
    "#     if 'Water' in v['name'] and 'in water' in v['categories']:\n",
    "        water_flow_eco.append((v['name'], v['categories'],v['type']))\n",
    "water_flow_eco.sort()\n",
    "water_flow_eco #only consider fresh water\n",
    "# set(lu_flow_eco).difference(set(lu_category_to_elemflows.keys())) # the following two are not in dict"
   ]
  },
  {
   "cell_type": "raw",
   "metadata": {},
   "source": [
    "act_flows = []\n",
    "for ind in bio_index:\n",
    "    bio_key = ('biosphere3',ind)\n",
    "    if 'Water' in bio[bio_key]['name']:\n",
    "        biodict = bio[bio_key]\n",
    "        act_flows.append((biodict['name'], biodict['categories'],biodict['type']))\n",
    "act_flows.sort()\n",
    "act_flows"
   ]
  },
  {
   "cell_type": "code",
   "execution_count": null,
   "metadata": {},
   "outputs": [],
   "source": []
  },
  {
   "cell_type": "code",
   "execution_count": 56,
   "metadata": {
    "scrolled": true
   },
   "outputs": [],
   "source": [
    "code_to_name = {b['code']:(b['name'], str(b['categories'])) for b in bio.values() if \n",
    "                (b['name'], str(b['categories'])) in aware_flow_factors}\n",
    "# aware_final_loc_df"
   ]
  },
  {
   "cell_type": "code",
   "execution_count": 57,
   "metadata": {
    "scrolled": true
   },
   "outputs": [],
   "source": [
    "aware_CF_final_loc_biocode_df = pd.DataFrame(index = aware_final_loc_df.index.tolist())\n",
    "for code,name in code_to_name.items():\n",
    "    aware_CF_final_loc_biocode_df[code] = aware_final_loc_df['UNKNOWN']*aware_flow_factors[name]\n",
    "cols = aware_CF_final_loc_biocode_df.columns.tolist()    \n",
    "cols.sort()\n",
    "aware_CF_final_loc_biocode_df = aware_CF_final_loc_biocode_df[cols]\n",
    "aware_CF_final_loc_biocode_df.to_csv(f'prepared_characterization_factors/prepared_aware_CF.csv')"
   ]
  },
  {
   "cell_type": "code",
   "execution_count": null,
   "metadata": {},
   "outputs": [],
   "source": []
  }
 ],
 "metadata": {
  "anaconda-cloud": {},
  "kernelspec": {
   "display_name": "Python [conda env:regeco]",
   "language": "python",
   "name": "conda-env-regeco-py"
  },
  "language_info": {
   "codemirror_mode": {
    "name": "ipython",
    "version": 3
   },
   "file_extension": ".py",
   "mimetype": "text/x-python",
   "name": "python",
   "nbconvert_exporter": "python",
   "pygments_lexer": "ipython3",
   "version": "3.6.13"
  }
 },
 "nbformat": 4,
 "nbformat_minor": 2
}
