{
 "cells": [
  {
   "cell_type": "code",
   "execution_count": 1,
   "metadata": {},
   "outputs": [],
   "source": [
    "import pickle\n",
    "import collections\n",
    "import pandas as pd\n",
    "import numpy as np\n",
    "import scipy.sparse as sp\n",
    "import brightway2 as bw"
   ]
  },
  {
   "cell_type": "markdown",
   "metadata": {},
   "source": [
    "to get lca.biosphere_dict"
   ]
  },
  {
   "cell_type": "code",
   "execution_count": 2,
   "metadata": {},
   "outputs": [],
   "source": [
    "bw.projects.set_current('regeco')\n",
    "db = bw.Database('ecoinvent 3.7.1_cutoff_no_marketgroups')\n",
    "lca = bw.LCA({db.random(): 1}, bw.methods.random())\n",
    "lca.lci()"
   ]
  },
  {
   "cell_type": "markdown",
   "metadata": {},
   "source": [
    "psl"
   ]
  },
  {
   "cell_type": "code",
   "execution_count": 3,
   "metadata": {},
   "outputs": [
    {
     "data": {
      "text/plain": [
       "{'061259d7-7bcc-4298-af3a-63d084191988': 0.0,\n",
       " '062a6faf-b1a5-4a6a-aa02-47ae3ec566a8': 2.445495045908975e-15,\n",
       " '0f923637-e322-44d8-9ff2-9c765d75e253': 0.0,\n",
       " '12c7671c-e4aa-46c6-93c5-b6f9ac1c453b': 2.104990428100474e-15,\n",
       " '18636f13-f552-4136-a353-3b5a8e5f87d1': 1.5075122060866955e-15,\n",
       " '1896b498-8d13-4f58-8c17-21fe57740158': 1.5075122060866955e-15,\n",
       " '190d9910-5d04-4c97-abea-3b39682b7ed6': 2.445495045908975e-15,\n",
       " '19f84b2e-e6ff-4351-ba3a-8b650fc20d14': 1.2877265239956426e-15,\n",
       " '1b0a8570-eab4-46c2-9b67-c9b918e75676': 2.104990428100474e-15,\n",
       " '1eaa9ea4-40b8-414a-b198-5626400372e1': 2.445495045908975e-15,\n",
       " '26efe47c-92a5-4dea-b4d0-eac13e418a58': 2.445495045908975e-15,\n",
       " '2925111b-3464-4e34-9d02-b73c1c033e91': 3.749073855984148e-16,\n",
       " '2b8a0f87-bd2a-4b10-8dd9-714487f59fc9': 0.0,\n",
       " '379ba5c9-5c3a-43d0-8e2d-605ad9c39e46': 2.445495045908975e-15,\n",
       " '3afbc2d8-1b51-4d43-87a7-e68291c1e999': 1.5075122060866955e-15,\n",
       " '3b4db191-9634-4a01-a873-f3cb234785e4': 2.445495045908975e-15,\n",
       " '4b6b9b76-3199-4bd0-b11d-f8f2efbeac4e': 2.445495045908975e-15,\n",
       " '54dfbd2f-8218-4f2f-87f8-d928d8056e8e': 0.0,\n",
       " '56ec994a-eb96-42e8-93eb-4970e30e6362': 2.445495045908975e-15,\n",
       " '59ded913-17fe-4b3e-80cb-79b97cdbef9a': 1.2877265239956426e-15,\n",
       " '5d615a38-6d0a-4f3a-8973-69b333b6e814': 2.104990428100474e-15,\n",
       " '69c7d771-04fc-499e-84f8-6c7b923b8ced': 2.104990428100474e-15,\n",
       " '69dfa439-8e4e-4cae-bb0c-85a8aa8b9a73': 2.445495045908975e-15,\n",
       " '70aa745b-8bc5-4433-b2f5-d1da652ba166': 2.445495045908975e-15,\n",
       " '70c4c6d8-ed81-4763-ae6d-39e54ef0b1fa': 0.0,\n",
       " '76e1a3ec-8bf5-4eae-92f0-1020ccd46e61': 0.0,\n",
       " '7956039f-1181-42ab-b03b-ba9992733394': 2.104990428100474e-15,\n",
       " '7af0b1a6-2e8f-407a-8ac7-b02a2023155b': 0.0,\n",
       " '7e7d6ebb-8c9c-4ecb-b64b-23a8c2c908c4': 1.5075122060866955e-15,\n",
       " '817ebb8a-027d-4e4f-89c1-fe5548abcd0b': 0.0,\n",
       " '81e07a67-28e0-4392-a553-d86e54a9b8a9': 2.104990428100474e-15,\n",
       " '8222627a-0ca1-4632-894c-94d0e21064a1': 2.104990428100474e-15,\n",
       " '84b11d12-a078-44e7-9d6e-7675a0e23c4d': 0.0,\n",
       " '8c173ca1-5f74-4a6e-89e5-dd18e0f18d1a': 2.104990428100474e-15,\n",
       " '956c5f83-65c8-4607-9749-147cfb9c8f70': 2.445495045908975e-15,\n",
       " '98b723d4-3362-4b38-8b1e-1bedacfd5e27': 1.2877265239956426e-15,\n",
       " '9db06277-b6d9-4c48-8cfb-de342e928a50': 0.0,\n",
       " '9e80f7cd-47fa-4c7f-8f2c-bdb9731b3196': 2.104990428100474e-15,\n",
       " '9fd128fe-d8c5-476f-af42-2795d5f5d227': 2.104990428100474e-15,\n",
       " 'a6889a22-e99e-42ea-85cd-4a68d7975dcd': 2.104990428100474e-15,\n",
       " 'aca1714f-0040-4a65-a73a-0e38aa9f50f4': 1.0829678147363352e-15,\n",
       " 'b91d0527-9a01-4a86-b420-c62b70629ba4': 1.0829678147363352e-15,\n",
       " 'c14ea750-4a9f-41fa-bcc1-4a1d84466f43': 2.445495045908975e-15,\n",
       " 'c199261c-8234-43c5-b906-5b67707e4395': 3.749073855984148e-16,\n",
       " 'c4a82f46-381f-474c-a362-3363064b9c33': 2.104990428100474e-15,\n",
       " 'c5aafa60-495c-461c-a1d4-b262a34c45b9': 2.104990428100474e-15,\n",
       " 'c7cb5880-4219-4051-9357-10fdd08c6f2b': 2.445495045908975e-15,\n",
       " 'c9461a73-d00a-4fc7-a890-a9eda6af3185': 1.5075122060866955e-15,\n",
       " 'c991a302-884f-4882-a094-e1b8f1d4c6b0': 2.445495045908975e-15,\n",
       " 'd54bb4f8-e6d9-46dc-a8ae-e70d5d8562c2': 0.0,\n",
       " 'db1e4137-27a3-4b89-99af-42a18271c144': 0.0,\n",
       " 'e063ee9c-9850-42b5-b01e-4cc9b5ad7152': 2.104990428100474e-15,\n",
       " 'e489cce4-a80f-417d-9ae6-9fc14cc7dd49': 2.104990428100474e-15,\n",
       " 'e5824519-f945-4b2c-a81b-677290021b8a': 0.0,\n",
       " 'e780232c-898f-4606-8d21-f8589801ebe6': 1.2877265239956426e-15,\n",
       " 'e9007a6f-7244-44d4-a561-91ae1b6c6cfc': 1.5075122060866955e-15,\n",
       " 'f318deb8-ac36-47c0-bb00-e3022b583c7e': 1.5075122060866955e-15,\n",
       " 'f8ba8266-7f00-47b8-9ef0-bc81a8728d09': 0.0,\n",
       " 'fdb1b2d0-f537-401e-b845-1d93da512174': 2.104990428100474e-15,\n",
       " 'fe9c3a98-a6d2-452d-a9a4-a13e64f1b95b': 2.445495045908975e-15,\n",
       " '00907a61-b501-4f47-b688-1dc2b51d48c1': -2.922644903609007e-13,\n",
       " '04eb0695-e67b-46e5-9516-da6bde119822': 2.922644903609007e-13,\n",
       " '0782d8ff-80e5-47a7-a2ba-3ba40ab60b60': -0.0,\n",
       " '090e9aa9-a9a9-4878-9634-3ad0ba7fbc91': 2.922644903609007e-13,\n",
       " '0930b6b8-d9c6-4462-966f-ac7495b63bed': -0.0,\n",
       " '0abf9db7-b5a2-4c18-8ec6-aca3a7fb5579': 2.922644903609007e-13,\n",
       " '101f15ac-0698-49dd-b177-471a813ef78e': -2.528239614608651e-13,\n",
       " '10ebc72c-2c4b-45ea-abd8-cb7fe0805883': -2.528239614608651e-13,\n",
       " '14de323f-9e2d-4beb-b28e-6b93bae98da8': 0.0,\n",
       " '17a5a406-333f-4b9e-8852-c2de50bc9585': -0.0,\n",
       " '1a1d0d4b-6b95-4815-ad06-2ec5fe333c43': -0.0,\n",
       " '1a568858-efa8-4c2a-b46e-82b6e66b6072': 2.922644903609007e-13,\n",
       " '1e725387-0874-4acb-b026-11b30d76af56': 0.0,\n",
       " '1ef118e8-af9a-46d5-b04d-3ca10a69c51d': -0.0,\n",
       " '211de86f-2e82-4a7a-acdb-0b72232f1fa3': -2.922644903609007e-13,\n",
       " '247ddc2a-c861-43be-97f0-0183e3d12f99': 2.528239614608651e-13,\n",
       " '24edeb85-2af8-4477-b064-1cdcf1510449': -1.4478372022043422e-13,\n",
       " '29630a65-f38c-48a5-9744-c0121f586640': -0.0,\n",
       " '2c126bcc-bb63-4d63-bd72-f02a1e616809': -1.4478372022043422e-13,\n",
       " '2cb441cd-8d2e-4e5c-a208-48c4fa005c41': 1.7962367569057686e-13,\n",
       " '2e002771-9f22-43e3-9990-f06f8235700b': -1.4478372022043422e-13,\n",
       " '2e52cbfa-94d7-432b-892f-431daa71a6ef': 2.528239614608651e-13,\n",
       " '2f1e926a-ec96-432b-b2a6-bd5e3de2ff87': 2.528239614608651e-13,\n",
       " '31e4e26b-a997-4969-963d-243699aca3a8': -1.7962367569057686e-13,\n",
       " '398ed67b-081c-49c4-8b43-b666bdfd739f': -2.528239614608651e-13,\n",
       " '3f8e24d7-3d44-4a47-870f-9e3e74decca4': 1.7962367569057686e-13,\n",
       " '4624deff-2016-41d4-b2bf-3db8dab88779': 2.922644903609007e-13,\n",
       " '46b8b2fd-eb2a-413d-bc39-e7dc18a420ef': -2.922644903609007e-13,\n",
       " '46cfaeaf-f124-409f-998d-47b159051cec': 0.0,\n",
       " '49c23685-ef19-495b-9a6b-4a91a7ceb710': 2.528239614608651e-13,\n",
       " '4b420f19-0421-461e-a0b6-7efbf580089b': -2.528239614608651e-13,\n",
       " '4d166779-88fd-441b-9537-f3b974e3bff7': -1.4478372022043422e-13,\n",
       " '4da2ea28-8273-4901-9931-264169ec7731': -1.4478372022043422e-13,\n",
       " '4e1b1828-1085-46ad-a083-1868b5146537': 0.0,\n",
       " '512a5356-8059-4772-a43f-42e3c4f3d299': 2.922644903609007e-13,\n",
       " '54b82481-32a3-4e82-bac7-1df475dbc80c': 2.528239614608651e-13,\n",
       " '55beee8d-d04e-4307-bb0e-4e113dc07ee7': 2.922644903609007e-13,\n",
       " '592bf69f-8551-4611-8942-4620be0adabe': -1.4478372022043422e-13,\n",
       " '59df4945-6ee2-4ea6-9ef7-36c4f4b478f6': 1.7962367569057686e-13,\n",
       " '5eb25424-acb6-4ffa-a96a-5fdef05f6515': -2.922644903609007e-13,\n",
       " '626915e9-2424-4059-8b6a-fae47161acdf': 2.922644903609007e-13,\n",
       " '631d9552-1190-4edf-abc9-319139c90bd4': -0.0,\n",
       " '64d99cb5-3b4f-4195-b86f-c5f45b4dcd19': -2.922644903609007e-13,\n",
       " '66f25f1d-1898-4827-bcbb-ca82f15c4d02': 2.922644903609007e-13,\n",
       " '69ec5008-2c7e-408f-ac10-a31e07ded999': 2.528239614608651e-13,\n",
       " '6e02ccfc-9eb5-4a51-be9a-870c1087c833': 1.7962367569057686e-13,\n",
       " '73cba245-5969-4076-8490-75a236073196': -1.7962367569057686e-13,\n",
       " '7464da86-f239-4bef-a778-04d5818bb956': 1.4478372022043422e-13,\n",
       " '7a16b680-6d9a-4db3-a23e-0ec64aca5995': 1.4478372022043422e-13,\n",
       " '7d5b5802-3698-4be8-98f8-ab7c1a2e9328': -2.922644903609007e-13,\n",
       " '7fdc928c-f347-45e7-82d7-046acdf878ae': -2.922644903609007e-13,\n",
       " '82f2476e-988b-4d7a-bde6-5da9337d1f65': -1.4478372022043422e-13,\n",
       " '83a691df-1e4a-4cee-bcdb-17b7bd0c8c35': -2.922644903609007e-13,\n",
       " '84b65d8f-2edd-4ddd-8f68-ca28d1c681b0': 2.922644903609007e-13,\n",
       " '88e8456c-dc23-4bb4-aed5-a4186a2fbf77': 4.1503848807712896e-14,\n",
       " '8f5c8cb3-dccd-45da-9f1f-d1c61cd789c3': 2.922644903609007e-13,\n",
       " '902b828c-5b1f-4a1b-ad0f-d795eaaf067c': -0.0,\n",
       " '9089d7ad-09b1-4174-a188-8844ebde2d5d': 4.1503848807712896e-14,\n",
       " '90a5a447-af6f-421a-8201-011f07ad1150': 2.922644903609007e-13,\n",
       " '9197fa8a-1f9a-427b-91d3-113260ae6eb1': 0.0,\n",
       " '91a067cc-543a-4d73-a0c0-feb1f8935756': 2.528239614608651e-13,\n",
       " '928ba839-d6e5-4d1e-b5fd-122998a9bbe2': -0.0,\n",
       " '93ac2969-a4e9-49b5-8b97-5cbc6b9b2601': 1.7962367569057686e-13,\n",
       " '93b6b5d5-69e7-483f-ab1d-877205900970': -0.0,\n",
       " '994d61de-fbb0-4187-a4d4-b11c3c2b9102': 1.138763579902306e-13,\n",
       " '9a6a4617-dd80-4fe6-84a9-e6c5644bdf59': 0.0,\n",
       " '9b5b8c40-38fe-42fb-8130-56c15e485fd0': 0.0,\n",
       " '9c08496f-7895-44f9-8686-fe3154392da4': -0.0,\n",
       " '9cc80820-fcf9-4ea9-8e67-0aa423eba6a4': -0.0,\n",
       " '9d136389-8670-45ae-ad1d-a06848a1fd1d': -0.0,\n",
       " 'a42347d2-09f1-405e-95dd-bf6ac03765d8': 2.922644903609007e-13,\n",
       " 'a487b7db-318a-46ff-8e52-2837fab777ad': 1.7962367569057686e-13,\n",
       " 'a70beb60-354d-4dcd-b6fd-8c251357fb2a': -2.528239614608651e-13,\n",
       " 'a70f8014-0de5-477f-9f10-712b5c280b8e': 2.528239614608651e-13,\n",
       " 'a8e39acd-6e7f-4d43-973b-37e6b7c00037': -2.922644903609007e-13,\n",
       " 'a99a8eaf-2f2c-42c6-b6ce-d5686a9ca249': -2.922644903609007e-13,\n",
       " 'aa784c1b-0d0b-4c69-b631-b045d6ee61af': 1.7962367569057686e-13,\n",
       " 'ab3e851e-21c9-47cf-8e7d-5f96dfae3ba5': -2.528239614608651e-13,\n",
       " 'ac2c63cf-c657-4d33-bbc0-a5a9a1e29cf5': 2.922644903609007e-13,\n",
       " 'af41f691-3a3e-47a3-9e45-3b4d78469ae0': -1.7962367569057686e-13,\n",
       " 'b06ca23e-c6c0-478b-a65c-50e5e5dd8440': -0.0,\n",
       " 'b6dcefd8-3848-4338-9c3e-fe6e91f20937': -2.922644903609007e-13,\n",
       " 'b79e26a0-88db-441f-b79b-508506e81b93': -2.922644903609007e-13,\n",
       " 'b905c2e0-a0db-4e66-80d2-8bdfc93c6218': -0.0,\n",
       " 'b9bc9427-5808-4e9e-8c78-e7098563afb4': -0.0,\n",
       " 'ba94eeb5-4b68-4848-a86e-71a9f3b70a4c': -2.922644903609007e-13,\n",
       " 'bba9f623-5919-4ef3-b98d-c94af1553179': 1.138763579902306e-13,\n",
       " 'bbcdd18c-4d16-4c28-b031-d988884030a7': -0.0,\n",
       " 'c12ed8b5-8452-43ca-9986-a814e908e792': -0.0,\n",
       " 'c1513682-45ad-444e-afb5-27c660714e88': -2.922644903609007e-13,\n",
       " 'c3c3d385-57fa-4d47-a2c5-d838006e7985': 2.528239614608651e-13,\n",
       " 'c3f83a91-4888-41a4-add9-fd01678a1e5f': 2.528239614608651e-13,\n",
       " 'c7869c43-266c-429d-bfd5-6b578ed32ce8': -2.528239614608651e-13,\n",
       " 'c7d2cf2d-0d21-45f7-9769-b07f3e53b76a': 0.0,\n",
       " 'c8a0392e-5ef6-4988-adf6-0adf88129aa1': 2.528239614608651e-13,\n",
       " 'ce132b7d-ab1c-4df3-9656-8fe37ede77b1': 1.4478372022043422e-13,\n",
       " 'd0394db1-a1cd-4026-bf50-dd5e47331572': -1.7962367569057686e-13,\n",
       " 'd10b390c-9d0c-4f59-b31d-3d0d70e77a35': 2.922644903609007e-13,\n",
       " 'd36dd104-5214-4ca2-b1ab-c878987a42fe': 0.0,\n",
       " 'd585d599-05f1-47ff-8c41-790f51830b9b': -1.7962367569057686e-13,\n",
       " 'd73b27a2-81bd-4264-baa5-ce4aca3545be': 2.922644903609007e-13,\n",
       " 'da92cf98-87cb-437e-ab2c-205ba0639006': -0.0,\n",
       " 'dcd996a7-1c08-4b63-87d6-04bcbbe87792': -0.0,\n",
       " 'e3502f7b-0690-4b1e-8e1c-22f6886c26a1': -0.0,\n",
       " 'e717f3cc-ac70-4c9b-be56-1614239b917e': -1.138763579902306e-13,\n",
       " 'e71f95a5-fd82-4128-9fd1-be3f0e85d0fc': -4.1503848807712896e-14,\n",
       " 'e97b784a-ec09-4b1b-9f14-cc0ce9799c9e': 2.528239614608651e-13,\n",
       " 'ebb16be1-8db3-42a2-8123-418787422cfe': 0.0,\n",
       " 'ec242c43-095c-4b42-8907-e0f13573f0a4': 1.4478372022043422e-13,\n",
       " 'ede9fa50-8d76-4f6d-961f-36f701fbae4e': 0.0,\n",
       " 'f05cca02-ec18-4acc-9939-59658ff9a554': -2.528239614608651e-13,\n",
       " 'f157b88d-f288-473c-8b03-0f97b58235ff': 2.922644903609007e-13,\n",
       " 'f669a957-5574-4932-98cb-2851a12b3137': 2.922644903609007e-13,\n",
       " 'f86f2893-58e9-4cb2-b4f2-ab1d80765c2f': 0.0,\n",
       " 'fa288b80-6ef1-4e80-b534-5c2e5c492fd8': -1.7962367569057686e-13,\n",
       " 'fabbb533-f106-4786-aefc-f5ecaed20262': -2.528239614608651e-13,\n",
       " 'fcb77a5a-6882-4aeb-82a9-ba57688d2224': -1.7962367569057686e-13,\n",
       " 'fdda4f8e-b620-4df6-92a9-101a251d2f42': 2.528239614608651e-13,\n",
       " 'fe17e7c1-9574-4880-b7e6-ec09c2e3ae5d': 1.4478372022043422e-13,\n",
       " 'ff6dccc1-5ebd-42c3-9fd9-3d73db7a3dd2': 0.0}"
      ]
     },
     "execution_count": 3,
     "metadata": {},
     "output_type": "execute_result"
    }
   ],
   "source": [
    "pslglo_cfs = pd.read_csv('parse_CF_data/prepared_characterization_factors/prepared_land_use_CF.csv', index_col=0,keep_default_na=False)\n",
    "pslglo_cf_dict = pslglo_cfs.loc['World average'].to_dict()\n",
    "pslglo_cf_dict"
   ]
  },
  {
   "cell_type": "code",
   "execution_count": 4,
   "metadata": {},
   "outputs": [
    {
     "data": {
      "text/plain": [
       "<2102x2102 sparse matrix of type '<class 'numpy.float64'>'\n",
       "\twith 105 stored elements in Compressed Sparse Row format>"
      ]
     },
     "execution_count": 4,
     "metadata": {},
     "output_type": "execute_result"
    }
   ],
   "source": [
    "pslglo_cf_arr_eco = np.array([pslglo_cf_dict.get(key[1],0) for key, pos in lca.biosphere_dict.items()])\n",
    "pslglo_cf_mat_eco = sp.diags(pslglo_cf_arr_eco).tocsr()\n",
    "pslglo_cf_mat_eco"
   ]
  },
  {
   "cell_type": "code",
   "execution_count": 5,
   "metadata": {},
   "outputs": [],
   "source": [
    "with open('../data/final_matrix/CF_pslglo_glo_eco.p', 'wb') as o:\n",
    "    pickle.dump(pslglo_cf_mat_eco, o)"
   ]
  },
  {
   "cell_type": "markdown",
   "metadata": {},
   "source": [
    "aware"
   ]
  },
  {
   "cell_type": "code",
   "execution_count": 6,
   "metadata": {},
   "outputs": [],
   "source": [
    "aware_cfs = pd.read_csv('parse_CF_data/prepared_characterization_factors/prepared_aware_CF.csv', index_col=0,keep_default_na=False)\n",
    "aware_cf_dict = aware_cfs.loc['World average'].T.to_dict()"
   ]
  },
  {
   "cell_type": "code",
   "execution_count": 7,
   "metadata": {},
   "outputs": [
    {
     "data": {
      "text/plain": [
       "<2102x2102 sparse matrix of type '<class 'numpy.float64'>'\n",
       "\twith 9 stored elements in Compressed Sparse Row format>"
      ]
     },
     "execution_count": 7,
     "metadata": {},
     "output_type": "execute_result"
    }
   ],
   "source": [
    "aware_cf_arr_eco = np.array([aware_cf_dict.get(key[1],0) for key, pos in lca.biosphere_dict.items()])\n",
    "aware_cf_mat_eco = sp.diags(aware_cf_arr_eco).tocsr()\n",
    "aware_cf_mat_eco"
   ]
  },
  {
   "cell_type": "code",
   "execution_count": 8,
   "metadata": {},
   "outputs": [],
   "source": [
    "with open('../data/final_matrix/CF_aware_glo_eco.p', 'wb') as o:\n",
    "    pickle.dump(aware_cf_mat_eco, o)"
   ]
  },
  {
   "cell_type": "code",
   "execution_count": null,
   "metadata": {},
   "outputs": [],
   "source": []
  },
  {
   "cell_type": "code",
   "execution_count": 9,
   "metadata": {},
   "outputs": [],
   "source": [
    "bio_inv_dict = {v:k for k,v in lca.biosphere_dict.items()}"
   ]
  },
  {
   "cell_type": "code",
   "execution_count": 10,
   "metadata": {},
   "outputs": [
    {
     "name": "stdout",
     "output_type": "stream",
     "text": [
      "'Water, cooling, unspecified natural origin' (cubic meter, None, ('natural resource', 'in water'))\n",
      "'Water, lake' (cubic meter, None, ('natural resource', 'in water'))\n",
      "'Water, river' (cubic meter, None, ('natural resource', 'in water'))\n",
      "'Water, turbine use, unspecified natural origin' (cubic meter, None, ('natural resource', 'in water'))\n",
      "'Water, unspecified natural origin' (cubic meter, None, ('natural resource', 'in water'))\n",
      "'Water, well, in ground' (cubic meter, None, ('natural resource', 'in water'))\n",
      "'Water' (cubic meter, None, ('water', 'ground-'))\n",
      "'Water' (cubic meter, None, ('water',))\n",
      "'Water' (cubic meter, None, ('water', 'surface water'))\n"
     ]
    }
   ],
   "source": [
    "for i, v in enumerate(aware_cf_arr_eco):\n",
    "    if v:\n",
    "        b = bw.get_activity(bio_inv_dict[i])\n",
    "        print(b)"
   ]
  },
  {
   "cell_type": "code",
   "execution_count": null,
   "metadata": {},
   "outputs": [],
   "source": []
  },
  {
   "cell_type": "code",
   "execution_count": null,
   "metadata": {},
   "outputs": [],
   "source": []
  },
  {
   "cell_type": "code",
   "execution_count": null,
   "metadata": {},
   "outputs": [],
   "source": []
  }
 ],
 "metadata": {
  "kernelspec": {
   "display_name": "reg_eco",
   "language": "python",
   "name": "reg_eco"
  },
  "language_info": {
   "codemirror_mode": {
    "name": "ipython",
    "version": 3
   },
   "file_extension": ".py",
   "mimetype": "text/x-python",
   "name": "python",
   "nbconvert_exporter": "python",
   "pygments_lexer": "ipython3",
   "version": "3.6.13"
  }
 },
 "nbformat": 4,
 "nbformat_minor": 2
}
