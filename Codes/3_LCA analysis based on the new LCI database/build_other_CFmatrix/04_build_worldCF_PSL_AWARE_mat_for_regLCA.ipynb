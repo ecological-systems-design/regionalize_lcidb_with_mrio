{
 "cells": [
  {
   "cell_type": "code",
   "execution_count": 1,
   "metadata": {},
   "outputs": [],
   "source": [
    "import pickle\n",
    "import collections\n",
    "import numpy as np\n",
    "import scipy.sparse as sp\n",
    "import pandas as pd\n",
    "import brightway2 as bw\n",
    "import hashlib"
   ]
  },
  {
   "cell_type": "markdown",
   "metadata": {},
   "source": [
    "### build the CF_glo matrix based on regional CF file"
   ]
  },
  {
   "cell_type": "code",
   "execution_count": 2,
   "metadata": {},
   "outputs": [],
   "source": [
    "with open('../data/final_matrix/biosphere_index.p', 'rb') as i:\n",
    "    bio_index = pickle.load(i)"
   ]
  },
  {
   "cell_type": "code",
   "execution_count": 3,
   "metadata": {},
   "outputs": [
    {
     "data": {
      "text/plain": [
       "11"
      ]
     },
     "execution_count": 3,
     "metadata": {},
     "output_type": "execute_result"
    }
   ],
   "source": [
    "aware_cfs = pd.read_csv('parse_CF_data/prepared_characterization_factors/prepared_aware_CF.csv', index_col=0,keep_default_na=False)\n",
    "aware_cf_dict = aware_cfs.loc['World average'].T.to_dict()\n",
    "len(aware_cf_dict)"
   ]
  },
  {
   "cell_type": "code",
   "execution_count": 4,
   "metadata": {},
   "outputs": [
    {
     "data": {
      "text/plain": [
       "<2102x2102 sparse matrix of type '<class 'numpy.float64'>'\n",
       "\twith 9 stored elements in Compressed Sparse Row format>"
      ]
     },
     "execution_count": 4,
     "metadata": {},
     "output_type": "execute_result"
    }
   ],
   "source": [
    "aware_cf_array = np.array([aware_cf_dict.get(i,0) for i in bio_index])\n",
    "aware_cf_mat = sp.diags(aware_cf_array).tocsr()\n",
    "aware_cf_mat"
   ]
  },
  {
   "cell_type": "code",
   "execution_count": 5,
   "metadata": {},
   "outputs": [],
   "source": [
    "with open('../data/final_matrix/CF_aware_glo.p', 'wb') as o:\n",
    "    pickle.dump(aware_cf_mat, o)"
   ]
  },
  {
   "cell_type": "code",
   "execution_count": null,
   "metadata": {},
   "outputs": [],
   "source": []
  },
  {
   "cell_type": "code",
   "execution_count": 6,
   "metadata": {},
   "outputs": [
    {
     "data": {
      "text/plain": [
       "180"
      ]
     },
     "execution_count": 6,
     "metadata": {},
     "output_type": "execute_result"
    }
   ],
   "source": [
    "pslglo_cfs = pd.read_csv('parse_CF_data/prepared_characterization_factors/prepared_land_use_CF.csv', index_col=0,keep_default_na=False)\n",
    "pslglo_cf_dict = pslglo_cfs.loc['World average'].to_dict()\n",
    "len(pslglo_cf_dict)"
   ]
  },
  {
   "cell_type": "code",
   "execution_count": 7,
   "metadata": {},
   "outputs": [
    {
     "data": {
      "text/plain": [
       "<2102x2102 sparse matrix of type '<class 'numpy.float64'>'\n",
       "\twith 105 stored elements in Compressed Sparse Row format>"
      ]
     },
     "execution_count": 7,
     "metadata": {},
     "output_type": "execute_result"
    }
   ],
   "source": [
    "pslglo_cf_array = np.array([pslglo_cf_dict.get(i,0) for i in bio_index])\n",
    "pslglo_cf_mat = sp.diags(pslglo_cf_array).tocsr()\n",
    "pslglo_cf_mat"
   ]
  },
  {
   "cell_type": "code",
   "execution_count": 8,
   "metadata": {},
   "outputs": [],
   "source": [
    "with open('../data/final_matrix/CF_pslglo_glo.p', 'wb') as o:\n",
    "    pickle.dump(pslglo_cf_mat, o)"
   ]
  },
  {
   "cell_type": "code",
   "execution_count": null,
   "metadata": {},
   "outputs": [],
   "source": []
  }
 ],
 "metadata": {
  "anaconda-cloud": {},
  "kernelspec": {
   "display_name": "reg_eco",
   "language": "python",
   "name": "reg_eco"
  },
  "language_info": {
   "codemirror_mode": {
    "name": "ipython",
    "version": 3
   },
   "file_extension": ".py",
   "mimetype": "text/x-python",
   "name": "python",
   "nbconvert_exporter": "python",
   "pygments_lexer": "ipython3",
   "version": "3.6.13"
  }
 },
 "nbformat": 4,
 "nbformat_minor": 2
}
