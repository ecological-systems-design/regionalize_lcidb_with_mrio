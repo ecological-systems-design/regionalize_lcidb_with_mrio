{
 "cells": [
  {
   "cell_type": "markdown",
   "id": "cebde360",
   "metadata": {},
   "source": [
    "# Make technosphere matrix\n",
    "This notebook is to make technosphere matrix from the vectors of technosphere exchanges generated in notebook 2_3"
   ]
  },
  {
   "cell_type": "markdown",
   "id": "61aa37d2",
   "metadata": {},
   "source": [
    "### 1. Create technosphere matrix A"
   ]
  },
  {
   "cell_type": "code",
   "execution_count": 1,
   "id": "70c3dd1d",
   "metadata": {},
   "outputs": [],
   "source": [
    "import pickle\n",
    "import collections\n",
    "import scipy.sparse\n",
    "import numpy as np"
   ]
  },
  {
   "cell_type": "code",
   "execution_count": 3,
   "id": "7bce08fe",
   "metadata": {},
   "outputs": [],
   "source": [
    "with open('../../Data/tech_vector/regionalized_dataset_list.pickle', 'rb') as i:\n",
    "    regionalized_dataset_list = pickle.load(i)"
   ]
  },
  {
   "cell_type": "code",
   "execution_count": 4,
   "id": "c4c7f81e",
   "metadata": {},
   "outputs": [
    {
     "name": "stdout",
     "output_type": "stream",
     "text": [
      "CPU times: user 2.4 s, sys: 190 ms, total: 2.59 s\n",
      "Wall time: 2.59 s\n"
     ]
    }
   ],
   "source": [
    "get_ipython().magic('time tec_mat = scipy.sparse.hstack([d[1] for d in regionalized_dataset_list])')"
   ]
  },
  {
   "cell_type": "code",
   "execution_count": 5,
   "id": "10323a47",
   "metadata": {},
   "outputs": [
    {
     "data": {
      "text/plain": [
       "3067"
      ]
     },
     "execution_count": 5,
     "metadata": {},
     "output_type": "execute_result"
    }
   ],
   "source": [
    "# type(tec_mat) #scipy.sparse.csc.csc_matrix\n",
    "# tec_mat.shape #(335099, 335099)\n",
    "sum(tec_mat.diagonal().astype(bool))#3066 - these diagonal elements: market activity -> loss; ord trans act -> use product from itself"
   ]
  },
  {
   "cell_type": "code",
   "execution_count": 6,
   "id": "f7c39274",
   "metadata": {},
   "outputs": [
    {
     "data": {
      "text/plain": [
       "0.587301587301587"
      ]
     },
     "execution_count": 6,
     "metadata": {},
     "output_type": "execute_result"
    }
   ],
   "source": [
    "np.max(tec_mat.diagonal()) #0.587301587301587"
   ]
  },
  {
   "cell_type": "code",
   "execution_count": 7,
   "id": "4d480bf3",
   "metadata": {},
   "outputs": [
    {
     "name": "stdout",
     "output_type": "stream",
     "text": [
      "number of values in tec_mat: 92774262\n",
      "numbe rof negative values in tec_mat: 13454676\n"
     ]
    }
   ],
   "source": [
    "m = tec_mat.multiply(tec_mat < 0)\n",
    "print('number of values in tec_mat:',len(tec_mat.data))\n",
    "print('numbe rof negative values in tec_mat:',len(m.data))"
   ]
  },
  {
   "cell_type": "markdown",
   "id": "c098c56d",
   "metadata": {},
   "source": [
    "### 2. Create diagonal matrix I "
   ]
  },
  {
   "cell_type": "code",
   "execution_count": 9,
   "id": "25b3cf1d",
   "metadata": {},
   "outputs": [],
   "source": [
    "with open('../../Data/lci_iot_imported/cutoff371_no_mg.pickle', 'rb') as i:\n",
    "    datasets = pickle.load(i)\n",
    "code_dict = {d['code']:d for d in datasets}\n",
    "with open('../../Data/tech_vector/full_index.p', 'rb') as i: # [(country, mr_key),()...]\n",
    "    full_index = pickle.load(i)\n",
    "with open('../../Data/tech_vector/full_reference_dataset_dict.p', 'rb') as i: #{(country, mr_key): reference dataset}\n",
    "    reference_dataset_dict = pickle.load(i)"
   ]
  },
  {
   "cell_type": "code",
   "execution_count": 10,
   "id": "21ed1683",
   "metadata": {
    "scrolled": true
   },
   "outputs": [
    {
     "data": {
      "text/plain": [
       "Counter({1.0: 16739, -1.0: 2274})"
      ]
     },
     "execution_count": 10,
     "metadata": {},
     "output_type": "execute_result"
    }
   ],
   "source": [
    "production_amount_dict = {d['code']:d['production amount'] for d in datasets}\n",
    "collections.Counter(production_amount_dict.values())"
   ]
  },
  {
   "cell_type": "code",
   "execution_count": 11,
   "id": "6f54d04f",
   "metadata": {
    "scrolled": true
   },
   "outputs": [
    {
     "name": "stdout",
     "output_type": "stream",
     "text": [
      "CPU times: user 172 ms, sys: 7.86 ms, total: 180 ms\n",
      "Wall time: 178 ms\n",
      "335099 (335099, 335099)\n"
     ]
    }
   ],
   "source": [
    "get_ipython().magic('time production_vector = [production_amount_dict[reference_dataset_dict[i]] for i in full_index]')\n",
    "production_diags = scipy.sparse.diags(production_vector, format='coo')\n",
    "print(len(production_vector),production_diags.shape)"
   ]
  },
  {
   "cell_type": "code",
   "execution_count": 10,
   "id": "97a08481",
   "metadata": {},
   "outputs": [],
   "source": [
    "with open('../../Data/final_matrix/production_vector.p', 'wb') as o:\n",
    "    pickle.dump(production_vector, o)"
   ]
  },
  {
   "cell_type": "markdown",
   "id": "5e6ae858",
   "metadata": {},
   "source": [
    "### 3. (A-I) used for future LCI calculation"
   ]
  },
  {
   "cell_type": "code",
   "execution_count": 12,
   "id": "a5cc05be",
   "metadata": {
    "scrolled": true
   },
   "outputs": [
    {
     "name": "stdout",
     "output_type": "stream",
     "text": [
      "CPU times: user 144 ms, sys: 240 ms, total: 384 ms\n",
      "Wall time: 381 ms\n",
      "CPU times: user 2.05 ms, sys: 665 µs, total: 2.72 ms\n",
      "Wall time: 2.29 ms\n",
      "CPU times: user 5.35 s, sys: 1.03 s, total: 6.38 s\n",
      "Wall time: 6.39 s\n"
     ]
    }
   ],
   "source": [
    "get_ipython().magic('time tec_mat_abs = np.absolute(tec_mat)')\n",
    "get_ipython().magic('time production_diags_abs = np.absolute(production_diags)')\n",
    "get_ipython().magic('time technosphere_matrix_abs = scipy.sparse.csc_matrix(production_diags_abs - tec_mat_abs.tocoo())')\n",
    "with open('../../Data/final_matrix/technosphere_matrix.p', 'wb') as o:\n",
    "    pickle.dump(technosphere_matrix_abs, o)"
   ]
  },
  {
   "cell_type": "code",
   "execution_count": 13,
   "id": "0e13b7fb",
   "metadata": {},
   "outputs": [
    {
     "data": {
      "text/plain": [
       "<335099x335099 sparse matrix of type '<class 'numpy.float64'>'\n",
       "\twith 93106294 stored elements in Compressed Sparse Column format>"
      ]
     },
     "execution_count": 13,
     "metadata": {},
     "output_type": "execute_result"
    }
   ],
   "source": [
    "technosphere_matrix_abs"
   ]
  },
  {
   "cell_type": "code",
   "execution_count": 12,
   "id": "0c204041",
   "metadata": {},
   "outputs": [],
   "source": [
    "with open('../../Data/final_matrix/full_index.p', 'wb') as o:\n",
    "    pickle.dump(full_index, o)"
   ]
  }
 ],
 "metadata": {
  "kernelspec": {
   "display_name": "reg_eco",
   "language": "python",
   "name": "reg_eco"
  },
  "language_info": {
   "codemirror_mode": {
    "name": "ipython",
    "version": 3
   },
   "file_extension": ".py",
   "mimetype": "text/x-python",
   "name": "python",
   "nbconvert_exporter": "python",
   "pygments_lexer": "ipython3",
   "version": "3.6.13"
  }
 },
 "nbformat": 4,
 "nbformat_minor": 5
}
