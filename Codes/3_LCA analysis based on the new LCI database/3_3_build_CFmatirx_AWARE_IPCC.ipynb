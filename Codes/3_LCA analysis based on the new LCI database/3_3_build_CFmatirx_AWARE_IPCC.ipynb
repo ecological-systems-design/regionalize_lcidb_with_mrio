{
 "cells": [
  {
   "cell_type": "markdown",
   "metadata": {},
   "source": [
    "# Build CF matirx of AWARE and IPCC"
   ]
  },
  {
   "cell_type": "code",
   "execution_count": 1,
   "metadata": {},
   "outputs": [],
   "source": [
    "import os\n",
    "import json\n",
    "import pandas as pd\n",
    "import brightway2 as bw\n",
    "import pickle\n",
    "import numpy as np\n",
    "import scipy.sparse as sp"
   ]
  },
  {
   "cell_type": "markdown",
   "metadata": {},
   "source": [
    "### 1. Parse CFs of AWARE\n",
    "Based on the raw file of AWARE CF, get CF for each final location and water-related elementary flow in new ecoinvent"
   ]
  },
  {
   "cell_type": "markdown",
   "metadata": {
    "scrolled": true
   },
   "source": [
    "#### 1.2 Load raw file"
   ]
  },
  {
   "cell_type": "code",
   "execution_count": 18,
   "metadata": {},
   "outputs": [
    {
     "name": "stdout",
     "output_type": "stream",
     "text": [
      "CPU times: user 28.5 ms, sys: 288 µs, total: 28.8 ms\n",
      "Wall time: 27.2 ms\n"
     ]
    }
   ],
   "source": [
    "path_to_file = os.path.abspath('../../Data/cfs/AWARE_country_regions_world_april2016_modified_region_name.xlsx')\n",
    "%time excel_file = pd.ExcelFile(path_to_file,engine='openpyxl')"
   ]
  },
  {
   "cell_type": "code",
   "execution_count": 19,
   "metadata": {},
   "outputs": [
    {
     "data": {
      "text/plain": [
       "['AWARE', 'AWARE monthly', 'Spatio-Temporal Variability']"
      ]
     },
     "execution_count": 19,
     "metadata": {},
     "output_type": "execute_result"
    }
   ],
   "source": [
    "excel_file.sheet_names"
   ]
  },
  {
   "cell_type": "code",
   "execution_count": 20,
   "metadata": {
    "scrolled": true
   },
   "outputs": [
    {
     "name": "stderr",
     "output_type": "stream",
     "text": [
      "/home/sipeng2/miniconda3/envs/reg_eco/lib/python3.6/site-packages/ipykernel_launcher.py:5: FutureWarning: The pandas.np module is deprecated and will be removed from pandas in a future version. Import numpy directly instead\n",
      "  \"\"\"\n"
     ]
    },
    {
     "data": {
      "text/plain": [
       "227"
      ]
     },
     "execution_count": 20,
     "metadata": {},
     "output_type": "execute_result"
    }
   ],
   "source": [
    "aware = pd.read_excel(excel_file, sheet_name='AWARE', skiprows=2, usecols='A:D')\n",
    "aware.dropna(axis=0, how='all', inplace=True) #drop three rows where all values are na (blank)\n",
    "aware.fillna(axis=1, method='ffill', inplace=True) #propagate non-null values forward, column-wise \n",
    "aware_unknown = aware[['COUNTRY', 'UNKNOWN']]\n",
    "aware_unknown = aware_unknown[aware_unknown.applymap(pd.np.isreal)['UNKNOWN']] # remove those with text\n",
    "aware_unknown.set_index('COUNTRY', inplace=True)\n",
    "aware_cf = aware_unknown['UNKNOWN']\n",
    "len(aware_cf)"
   ]
  },
  {
   "cell_type": "markdown",
   "metadata": {},
   "source": [
    "#### 1.2 Get proper CF for each final location in new ecoinvent\n",
    "final_loc in new ecoinvent -> country_code -> country_name -> row in CF table"
   ]
  },
  {
   "cell_type": "code",
   "execution_count": 28,
   "metadata": {
    "scrolled": true
   },
   "outputs": [],
   "source": [
    "with open('../../Data/tech_vector/final_loc_set.p', 'rb') as i:\n",
    "    final_loc_set = pickle.load(i)\n",
    "    \n",
    "eco_geo = pd.read_excel (r'../../Data/ecoinvent_database/eiv3.7_geographies_names_coordinates_shortcuts_overlaps.xlsx',\n",
    "                         sheet_name='list of geographies',keep_default_na=False, engine='openpyxl')\n",
    "shortcut_eco_loc = eco_geo.set_index('shortname')['name'].to_dict()"
   ]
  },
  {
   "cell_type": "code",
   "execution_count": 30,
   "metadata": {
    "scrolled": true
   },
   "outputs": [],
   "source": [
    "aware_final_loc_df = pd.DataFrame(columns=aware_unknown.columns.tolist())\n",
    "df = aware_unknown\n",
    "\n",
    "#add missing CF: South Sudan -> RAF. Kosovo -> Europe. Curaçao -> RLA. Hongkong, Taiwan -> RAS\n",
    "df.loc['Kosovo'] = df.loc['RER'] \n",
    "df.loc['South Sudan'] = df.loc['RAF'] \n",
    "df.loc['Curaçao'] = df.loc['RLA'] \n",
    "df.loc['Hong Kong'] = df.loc['RAS'] \n",
    "df.loc['Taiwan, Province of China'] = df.loc['RAS']  \n",
    "\n",
    "# final_loc -> co_code -> co_name -> CF\n",
    "for loc in final_loc_set:\n",
    "    if loc=='Canada without Quebec':\n",
    "        co_code = 'CA'\n",
    "    else:\n",
    "        co_code = loc[:2]\n",
    "    co = shortcut_eco_loc[co_code]\n",
    "    aware_final_loc_df.loc[loc]=df.loc[co]\n",
    "aware_final_loc_df.loc['World average']=df.loc['World, UNKNOWN']\n",
    "\n",
    "aware_final_loc_df = aware_final_loc_df.sort_index() #by index (final loc)\n",
    "aware_final_loc_df.to_csv(f'../../Data/cfs/aware_CF_with_final_location.csv')"
   ]
  },
  {
   "cell_type": "markdown",
   "metadata": {},
   "source": [
    "#### 1.3 Change signs to get correct CFs for water-related elementary flows in new ecoinvent\n",
    "elementary(biosphere) flow code -> elementary flow name -> column in CF table"
   ]
  },
  {
   "cell_type": "code",
   "execution_count": 31,
   "metadata": {},
   "outputs": [],
   "source": [
    "bw.projects.set_current('regeco')\n",
    "bio = bw.Database('biosphere3').load()"
   ]
  },
  {
   "cell_type": "code",
   "execution_count": 32,
   "metadata": {},
   "outputs": [],
   "source": [
    "def load_json(path):\n",
    "    with open(path, 'r') as i:\n",
    "        json_dict = json.load(i)\n",
    "    return json_dict"
   ]
  },
  {
   "cell_type": "code",
   "execution_count": 33,
   "metadata": {},
   "outputs": [
    {
     "data": {
      "text/plain": [
       "{('Fresh water (obsolete)', \"('water', 'surface water')\"): -1.0,\n",
       " ('Water, cooling, unspecified natural origin',\n",
       "  \"('natural resource', 'in water')\"): 1.0,\n",
       " ('Water, lake', \"('natural resource', 'in water')\"): 1.0,\n",
       " ('Water, river', \"('natural resource', 'in water')\"): 1.0,\n",
       " ('Water, turbine use, unspecified natural origin',\n",
       "  \"('natural resource', 'in water')\"): 1.0,\n",
       " ('Water, unspecified natural origin',\n",
       "  \"('natural resource', 'in water')\"): 1.0,\n",
       " ('Water, well, in ground', \"('natural resource', 'in water')\"): 1.0,\n",
       " ('Water', \"('water', 'ground-')\"): -1.0,\n",
       " ('Water', \"('water', 'ground-, long-term')\"): -1.0,\n",
       " ('Water', \"('water', 'surface water')\"): -1.0,\n",
       " ('Water', \"('water',)\"): -1.0}"
      ]
     },
     "execution_count": 33,
     "metadata": {},
     "output_type": "execute_result"
    }
   ],
   "source": [
    "aware_flow_factors = load_json('../../Data/cfs/wateruse_elementary_flows_factors.json')\n",
    "aware_flow_factors = {tuple(k.split('|')):v for k,v in aware_flow_factors.items()}\n",
    "aware_flow_factors"
   ]
  },
  {
   "cell_type": "code",
   "execution_count": 34,
   "metadata": {
    "scrolled": true
   },
   "outputs": [],
   "source": [
    "code_to_name = {b['code']:(b['name'], str(b['categories'])) for b in bio.values() if \n",
    "                (b['name'], str(b['categories'])) in aware_flow_factors}"
   ]
  },
  {
   "cell_type": "code",
   "execution_count": 35,
   "metadata": {
    "scrolled": true
   },
   "outputs": [],
   "source": [
    "aware_CF_final_loc_biocode_df = pd.DataFrame(index = aware_final_loc_df.index.tolist())\n",
    "for code,name in code_to_name.items():\n",
    "    aware_CF_final_loc_biocode_df[code] = aware_final_loc_df['UNKNOWN']*aware_flow_factors[name]\n",
    "cols = aware_CF_final_loc_biocode_df.columns.tolist()    \n",
    "cols.sort()\n",
    "aware_CF_final_loc_biocode_df = aware_CF_final_loc_biocode_df[cols]\n",
    "aware_CF_final_loc_biocode_df.to_csv(f'../../Data/cfs/prepared_aware_CF.csv')"
   ]
  },
  {
   "cell_type": "markdown",
   "metadata": {},
   "source": [
    "## 2. Build CF matrix of AWARE with global CFs for new ecoinvent"
   ]
  },
  {
   "cell_type": "code",
   "execution_count": 36,
   "metadata": {},
   "outputs": [],
   "source": [
    "with open('../../Data/final_matrix/biosphere_index.p', 'rb') as i:\n",
    "    bio_index = pickle.load(i)"
   ]
  },
  {
   "cell_type": "code",
   "execution_count": 37,
   "metadata": {},
   "outputs": [
    {
     "data": {
      "text/plain": [
       "11"
      ]
     },
     "execution_count": 37,
     "metadata": {},
     "output_type": "execute_result"
    }
   ],
   "source": [
    "aware_cfs = pd.read_csv('../../Data/cfs/prepared_aware_CF.csv', index_col=0,keep_default_na=False)\n",
    "aware_cf_dict = aware_cfs.loc['World average'].T.to_dict()\n",
    "len(aware_cf_dict)"
   ]
  },
  {
   "cell_type": "code",
   "execution_count": 38,
   "metadata": {},
   "outputs": [
    {
     "data": {
      "text/plain": [
       "<2102x2102 sparse matrix of type '<class 'numpy.float64'>'\n",
       "\twith 9 stored elements in Compressed Sparse Row format>"
      ]
     },
     "execution_count": 38,
     "metadata": {},
     "output_type": "execute_result"
    }
   ],
   "source": [
    "aware_cf_array = np.array([aware_cf_dict.get(i,0) for i in bio_index])\n",
    "aware_cf_mat = sp.diags(aware_cf_array).tocsr()\n",
    "aware_cf_mat"
   ]
  },
  {
   "cell_type": "code",
   "execution_count": 39,
   "metadata": {},
   "outputs": [],
   "source": [
    "with open('../../Data/final_matrix/CF_aware_glo.p', 'wb') as o:\n",
    "    pickle.dump(aware_cf_mat, o)"
   ]
  },
  {
   "cell_type": "markdown",
   "metadata": {},
   "source": [
    "## 3. Build CF matrix of AWARE with regional CFs for new ecoinvent"
   ]
  },
  {
   "cell_type": "code",
   "execution_count": 40,
   "metadata": {},
   "outputs": [],
   "source": [
    "with open('../../Data/final_matrix/full_index.p', 'rb') as i:\n",
    "    full_index = pickle.load(i)"
   ]
  },
  {
   "cell_type": "code",
   "execution_count": 41,
   "metadata": {},
   "outputs": [],
   "source": [
    "CF_aware = pd.read_csv('../../Data/cfs/prepared_aware_CF.csv', index_col=0,keep_default_na=False)\n",
    "CF_aware.drop(\"World average\",axis=0,inplace=True)"
   ]
  },
  {
   "cell_type": "code",
   "execution_count": 42,
   "metadata": {},
   "outputs": [
    {
     "name": "stdout",
     "output_type": "stream",
     "text": [
      "Fresh water (obsolete) | ('water', 'surface water')\n",
      "Water | ('water', 'ground-, long-term')\n"
     ]
    }
   ],
   "source": [
    "aware_region_cf_dict = {}\n",
    "not_available = set() #bio_flow in aware but not used by our bio_index\n",
    "for region, cfs in CF_aware.iterrows():\n",
    "    cf_array = np.zeros(len(bio_index))\n",
    "    for i, val in cfs.iteritems():\n",
    "        if i in bio_index:\n",
    "            cf_array[bio_index.index(i)] = val\n",
    "        else:\n",
    "            not_available.add(i)\n",
    "    aware_region_cf_dict[region] = cf_array\n",
    "\n",
    "for na in not_available:\n",
    "    print(bio.get(('biosphere3', na))['name'], '|', bio.get(('biosphere3', na))['categories'])"
   ]
  },
  {
   "cell_type": "code",
   "execution_count": 43,
   "metadata": {},
   "outputs": [
    {
     "name": "stderr",
     "output_type": "stream",
     "text": [
      "/home/sipeng2/miniconda3/envs/reg_eco/lib/python3.6/site-packages/ipykernel_launcher.py:1: FutureWarning: arrays to stack must be passed as a \"sequence\" type such as list or tuple. Support for non-sequence iterables such as generators is deprecated as of NumPy 1.16 and will raise an error in the future.\n",
      "  \"\"\"Entry point for launching an IPython kernel.\n"
     ]
    },
    {
     "name": "stdout",
     "output_type": "stream",
     "text": [
      "CPU times: user 5.34 s, sys: 1.02 s, total: 6.36 s\n",
      "Wall time: 6.36 s\n"
     ]
    },
    {
     "data": {
      "text/plain": [
       "<2102x335099 sparse matrix of type '<class 'numpy.float64'>'\n",
       "\twith 3015891 stored elements in Compressed Sparse Row format>"
      ]
     },
     "execution_count": 43,
     "metadata": {},
     "output_type": "execute_result"
    }
   ],
   "source": [
    "#Stack arrays in sequence vertically (row wise). T. (len(bio_index), len(full_index) regions)\n",
    "%time aware_cf_mat = sp.csc_matrix(np.vstack(aware_region_cf_dict[full_i[0]] for full_i in full_index)).T\n",
    "aware_cf_mat"
   ]
  },
  {
   "cell_type": "code",
   "execution_count": null,
   "metadata": {},
   "outputs": [],
   "source": [
    "with open('../../Data/final_matrix/CF_aware.p', 'wb') as o:\n",
    "    pickle.dump(aware_cf_mat, o)"
   ]
  },
  {
   "cell_type": "markdown",
   "metadata": {},
   "source": [
    "## 4. Build CF matrix of AWARE with global CFs for ecoinvent"
   ]
  },
  {
   "cell_type": "code",
   "execution_count": 50,
   "metadata": {},
   "outputs": [],
   "source": [
    "db = bw.Database('ecoinvent 3.7.1_cutoff_no_marketgroups')\n",
    "lca = bw.LCA({db.random(): 1}, bw.methods.random())\n",
    "lca.lci()"
   ]
  },
  {
   "cell_type": "code",
   "execution_count": 51,
   "metadata": {},
   "outputs": [],
   "source": [
    "aware_cfs = pd.read_csv('../../Data/cfs/prepared_aware_CF.csv', index_col=0,keep_default_na=False)\n",
    "aware_cf_dict = aware_cfs.loc['World average'].T.to_dict()"
   ]
  },
  {
   "cell_type": "code",
   "execution_count": 52,
   "metadata": {},
   "outputs": [
    {
     "data": {
      "text/plain": [
       "<2102x2102 sparse matrix of type '<class 'numpy.float64'>'\n",
       "\twith 9 stored elements in Compressed Sparse Row format>"
      ]
     },
     "execution_count": 52,
     "metadata": {},
     "output_type": "execute_result"
    }
   ],
   "source": [
    "aware_cf_arr_eco = np.array([aware_cf_dict.get(key[1],0) for key, pos in lca.biosphere_dict.items()])\n",
    "aware_cf_mat_eco = sp.diags(aware_cf_arr_eco).tocsr()\n",
    "aware_cf_mat_eco"
   ]
  },
  {
   "cell_type": "code",
   "execution_count": null,
   "metadata": {},
   "outputs": [],
   "source": [
    "with open('../../Data/final_matrix/CF_aware_glo_eco.p', 'wb') as o:\n",
    "    pickle.dump(aware_cf_mat_eco, o)"
   ]
  },
  {
   "cell_type": "markdown",
   "metadata": {},
   "source": [
    "## 5. Build CF matrix of IPCC with CFs in ecoinvent for new ecoinvent\n",
    "In the biosphere matrix of new ecoinvent, biosphere flows (bio_index) are sorted by bio codes. In brightway, biosphere flows are ordered as in lca.biosphere_dict. To build CF matrix, we need to reorder characterization matrix."
   ]
  },
  {
   "cell_type": "code",
   "execution_count": 53,
   "metadata": {},
   "outputs": [
    {
     "data": {
      "text/plain": [
       "[('IPCC 2013 no LT', 'climate change', 'GTP 100a'),\n",
       " ('IPCC 2013 no LT', 'climate change', 'GTP 20a'),\n",
       " ('IPCC 2013 no LT', 'climate change', 'GWP 100a'),\n",
       " ('IPCC 2013 no LT', 'climate change', 'GWP 20a'),\n",
       " ('IPCC 2013', 'climate change', 'GTP 100a'),\n",
       " ('IPCC 2013', 'climate change', 'GTP 20a'),\n",
       " ('IPCC 2013', 'climate change', 'GWP 100a'),\n",
       " ('IPCC 2013', 'climate change', 'GWP 20a')]"
      ]
     },
     "execution_count": 53,
     "metadata": {},
     "output_type": "execute_result"
    }
   ],
   "source": [
    "[m for m in bw.methods if m[0].lower().startswith('ipcc 2013')]"
   ]
  },
  {
   "cell_type": "code",
   "execution_count": 54,
   "metadata": {},
   "outputs": [],
   "source": [
    "ipcc = ('IPCC 2013', 'climate change', 'GWP 100a')"
   ]
  },
  {
   "cell_type": "code",
   "execution_count": null,
   "metadata": {},
   "outputs": [],
   "source": [
    "lca = bw.LCA({db.random():1}, method = ipcc)\n",
    "lca.lci()\n",
    "lca.lcia()\n",
    "lca.biosphere_dict"
   ]
  },
  {
   "cell_type": "code",
   "execution_count": 56,
   "metadata": {},
   "outputs": [
    {
     "data": {
      "text/plain": [
       "(2102,)"
      ]
     },
     "execution_count": 56,
     "metadata": {},
     "output_type": "execute_result"
    }
   ],
   "source": [
    "biosphere_dict_list = sorted([(k[1], v) for k,v in lca.biosphere_dict.items()], key=lambda x:x[0])\n",
    "reordered_index = np.array([e[1] for e in biosphere_dict_list])\n",
    "reordered_index.shape"
   ]
  },
  {
   "cell_type": "code",
   "execution_count": 57,
   "metadata": {},
   "outputs": [
    {
     "data": {
      "text/plain": [
       "(2102, 2102)"
      ]
     },
     "execution_count": 57,
     "metadata": {},
     "output_type": "execute_result"
    }
   ],
   "source": [
    "ipcc_cf_mat = sp.diags(lca.characterization_matrix.diagonal()[reordered_index]).tocsr()\n",
    "ipcc_cf_mat.shape"
   ]
  },
  {
   "cell_type": "code",
   "execution_count": null,
   "metadata": {},
   "outputs": [],
   "source": [
    "with open('../../Data/final_matrix/CF_ipcc.p', 'wb') as o:\n",
    "    pickle.dump(ipcc_cf_mat, o)"
   ]
  }
 ],
 "metadata": {
  "anaconda-cloud": {},
  "kernelspec": {
   "display_name": "reg_eco",
   "language": "python",
   "name": "reg_eco"
  },
  "language_info": {
   "codemirror_mode": {
    "name": "ipython",
    "version": 3
   },
   "file_extension": ".py",
   "mimetype": "text/x-python",
   "name": "python",
   "nbconvert_exporter": "python",
   "pygments_lexer": "ipython3",
   "version": "3.6.13"
  }
 },
 "nbformat": 4,
 "nbformat_minor": 2
}
