{
 "cells": [
  {
   "cell_type": "code",
   "execution_count": 40,
   "metadata": {},
   "outputs": [],
   "source": [
    "import re\n",
    "import itertools\n",
    "import collections\n",
    "import numpy as np\n",
    "import pandas as pd\n",
    "import pickle\n",
    "import brightway2 as bw\n",
    "import matplotlib.pyplot as plt\n",
    "%matplotlib inline\n",
    "from IPython.display import display"
   ]
  },
  {
   "cell_type": "code",
   "execution_count": 52,
   "metadata": {},
   "outputs": [],
   "source": [
    "scores = pd.read_pickle('intermediate_res/lcia_res.p')"
   ]
  },
  {
   "cell_type": "code",
   "execution_count": 3,
   "metadata": {},
   "outputs": [],
   "source": [
    "rel_scores_df = pd.read_pickle('intermediate_res/rel_scores_df.p')"
   ]
  },
  {
   "cell_type": "code",
   "execution_count": 4,
   "metadata": {},
   "outputs": [
    {
     "data": {
      "text/html": [
       "<div>\n",
       "<style scoped>\n",
       "    .dataframe tbody tr th:only-of-type {\n",
       "        vertical-align: middle;\n",
       "    }\n",
       "\n",
       "    .dataframe tbody tr th {\n",
       "        vertical-align: top;\n",
       "    }\n",
       "\n",
       "    .dataframe thead th {\n",
       "        text-align: right;\n",
       "    }\n",
       "</style>\n",
       "<table border=\"1\" class=\"dataframe\">\n",
       "  <thead>\n",
       "    <tr style=\"text-align: right;\">\n",
       "      <th></th>\n",
       "      <th></th>\n",
       "      <th>aware_glo</th>\n",
       "      <th>aware_reg</th>\n",
       "      <th>ipcc</th>\n",
       "      <th>pslglo_glo</th>\n",
       "      <th>pslglo_reg</th>\n",
       "      <th>recipe</th>\n",
       "      <th>aware_eco</th>\n",
       "      <th>ipcc_eco</th>\n",
       "      <th>pslglo_eco</th>\n",
       "      <th>recipe_eco</th>\n",
       "    </tr>\n",
       "  </thead>\n",
       "  <tbody>\n",
       "    <tr>\n",
       "      <th rowspan=\"5\" valign=\"top\">AT</th>\n",
       "      <th>0000afec84171c872e995c5b53fac1ad</th>\n",
       "      <td>5.325694</td>\n",
       "      <td>1.855518</td>\n",
       "      <td>4.467347</td>\n",
       "      <td>6.716004e-16</td>\n",
       "      <td>4.396450e-16</td>\n",
       "      <td>0.676951</td>\n",
       "      <td>5.355019</td>\n",
       "      <td>5.206169</td>\n",
       "      <td>6.898520e-16</td>\n",
       "      <td>0.753082</td>\n",
       "    </tr>\n",
       "    <tr>\n",
       "      <th>0002339e980aff56eb28e301ffac6e66</th>\n",
       "      <td>-0.007421</td>\n",
       "      <td>-0.000618</td>\n",
       "      <td>-0.005385</td>\n",
       "      <td>-9.988120e-18</td>\n",
       "      <td>-1.402385e-17</td>\n",
       "      <td>-0.000716</td>\n",
       "      <td>-0.007278</td>\n",
       "      <td>-0.005493</td>\n",
       "      <td>-9.598913e-18</td>\n",
       "      <td>-0.000721</td>\n",
       "    </tr>\n",
       "    <tr>\n",
       "      <th>0002fe8e13e5d8537ea74a3a7e50f975</th>\n",
       "      <td>0.091101</td>\n",
       "      <td>0.013638</td>\n",
       "      <td>0.241638</td>\n",
       "      <td>6.724522e-17</td>\n",
       "      <td>5.116796e-17</td>\n",
       "      <td>0.018839</td>\n",
       "      <td>0.084489</td>\n",
       "      <td>0.273628</td>\n",
       "      <td>6.337074e-17</td>\n",
       "      <td>0.021867</td>\n",
       "    </tr>\n",
       "    <tr>\n",
       "      <th>0003a1862039cf71304a37965e1eac79</th>\n",
       "      <td>0.004159</td>\n",
       "      <td>0.000326</td>\n",
       "      <td>0.005495</td>\n",
       "      <td>2.477572e-18</td>\n",
       "      <td>3.520357e-18</td>\n",
       "      <td>0.000941</td>\n",
       "      <td>0.004066</td>\n",
       "      <td>0.005749</td>\n",
       "      <td>2.272093e-18</td>\n",
       "      <td>0.000964</td>\n",
       "    </tr>\n",
       "    <tr>\n",
       "      <th>00060f09c6a1a4289f685864b57c7163</th>\n",
       "      <td>3.343944</td>\n",
       "      <td>0.148095</td>\n",
       "      <td>1.080049</td>\n",
       "      <td>2.131532e-16</td>\n",
       "      <td>1.329111e-16</td>\n",
       "      <td>0.118277</td>\n",
       "      <td>3.282472</td>\n",
       "      <td>1.217052</td>\n",
       "      <td>1.747081e-16</td>\n",
       "      <td>0.133209</td>\n",
       "    </tr>\n",
       "  </tbody>\n",
       "</table>\n",
       "</div>"
      ],
      "text/plain": [
       "                                     aware_glo  aware_reg      ipcc  \\\n",
       "AT 0000afec84171c872e995c5b53fac1ad   5.325694   1.855518  4.467347   \n",
       "   0002339e980aff56eb28e301ffac6e66  -0.007421  -0.000618 -0.005385   \n",
       "   0002fe8e13e5d8537ea74a3a7e50f975   0.091101   0.013638  0.241638   \n",
       "   0003a1862039cf71304a37965e1eac79   0.004159   0.000326  0.005495   \n",
       "   00060f09c6a1a4289f685864b57c7163   3.343944   0.148095  1.080049   \n",
       "\n",
       "                                       pslglo_glo    pslglo_reg    recipe  \\\n",
       "AT 0000afec84171c872e995c5b53fac1ad  6.716004e-16  4.396450e-16  0.676951   \n",
       "   0002339e980aff56eb28e301ffac6e66 -9.988120e-18 -1.402385e-17 -0.000716   \n",
       "   0002fe8e13e5d8537ea74a3a7e50f975  6.724522e-17  5.116796e-17  0.018839   \n",
       "   0003a1862039cf71304a37965e1eac79  2.477572e-18  3.520357e-18  0.000941   \n",
       "   00060f09c6a1a4289f685864b57c7163  2.131532e-16  1.329111e-16  0.118277   \n",
       "\n",
       "                                     aware_eco  ipcc_eco    pslglo_eco  \\\n",
       "AT 0000afec84171c872e995c5b53fac1ad   5.355019  5.206169  6.898520e-16   \n",
       "   0002339e980aff56eb28e301ffac6e66  -0.007278 -0.005493 -9.598913e-18   \n",
       "   0002fe8e13e5d8537ea74a3a7e50f975   0.084489  0.273628  6.337074e-17   \n",
       "   0003a1862039cf71304a37965e1eac79   0.004066  0.005749  2.272093e-18   \n",
       "   00060f09c6a1a4289f685864b57c7163   3.282472  1.217052  1.747081e-16   \n",
       "\n",
       "                                     recipe_eco  \n",
       "AT 0000afec84171c872e995c5b53fac1ad    0.753082  \n",
       "   0002339e980aff56eb28e301ffac6e66   -0.000721  \n",
       "   0002fe8e13e5d8537ea74a3a7e50f975    0.021867  \n",
       "   0003a1862039cf71304a37965e1eac79    0.000964  \n",
       "   00060f09c6a1a4289f685864b57c7163    0.133209  "
      ]
     },
     "execution_count": 4,
     "metadata": {},
     "output_type": "execute_result"
    }
   ],
   "source": [
    "scores.head()"
   ]
  },
  {
   "cell_type": "code",
   "execution_count": 5,
   "metadata": {},
   "outputs": [
    {
     "data": {
      "text/html": [
       "<div>\n",
       "<style scoped>\n",
       "    .dataframe tbody tr th:only-of-type {\n",
       "        vertical-align: middle;\n",
       "    }\n",
       "\n",
       "    .dataframe tbody tr th {\n",
       "        vertical-align: top;\n",
       "    }\n",
       "\n",
       "    .dataframe thead th {\n",
       "        text-align: right;\n",
       "    }\n",
       "</style>\n",
       "<table border=\"1\" class=\"dataframe\">\n",
       "  <thead>\n",
       "    <tr style=\"text-align: right;\">\n",
       "      <th></th>\n",
       "      <th></th>\n",
       "      <th>aware_glo</th>\n",
       "      <th>aware_reg</th>\n",
       "      <th>ipcc</th>\n",
       "      <th>recipe</th>\n",
       "      <th>pslglo_reg</th>\n",
       "      <th>pslglo_glo</th>\n",
       "    </tr>\n",
       "  </thead>\n",
       "  <tbody>\n",
       "    <tr>\n",
       "      <th rowspan=\"5\" valign=\"top\">AT</th>\n",
       "      <th>0000afec84171c872e995c5b53fac1ad</th>\n",
       "      <td>0.994524</td>\n",
       "      <td>0.346501</td>\n",
       "      <td>0.858087</td>\n",
       "      <td>0.898908</td>\n",
       "      <td>0.637303</td>\n",
       "      <td>0.973543</td>\n",
       "    </tr>\n",
       "    <tr>\n",
       "      <th>0002339e980aff56eb28e301ffac6e66</th>\n",
       "      <td>1.019728</td>\n",
       "      <td>0.084906</td>\n",
       "      <td>0.980307</td>\n",
       "      <td>0.991997</td>\n",
       "      <td>1.460983</td>\n",
       "      <td>1.040547</td>\n",
       "    </tr>\n",
       "    <tr>\n",
       "      <th>0002fe8e13e5d8537ea74a3a7e50f975</th>\n",
       "      <td>1.078256</td>\n",
       "      <td>0.161420</td>\n",
       "      <td>0.883089</td>\n",
       "      <td>0.861501</td>\n",
       "      <td>0.807438</td>\n",
       "      <td>1.061140</td>\n",
       "    </tr>\n",
       "    <tr>\n",
       "      <th>0003a1862039cf71304a37965e1eac79</th>\n",
       "      <td>1.022898</td>\n",
       "      <td>0.080299</td>\n",
       "      <td>0.955786</td>\n",
       "      <td>0.975688</td>\n",
       "      <td>1.549390</td>\n",
       "      <td>1.090436</td>\n",
       "    </tr>\n",
       "    <tr>\n",
       "      <th>00060f09c6a1a4289f685864b57c7163</th>\n",
       "      <td>1.018727</td>\n",
       "      <td>0.045117</td>\n",
       "      <td>0.887431</td>\n",
       "      <td>0.887907</td>\n",
       "      <td>0.760761</td>\n",
       "      <td>1.220053</td>\n",
       "    </tr>\n",
       "  </tbody>\n",
       "</table>\n",
       "</div>"
      ],
      "text/plain": [
       "                                     aware_glo  aware_reg      ipcc    recipe  \\\n",
       "AT 0000afec84171c872e995c5b53fac1ad   0.994524   0.346501  0.858087  0.898908   \n",
       "   0002339e980aff56eb28e301ffac6e66   1.019728   0.084906  0.980307  0.991997   \n",
       "   0002fe8e13e5d8537ea74a3a7e50f975   1.078256   0.161420  0.883089  0.861501   \n",
       "   0003a1862039cf71304a37965e1eac79   1.022898   0.080299  0.955786  0.975688   \n",
       "   00060f09c6a1a4289f685864b57c7163   1.018727   0.045117  0.887431  0.887907   \n",
       "\n",
       "                                     pslglo_reg  pslglo_glo  \n",
       "AT 0000afec84171c872e995c5b53fac1ad    0.637303    0.973543  \n",
       "   0002339e980aff56eb28e301ffac6e66    1.460983    1.040547  \n",
       "   0002fe8e13e5d8537ea74a3a7e50f975    0.807438    1.061140  \n",
       "   0003a1862039cf71304a37965e1eac79    1.549390    1.090436  \n",
       "   00060f09c6a1a4289f685864b57c7163    0.760761    1.220053  "
      ]
     },
     "execution_count": 5,
     "metadata": {},
     "output_type": "execute_result"
    }
   ],
   "source": [
    "rel_scores_df.head()"
   ]
  },
  {
   "cell_type": "code",
   "execution_count": 6,
   "metadata": {},
   "outputs": [],
   "source": [
    "cutoff = None\n",
    "rel_scores = rel_scores_df.copy()\n",
    "rel_scores[rel_scores.isnull()] = 1\n",
    "rel_scores[rel_scores == np.inf] = 1\n",
    "rel_scores[rel_scores == -np.inf] = 1\n",
    "if cutoff:\n",
    "    rel_scores[rel_scores > cutoff] = cutoff\n",
    "    rel_scores[rel_scores < -cutoff] = -cutoff"
   ]
  },
  {
   "cell_type": "code",
   "execution_count": 7,
   "metadata": {},
   "outputs": [],
   "source": [
    "ipcc = rel_scores['ipcc']"
   ]
  },
  {
   "cell_type": "code",
   "execution_count": 8,
   "metadata": {},
   "outputs": [
    {
     "data": {
      "text/plain": [
       "WL  1f0dd2c8c9e497d5e4db45f21de54e5b    10.975666\n",
       "US  91ef98352b762931e18685b748224f8c     7.164202\n",
       "CA  91c2c0f5fba234fba4fbc80e5cf3815b     6.714853\n",
       "    35c181665a82a1c4d5c431cf48007fba     6.590340\n",
       "    1997aa18e0083201879ca0b8e7b37b93     5.921726\n",
       "    e1771d84202f766e8afb2c7883f247dc     5.903133\n",
       "CH  0faf761acb398bbf3ba501eb32104620     5.199522\n",
       "ES  efd02f8f6004f3d8be9a15eda7c25b3f     5.165418\n",
       "CH  3b8d74f9c1fc2a3ab207dccc556577ef     4.929636\n",
       "    ae6bb4e0cdc7de599f6bb07aeb9a8708     4.790307\n",
       "Name: ipcc, dtype: float64"
      ]
     },
     "execution_count": 8,
     "metadata": {},
     "output_type": "execute_result"
    }
   ],
   "source": [
    "ipcc.nlargest(10)"
   ]
  },
  {
   "cell_type": "code",
   "execution_count": 9,
   "metadata": {},
   "outputs": [
    {
     "data": {
      "text/plain": [
       "CA  7d1ba6ebb4bf8c3124bce538282a7115   -20.309833\n",
       "TR  7d1ba6ebb4bf8c3124bce538282a7115   -18.374750\n",
       "CA  a46f4a3c5920a287edd9b8b4ab7e2c75   -14.191067\n",
       "    e6c07ed6fc2a0e5e3e2ff60e5de29dca   -14.177598\n",
       "    0fa0de1ef68aad40ac6825f405c4b0d0   -13.652696\n",
       "    d0edfd7fe072f4a364f9855ab4e98539   -13.652696\n",
       "    52e5c6db31f64e2fa47bbcbd0fe176c2   -13.652695\n",
       "    67e53ed694e4e20e243b8a9781e3224e   -13.652695\n",
       "    34475266bb20732990bbcb3c2ac77461   -13.119242\n",
       "TR  a46f4a3c5920a287edd9b8b4ab7e2c75   -12.655354\n",
       "Name: ipcc, dtype: float64"
      ]
     },
     "execution_count": 9,
     "metadata": {},
     "output_type": "execute_result"
    }
   ],
   "source": [
    "ipcc.nsmallest(10)"
   ]
  },
  {
   "cell_type": "code",
   "execution_count": 10,
   "metadata": {},
   "outputs": [],
   "source": [
    "with open('regeco/aux_data/matching_dicts.pickle', 'rb') as i:\n",
    "    matching_dicts = pickle.load(i)"
   ]
  },
  {
   "cell_type": "code",
   "execution_count": 11,
   "metadata": {},
   "outputs": [
    {
     "data": {
      "text/plain": [
       "dict_keys(['exio_to_isic', 'country_name_dict', 'isic_to_exio', 'exio_name_dict'])"
      ]
     },
     "execution_count": 11,
     "metadata": {},
     "output_type": "execute_result"
    }
   ],
   "source": [
    "matching_dicts.keys()"
   ]
  },
  {
   "cell_type": "code",
   "execution_count": 12,
   "metadata": {},
   "outputs": [],
   "source": [
    "with open('full_reference_dataset_dict.p', 'rb') as i:\n",
    "    ref_ds_dict = pickle.load(i)"
   ]
  },
  {
   "cell_type": "code",
   "execution_count": 13,
   "metadata": {},
   "outputs": [],
   "source": [
    "bw.projects.set_current('regeco')\n",
    "db = bw.Database('cutoff33_no_mg')"
   ]
  },
  {
   "cell_type": "code",
   "execution_count": 14,
   "metadata": {},
   "outputs": [],
   "source": [
    "def extract_isic_code(dataset):\n",
    "    cl = dataset['classifications']\n",
    "    try:\n",
    "        isic_info = [c[1] for c in cl if c[0].startswith('ISIC')][0] # only production mixes have no isic-info\n",
    "    except IndexError:\n",
    "        #print(dataset['name'])\n",
    "        return '0'\n",
    "    isic_code = isic_info.split(':')[0]\n",
    "    isic_code = re.sub(r'\\D','', isic_code) # remove added non-digit characters\n",
    "    return isic_code"
   ]
  },
  {
   "cell_type": "code",
   "execution_count": 15,
   "metadata": {},
   "outputs": [],
   "source": [
    "ds = db.random()"
   ]
  },
  {
   "cell_type": "code",
   "execution_count": 16,
   "metadata": {},
   "outputs": [
    {
     "data": {
      "text/plain": [
       "[('ISIC rev.4 ecoinvent',\n",
       "  '2013:Manufacture of plastics and synthetic rubber in primary forms'),\n",
       " ('EcoSpold01Categories', 'chemicals/inorganics')]"
      ]
     },
     "execution_count": 16,
     "metadata": {},
     "output_type": "execute_result"
    }
   ],
   "source": [
    "ds['classifications']"
   ]
  },
  {
   "cell_type": "code",
   "execution_count": 17,
   "metadata": {},
   "outputs": [
    {
     "data": {
      "text/plain": [
       "'2013'"
      ]
     },
     "execution_count": 17,
     "metadata": {},
     "output_type": "execute_result"
    }
   ],
   "source": [
    "extract_isic_code(ds)"
   ]
  },
  {
   "cell_type": "code",
   "execution_count": 18,
   "metadata": {},
   "outputs": [],
   "source": [
    "isic_to_exio = matching_dicts['isic_to_exio']"
   ]
  },
  {
   "cell_type": "code",
   "execution_count": 19,
   "metadata": {},
   "outputs": [
    {
     "data": {
      "text/plain": [
       "['i74']"
      ]
     },
     "execution_count": 19,
     "metadata": {},
     "output_type": "execute_result"
    }
   ],
   "source": [
    "isic_to_exio['8219']"
   ]
  },
  {
   "cell_type": "code",
   "execution_count": 20,
   "metadata": {},
   "outputs": [],
   "source": [
    "exio_name_dict = matching_dicts['exio_name_dict']"
   ]
  },
  {
   "cell_type": "code",
   "execution_count": 21,
   "metadata": {},
   "outputs": [
    {
     "data": {
      "text/plain": [
       "12503"
      ]
     },
     "execution_count": 21,
     "metadata": {},
     "output_type": "execute_result"
    }
   ],
   "source": [
    "reference_datasets = set(ref_ds_dict.values())\n",
    "len(reference_datasets)"
   ]
  },
  {
   "cell_type": "code",
   "execution_count": 22,
   "metadata": {},
   "outputs": [
    {
     "name": "stdout",
     "output_type": "stream",
     "text": [
      "CPU times: user 15.7 s, sys: 2.22 s, total: 17.9 s\n",
      "Wall time: 17.9 s\n"
     ]
    }
   ],
   "source": [
    "%time db_loaded = db.load()"
   ]
  },
  {
   "cell_type": "code",
   "execution_count": 23,
   "metadata": {},
   "outputs": [
    {
     "data": {
      "text/plain": [
       "[('cutoff33_no_mg', '1b9002783d2a31a87c3afb3840e0a72f'),\n",
       " ('cutoff33_no_mg', '4df2f6a69be9a464ebc1c7f20de24347'),\n",
       " ('cutoff33_no_mg', 'fe14f780a517767a54fe371d9d2ee5cc'),\n",
       " ('cutoff33_no_mg', '58a85b6a31a5795258895a26b161922e'),\n",
       " ('cutoff33_no_mg', '06122c6e75fae8be2c16fe0586d8fa27')]"
      ]
     },
     "execution_count": 23,
     "metadata": {},
     "output_type": "execute_result"
    }
   ],
   "source": [
    "list(db_loaded.keys())[:5]"
   ]
  },
  {
   "cell_type": "code",
   "execution_count": 24,
   "metadata": {},
   "outputs": [
    {
     "name": "stdout",
     "output_type": "stream",
     "text": [
      "CPU times: user 72 ms, sys: 0 ns, total: 72 ms\n",
      "Wall time: 70.7 ms\n"
     ]
    }
   ],
   "source": [
    "%time isic_dict = {ds:extract_isic_code(db_loaded.get(('cutoff33_no_mg', ds))) for ds in reference_datasets}"
   ]
  },
  {
   "cell_type": "markdown",
   "metadata": {},
   "source": [
    "('ISIC rev.4 ecoinvent', '3900:Remediation activities and other waste management services')"
   ]
  },
  {
   "cell_type": "code",
   "execution_count": 25,
   "metadata": {},
   "outputs": [],
   "source": [
    "for k, v in isic_dict.items():\n",
    "    if v == '0':\n",
    "        isic_dict[k] = '3900'"
   ]
  },
  {
   "cell_type": "code",
   "execution_count": 26,
   "metadata": {},
   "outputs": [],
   "source": [
    "sector_dict = collections.defaultdict(set)\n",
    "for k, v in isic_dict.items():\n",
    "    keys = [ke for ke in isic_to_exio.keys() if ke.startswith(v)]\n",
    "    sectors = set(itertools.chain.from_iterable([isic_to_exio[key] for key in keys]))\n",
    "    sector_dict[k].update(sectors)"
   ]
  },
  {
   "cell_type": "code",
   "execution_count": 27,
   "metadata": {},
   "outputs": [],
   "source": [
    "sector_code_dict = collections.defaultdict(list)\n",
    "for k, v in sector_dict.items():\n",
    "    key = ' '.join(sorted(v))\n",
    "    sector_code_dict[key].append(k)"
   ]
  },
  {
   "cell_type": "code",
   "execution_count": 28,
   "metadata": {},
   "outputs": [],
   "source": [
    "full_index = rel_scores_df.index.tolist()"
   ]
  },
  {
   "cell_type": "code",
   "execution_count": 29,
   "metadata": {},
   "outputs": [
    {
     "data": {
      "text/plain": [
       "307403"
      ]
     },
     "execution_count": 29,
     "metadata": {},
     "output_type": "execute_result"
    }
   ],
   "source": [
    "len(full_index)"
   ]
  },
  {
   "cell_type": "code",
   "execution_count": 30,
   "metadata": {},
   "outputs": [],
   "source": [
    "ref_ds_dict_inv = collections.defaultdict(list)\n",
    "for k, v in ref_ds_dict.items():\n",
    "    ref_ds_dict_inv[v].append(k)"
   ]
  },
  {
   "cell_type": "code",
   "execution_count": 31,
   "metadata": {},
   "outputs": [],
   "source": [
    "sector_dict_inv = collections.defaultdict(list)\n",
    "for k, v in sector_dict.items():\n",
    "    for sec in v:\n",
    "        sector_dict_inv[sec].append(k)"
   ]
  },
  {
   "cell_type": "code",
   "execution_count": 32,
   "metadata": {},
   "outputs": [
    {
     "data": {
      "text/plain": [
       "307403"
      ]
     },
     "execution_count": 32,
     "metadata": {},
     "output_type": "execute_result"
    }
   ],
   "source": [
    "len(ref_ds_dict)"
   ]
  },
  {
   "cell_type": "code",
   "execution_count": null,
   "metadata": {},
   "outputs": [],
   "source": [
    "for code, datasets in sector_dict_inv.items():\n",
    "    name = exio_name_dict[code]\n",
    "    dss = set(itertools.chain.from_iterable([ref_ds_dict_inv[d] for d in datasets]))\n",
    "    ind = pd.Index([i for i in full_index if i in dss])\n",
    "    fig, ax = plt.subplots(figsize=(12, 6))\n",
    "    #df = rel_scores.xs(region, axis=0, level=0)\n",
    "    for m in ('ipcc', 'recipe'):#rel_scores.columns:\n",
    "        vals = rel_scores.loc[ind, m].values.copy()\n",
    "        vals.sort()\n",
    "        ax.plot(vals, label=m)\n",
    "        ax.legend()\n",
    "        ax.set_title(name)\n",
    "    ax.hlines(1, *ax.get_xlim())"
   ]
  },
  {
   "cell_type": "code",
   "execution_count": 51,
   "metadata": {
    "scrolled": true
   },
   "outputs": [
    {
     "name": "stdout",
     "output_type": "stream",
     "text": [
      "ipcc Lead, zinc and tin production\n"
     ]
    },
    {
     "data": {
      "text/plain": [
       "CA  181ec63ce60228a926eb2cc626e2d007   -0.963258\n",
       "    9a09e9bbd61c2550d0ad5749b9ff8f59   -0.963258\n",
       "    9e3324428628df73f60013f29039ea32   -0.963258\n",
       "Name: ipcc, dtype: float64"
      ]
     },
     "metadata": {},
     "output_type": "display_data"
    },
    {
     "name": "stdout",
     "output_type": "stream",
     "text": [
      "magnesium production, electrolysis -0.9632581841565986\n",
      "magnesium production, electrolysis -0.9632581838749068\n",
      "magnesium production, electrolysis -0.9632581775785457\n",
      "\n",
      "recipe Lead, zinc and tin production\n"
     ]
    },
    {
     "data": {
      "text/plain": [
       "CA  9a09e9bbd61c2550d0ad5749b9ff8f59   -0.888037\n",
       "    181ec63ce60228a926eb2cc626e2d007   -0.888037\n",
       "    9e3324428628df73f60013f29039ea32   -0.888037\n",
       "Name: recipe, dtype: float64"
      ]
     },
     "metadata": {},
     "output_type": "display_data"
    },
    {
     "name": "stdout",
     "output_type": "stream",
     "text": [
      "magnesium production, electrolysis -0.8880373822013493\n",
      "magnesium production, electrolysis -0.8880373819785986\n",
      "magnesium production, electrolysis -0.8880373752029121\n",
      "\n",
      "ipcc Copper production\n"
     ]
    },
    {
     "data": {
      "text/plain": [
       "CA  181ec63ce60228a926eb2cc626e2d007   -0.963258\n",
       "    9a09e9bbd61c2550d0ad5749b9ff8f59   -0.963258\n",
       "    9e3324428628df73f60013f29039ea32   -0.963258\n",
       "Name: ipcc, dtype: float64"
      ]
     },
     "metadata": {},
     "output_type": "display_data"
    },
    {
     "name": "stdout",
     "output_type": "stream",
     "text": [
      "magnesium production, electrolysis -0.9632581841565986\n",
      "magnesium production, electrolysis -0.9632581838749068\n",
      "magnesium production, electrolysis -0.9632581775785457\n",
      "\n",
      "recipe Copper production\n"
     ]
    },
    {
     "data": {
      "text/plain": [
       "CA  9a09e9bbd61c2550d0ad5749b9ff8f59   -0.888037\n",
       "    181ec63ce60228a926eb2cc626e2d007   -0.888037\n",
       "    9e3324428628df73f60013f29039ea32   -0.888037\n",
       "Name: recipe, dtype: float64"
      ]
     },
     "metadata": {},
     "output_type": "display_data"
    },
    {
     "name": "stdout",
     "output_type": "stream",
     "text": [
      "magnesium production, electrolysis -0.8880373822013493\n",
      "magnesium production, electrolysis -0.8880373819785986\n",
      "magnesium production, electrolysis -0.8880373752029121\n",
      "\n",
      "ipcc Other non-ferrous metal production\n"
     ]
    },
    {
     "data": {
      "text/plain": [
       "CA  181ec63ce60228a926eb2cc626e2d007   -0.963258\n",
       "    9a09e9bbd61c2550d0ad5749b9ff8f59   -0.963258\n",
       "    9e3324428628df73f60013f29039ea32   -0.963258\n",
       "Name: ipcc, dtype: float64"
      ]
     },
     "metadata": {},
     "output_type": "display_data"
    },
    {
     "name": "stdout",
     "output_type": "stream",
     "text": [
      "magnesium production, electrolysis -0.9632581841565986\n",
      "magnesium production, electrolysis -0.9632581838749068\n",
      "magnesium production, electrolysis -0.9632581775785457\n",
      "\n",
      "recipe Other non-ferrous metal production\n"
     ]
    },
    {
     "data": {
      "text/plain": [
       "CA  9a09e9bbd61c2550d0ad5749b9ff8f59   -0.888037\n",
       "    181ec63ce60228a926eb2cc626e2d007   -0.888037\n",
       "    9e3324428628df73f60013f29039ea32   -0.888037\n",
       "Name: recipe, dtype: float64"
      ]
     },
     "metadata": {},
     "output_type": "display_data"
    },
    {
     "name": "stdout",
     "output_type": "stream",
     "text": [
      "magnesium production, electrolysis -0.8880373822013493\n",
      "magnesium production, electrolysis -0.8880373819785986\n",
      "magnesium production, electrolysis -0.8880373752029121\n",
      "\n",
      "ipcc Aluminium production\n"
     ]
    },
    {
     "data": {
      "text/plain": [
       "CA  181ec63ce60228a926eb2cc626e2d007   -0.963258\n",
       "    9a09e9bbd61c2550d0ad5749b9ff8f59   -0.963258\n",
       "    9e3324428628df73f60013f29039ea32   -0.963258\n",
       "Name: ipcc, dtype: float64"
      ]
     },
     "metadata": {},
     "output_type": "display_data"
    },
    {
     "name": "stdout",
     "output_type": "stream",
     "text": [
      "magnesium production, electrolysis -0.9632581841565986\n",
      "magnesium production, electrolysis -0.9632581838749068\n",
      "magnesium production, electrolysis -0.9632581775785457\n",
      "\n",
      "recipe Aluminium production\n"
     ]
    },
    {
     "data": {
      "text/plain": [
       "CA  9a09e9bbd61c2550d0ad5749b9ff8f59   -0.888037\n",
       "    181ec63ce60228a926eb2cc626e2d007   -0.888037\n",
       "    9e3324428628df73f60013f29039ea32   -0.888037\n",
       "Name: recipe, dtype: float64"
      ]
     },
     "metadata": {},
     "output_type": "display_data"
    },
    {
     "name": "stdout",
     "output_type": "stream",
     "text": [
      "magnesium production, electrolysis -0.8880373822013493\n",
      "magnesium production, electrolysis -0.8880373819785986\n",
      "magnesium production, electrolysis -0.8880373752029121\n",
      "\n",
      "ipcc Precious metals production\n"
     ]
    },
    {
     "data": {
      "text/plain": [
       "CA  181ec63ce60228a926eb2cc626e2d007   -0.963258\n",
       "    9a09e9bbd61c2550d0ad5749b9ff8f59   -0.963258\n",
       "    9e3324428628df73f60013f29039ea32   -0.963258\n",
       "Name: ipcc, dtype: float64"
      ]
     },
     "metadata": {},
     "output_type": "display_data"
    },
    {
     "name": "stdout",
     "output_type": "stream",
     "text": [
      "magnesium production, electrolysis -0.9632581841565986\n",
      "magnesium production, electrolysis -0.9632581838749068\n",
      "magnesium production, electrolysis -0.9632581775785457\n",
      "\n",
      "recipe Precious metals production\n"
     ]
    },
    {
     "data": {
      "text/plain": [
       "CA  9a09e9bbd61c2550d0ad5749b9ff8f59   -0.888037\n",
       "    181ec63ce60228a926eb2cc626e2d007   -0.888037\n",
       "    9e3324428628df73f60013f29039ea32   -0.888037\n",
       "Name: recipe, dtype: float64"
      ]
     },
     "metadata": {},
     "output_type": "display_data"
    },
    {
     "name": "stdout",
     "output_type": "stream",
     "text": [
      "magnesium production, electrolysis -0.8880373822013493\n",
      "magnesium production, electrolysis -0.8880373819785986\n",
      "magnesium production, electrolysis -0.8880373752029121\n",
      "\n",
      "ipcc Petroleum Refinery\n"
     ]
    },
    {
     "data": {
      "text/plain": [
       "CA  860180360915da2a3756f37fd599029e   -2.085235\n",
       "WL  860180360915da2a3756f37fd599029e   -1.150828\n",
       "CA  84b80647af8accf7be4d06454475026f   -0.795902\n",
       "BG  860180360915da2a3756f37fd599029e   -0.620226\n",
       "CA  275dfc2f783a715934fb80fed6f1b391   -0.500087\n",
       "Name: ipcc, dtype: float64"
      ]
     },
     "metadata": {},
     "output_type": "display_data"
    },
    {
     "name": "stdout",
     "output_type": "stream",
     "text": [
      "market for pentane -2.0852351603590735\n",
      "market for pentane -1.1508277626770682\n",
      "treatment of used vegetable cooking oil, purification -0.7959015018748115\n",
      "market for pentane -0.6202255531577184\n",
      "treatment of waste cooking oil, purified, esterification -0.5000872784119137\n",
      "\n",
      "recipe Petroleum Refinery\n"
     ]
    },
    {
     "data": {
      "text/plain": [
       "CA  84b80647af8accf7be4d06454475026f   -0.366129\n",
       "    860180360915da2a3756f37fd599029e   -0.138046\n",
       "    4603d6695e56cebf532cfa4dd3b9edc3   -0.087413\n",
       "Name: recipe, dtype: float64"
      ]
     },
     "metadata": {},
     "output_type": "display_data"
    },
    {
     "name": "stdout",
     "output_type": "stream",
     "text": [
      "treatment of used vegetable cooking oil, purification -0.36612943915042256\n",
      "market for pentane -0.13804629719059583\n",
      "market for used vegetable cooking oil, purified -0.0874130489924612\n",
      "\n",
      "ipcc Manufacture of coke oven products\n"
     ]
    },
    {
     "data": {
      "text/plain": [
       "CA  84b80647af8accf7be4d06454475026f   -0.795902\n",
       "    275dfc2f783a715934fb80fed6f1b391   -0.500087\n",
       "    c1fdf67c2c8f9f7008a53d595d8de34f   -0.500087\n",
       "    4603d6695e56cebf532cfa4dd3b9edc3   -0.270846\n",
       "Name: ipcc, dtype: float64"
      ]
     },
     "metadata": {},
     "output_type": "display_data"
    },
    {
     "name": "stdout",
     "output_type": "stream",
     "text": [
      "treatment of used vegetable cooking oil, purification -0.7959015018748115\n",
      "treatment of waste cooking oil, purified, esterification -0.5000872784119137\n",
      "treatment of waste cooking oil, purified, esterification -0.5000872739978454\n",
      "market for used vegetable cooking oil, purified -0.2708458765808348\n",
      "\n",
      "recipe Manufacture of coke oven products\n"
     ]
    },
    {
     "data": {
      "text/plain": [
       "CA  84b80647af8accf7be4d06454475026f   -0.366129\n",
       "    4603d6695e56cebf532cfa4dd3b9edc3   -0.087413\n",
       "Name: recipe, dtype: float64"
      ]
     },
     "metadata": {},
     "output_type": "display_data"
    },
    {
     "name": "stdout",
     "output_type": "stream",
     "text": [
      "treatment of used vegetable cooking oil, purification -0.36612943915042256\n",
      "market for used vegetable cooking oil, purified -0.0874130489924612\n",
      "\n",
      "ipcc Cultivation of vegetables, fruit, nuts\n"
     ]
    },
    {
     "data": {
      "text/plain": [
       "WL  d2a0bed05c8459540384d88b61ba04ab   -4.043239\n",
       "CA  9d3dcc50d271e50da28de13723b2bb90   -1.253557\n",
       "    2086ed0c012d5e4415ca381df34f1e6b   -1.014692\n",
       "Name: ipcc, dtype: float64"
      ]
     },
     "metadata": {},
     "output_type": "display_data"
    },
    {
     "name": "stdout",
     "output_type": "stream",
     "text": [
      "palm fruit bunch production -4.043238843721929\n",
      "drying of maize grain -1.253556982261948\n",
      "market for drying of maize grain -1.0146916349673478\n",
      "\n",
      "recipe Cultivation of vegetables, fruit, nuts\n"
     ]
    },
    {
     "data": {
      "text/plain": [
       "US  b857b6fead570db7ba461abcd14cff07   -12.190159\n",
       "WL  1f0dd2c8c9e497d5e4db45f21de54e5b    -1.753341\n",
       "MX  8c82964d56c93d6a831f5c0eda83a3b9    -0.612240\n",
       "CA  9d3dcc50d271e50da28de13723b2bb90    -0.302837\n",
       "    2086ed0c012d5e4415ca381df34f1e6b    -0.269583\n",
       "Name: recipe, dtype: float64"
      ]
     },
     "metadata": {},
     "output_type": "display_data"
    },
    {
     "name": "stdout",
     "output_type": "stream",
     "text": [
      "market for almond -12.190159420293162\n",
      "apple production -1.7533414933412905\n",
      "market for lemon -0.6122404162890889\n",
      "drying of maize grain -0.30283662955637936\n",
      "market for drying of maize grain -0.2695828246868117\n",
      "\n",
      "ipcc Production of electricity by gas\n"
     ]
    },
    {
     "data": {
      "text/plain": [
       "CA  ad33196c34fb6cfe124393d9877c08a2   -4.483492\n",
       "    290e0761b255a77f6ac10289ec71558d   -2.178361\n",
       "    57a04b0324c03205d16224f75f3aee95   -1.924753\n",
       "    ec5f799564f4b53cc95a5eda08d9701f   -1.913198\n",
       "    63ebfb0ebf06a8f4ad9d020b70090974   -1.913198\n",
       "Name: ipcc, dtype: float64"
      ]
     },
     "metadata": {},
     "output_type": "display_data"
    },
    {
     "name": "stdout",
     "output_type": "stream",
     "text": [
      "natural gas, burned in gas turbine, for compressor station -4.483492111978228\n",
      "electricity production, natural gas, aluminium industry -2.1783613413253446\n",
      "electricity production, natural gas, combined cycle power plant -1.9247528978213477\n",
      "electricity production, natural gas, conventional power plant -1.913198074563409\n",
      "heat and power co-generation, natural gas, conventional power plant, 100MW electrical -1.9131980447611387\n",
      "\n",
      "recipe Production of electricity by gas\n"
     ]
    },
    {
     "data": {
      "text/plain": [
       "CA  ad33196c34fb6cfe124393d9877c08a2   -2.166463\n",
       "    290e0761b255a77f6ac10289ec71558d   -1.870644\n",
       "    57a04b0324c03205d16224f75f3aee95   -1.742569\n",
       "    ec5f799564f4b53cc95a5eda08d9701f   -1.720872\n",
       "    63ebfb0ebf06a8f4ad9d020b70090974   -1.720872\n",
       "Name: recipe, dtype: float64"
      ]
     },
     "metadata": {},
     "output_type": "display_data"
    },
    {
     "name": "stdout",
     "output_type": "stream",
     "text": [
      "natural gas, burned in gas turbine, for compressor station -2.1664628160125723\n",
      "electricity production, natural gas, aluminium industry -1.8706435891809745\n",
      "electricity production, natural gas, combined cycle power plant -1.7425690318313984\n",
      "electricity production, natural gas, conventional power plant -1.720872268515839\n",
      "heat and power co-generation, natural gas, conventional power plant, 100MW electrical -1.7208722353887713\n",
      "\n",
      "ipcc Production of electricity by petroleum and other oil derivatives\n"
     ]
    },
    {
     "data": {
      "text/plain": [
       "CA  ad33196c34fb6cfe124393d9877c08a2   -4.483492\n",
       "    290e0761b255a77f6ac10289ec71558d   -2.178361\n",
       "    57a04b0324c03205d16224f75f3aee95   -1.924753\n",
       "    ec5f799564f4b53cc95a5eda08d9701f   -1.913198\n",
       "    63ebfb0ebf06a8f4ad9d020b70090974   -1.913198\n",
       "Name: ipcc, dtype: float64"
      ]
     },
     "metadata": {},
     "output_type": "display_data"
    },
    {
     "name": "stdout",
     "output_type": "stream",
     "text": [
      "natural gas, burned in gas turbine, for compressor station -4.483492111978228\n",
      "electricity production, natural gas, aluminium industry -2.1783613413253446\n",
      "electricity production, natural gas, combined cycle power plant -1.9247528978213477\n",
      "electricity production, natural gas, conventional power plant -1.913198074563409\n",
      "heat and power co-generation, natural gas, conventional power plant, 100MW electrical -1.9131980447611387\n",
      "\n",
      "recipe Production of electricity by petroleum and other oil derivatives\n"
     ]
    },
    {
     "data": {
      "text/plain": [
       "CA  ad33196c34fb6cfe124393d9877c08a2   -2.166463\n",
       "    290e0761b255a77f6ac10289ec71558d   -1.870644\n",
       "    57a04b0324c03205d16224f75f3aee95   -1.742569\n",
       "    ec5f799564f4b53cc95a5eda08d9701f   -1.720872\n",
       "    63ebfb0ebf06a8f4ad9d020b70090974   -1.720872\n",
       "Name: recipe, dtype: float64"
      ]
     },
     "metadata": {},
     "output_type": "display_data"
    },
    {
     "name": "stdout",
     "output_type": "stream",
     "text": [
      "natural gas, burned in gas turbine, for compressor station -2.1664628160125723\n",
      "electricity production, natural gas, aluminium industry -1.8706435891809745\n",
      "electricity production, natural gas, combined cycle power plant -1.7425690318313984\n",
      "electricity production, natural gas, conventional power plant -1.720872268515839\n",
      "heat and power co-generation, natural gas, conventional power plant, 100MW electrical -1.7208722353887713\n",
      "\n",
      "ipcc Production of electricity nec\n"
     ]
    },
    {
     "data": {
      "text/plain": [
       "CA  ad33196c34fb6cfe124393d9877c08a2   -4.483492\n",
       "    290e0761b255a77f6ac10289ec71558d   -2.178361\n",
       "    57a04b0324c03205d16224f75f3aee95   -1.924753\n",
       "    ec5f799564f4b53cc95a5eda08d9701f   -1.913198\n",
       "    63ebfb0ebf06a8f4ad9d020b70090974   -1.913198\n",
       "Name: ipcc, dtype: float64"
      ]
     },
     "metadata": {},
     "output_type": "display_data"
    },
    {
     "name": "stdout",
     "output_type": "stream",
     "text": [
      "natural gas, burned in gas turbine, for compressor station -4.483492111978228\n",
      "electricity production, natural gas, aluminium industry -2.1783613413253446\n",
      "electricity production, natural gas, combined cycle power plant -1.9247528978213477\n",
      "electricity production, natural gas, conventional power plant -1.913198074563409\n",
      "heat and power co-generation, natural gas, conventional power plant, 100MW electrical -1.9131980447611387\n",
      "\n",
      "recipe Production of electricity nec\n"
     ]
    },
    {
     "data": {
      "text/plain": [
       "CA  ad33196c34fb6cfe124393d9877c08a2   -2.166463\n",
       "    290e0761b255a77f6ac10289ec71558d   -1.870644\n",
       "    57a04b0324c03205d16224f75f3aee95   -1.742569\n",
       "    ec5f799564f4b53cc95a5eda08d9701f   -1.720872\n",
       "    63ebfb0ebf06a8f4ad9d020b70090974   -1.720872\n",
       "Name: recipe, dtype: float64"
      ]
     },
     "metadata": {},
     "output_type": "display_data"
    },
    {
     "name": "stdout",
     "output_type": "stream",
     "text": [
      "natural gas, burned in gas turbine, for compressor station -2.1664628160125723\n",
      "electricity production, natural gas, aluminium industry -1.8706435891809745\n",
      "electricity production, natural gas, combined cycle power plant -1.7425690318313984\n",
      "electricity production, natural gas, conventional power plant -1.720872268515839\n",
      "heat and power co-generation, natural gas, conventional power plant, 100MW electrical -1.7208722353887713\n",
      "\n",
      "ipcc Production of electricity by solar photovoltaic\n"
     ]
    },
    {
     "data": {
      "text/plain": [
       "CA  ad33196c34fb6cfe124393d9877c08a2   -4.483492\n",
       "    290e0761b255a77f6ac10289ec71558d   -2.178361\n",
       "    57a04b0324c03205d16224f75f3aee95   -1.924753\n",
       "    ec5f799564f4b53cc95a5eda08d9701f   -1.913198\n",
       "    63ebfb0ebf06a8f4ad9d020b70090974   -1.913198\n",
       "Name: ipcc, dtype: float64"
      ]
     },
     "metadata": {},
     "output_type": "display_data"
    },
    {
     "name": "stdout",
     "output_type": "stream",
     "text": [
      "natural gas, burned in gas turbine, for compressor station -4.483492111978228\n",
      "electricity production, natural gas, aluminium industry -2.1783613413253446\n",
      "electricity production, natural gas, combined cycle power plant -1.9247528978213477\n",
      "electricity production, natural gas, conventional power plant -1.913198074563409\n",
      "heat and power co-generation, natural gas, conventional power plant, 100MW electrical -1.9131980447611387\n",
      "\n",
      "recipe Production of electricity by solar photovoltaic\n"
     ]
    },
    {
     "data": {
      "text/plain": [
       "CA  ad33196c34fb6cfe124393d9877c08a2   -2.166463\n",
       "    290e0761b255a77f6ac10289ec71558d   -1.870644\n",
       "    57a04b0324c03205d16224f75f3aee95   -1.742569\n",
       "    ec5f799564f4b53cc95a5eda08d9701f   -1.720872\n",
       "    63ebfb0ebf06a8f4ad9d020b70090974   -1.720872\n",
       "Name: recipe, dtype: float64"
      ]
     },
     "metadata": {},
     "output_type": "display_data"
    },
    {
     "name": "stdout",
     "output_type": "stream",
     "text": [
      "natural gas, burned in gas turbine, for compressor station -2.1664628160125723\n",
      "electricity production, natural gas, aluminium industry -1.8706435891809745\n",
      "electricity production, natural gas, combined cycle power plant -1.7425690318313984\n",
      "electricity production, natural gas, conventional power plant -1.720872268515839\n",
      "heat and power co-generation, natural gas, conventional power plant, 100MW electrical -1.7208722353887713\n",
      "\n",
      "ipcc Production of electricity by wind\n"
     ]
    },
    {
     "data": {
      "text/plain": [
       "CA  ad33196c34fb6cfe124393d9877c08a2   -4.483492\n",
       "    290e0761b255a77f6ac10289ec71558d   -2.178361\n",
       "    57a04b0324c03205d16224f75f3aee95   -1.924753\n",
       "    ec5f799564f4b53cc95a5eda08d9701f   -1.913198\n",
       "    63ebfb0ebf06a8f4ad9d020b70090974   -1.913198\n",
       "Name: ipcc, dtype: float64"
      ]
     },
     "metadata": {},
     "output_type": "display_data"
    },
    {
     "name": "stdout",
     "output_type": "stream",
     "text": [
      "natural gas, burned in gas turbine, for compressor station -4.483492111978228\n",
      "electricity production, natural gas, aluminium industry -2.1783613413253446\n",
      "electricity production, natural gas, combined cycle power plant -1.9247528978213477\n",
      "electricity production, natural gas, conventional power plant -1.913198074563409\n",
      "heat and power co-generation, natural gas, conventional power plant, 100MW electrical -1.9131980447611387\n",
      "\n",
      "recipe Production of electricity by wind\n"
     ]
    },
    {
     "data": {
      "text/plain": [
       "CA  ad33196c34fb6cfe124393d9877c08a2   -2.166463\n",
       "    290e0761b255a77f6ac10289ec71558d   -1.870644\n",
       "    57a04b0324c03205d16224f75f3aee95   -1.742569\n",
       "    ec5f799564f4b53cc95a5eda08d9701f   -1.720872\n",
       "    63ebfb0ebf06a8f4ad9d020b70090974   -1.720872\n",
       "Name: recipe, dtype: float64"
      ]
     },
     "metadata": {},
     "output_type": "display_data"
    },
    {
     "name": "stdout",
     "output_type": "stream",
     "text": [
      "natural gas, burned in gas turbine, for compressor station -2.1664628160125723\n",
      "electricity production, natural gas, aluminium industry -1.8706435891809745\n",
      "electricity production, natural gas, combined cycle power plant -1.7425690318313984\n",
      "electricity production, natural gas, conventional power plant -1.720872268515839\n",
      "heat and power co-generation, natural gas, conventional power plant, 100MW electrical -1.7208722353887713\n",
      "\n",
      "ipcc Production of electricity by tide, wave, ocean\n"
     ]
    },
    {
     "data": {
      "text/plain": [
       "CA  ad33196c34fb6cfe124393d9877c08a2   -4.483492\n",
       "    290e0761b255a77f6ac10289ec71558d   -2.178361\n",
       "    57a04b0324c03205d16224f75f3aee95   -1.924753\n",
       "    ec5f799564f4b53cc95a5eda08d9701f   -1.913198\n",
       "    63ebfb0ebf06a8f4ad9d020b70090974   -1.913198\n",
       "Name: ipcc, dtype: float64"
      ]
     },
     "metadata": {},
     "output_type": "display_data"
    },
    {
     "name": "stdout",
     "output_type": "stream",
     "text": [
      "natural gas, burned in gas turbine, for compressor station -4.483492111978228\n",
      "electricity production, natural gas, aluminium industry -2.1783613413253446\n",
      "electricity production, natural gas, combined cycle power plant -1.9247528978213477\n",
      "electricity production, natural gas, conventional power plant -1.913198074563409\n",
      "heat and power co-generation, natural gas, conventional power plant, 100MW electrical -1.9131980447611387\n",
      "\n",
      "recipe Production of electricity by tide, wave, ocean\n"
     ]
    },
    {
     "data": {
      "text/plain": [
       "CA  ad33196c34fb6cfe124393d9877c08a2   -2.166463\n",
       "    290e0761b255a77f6ac10289ec71558d   -1.870644\n",
       "    57a04b0324c03205d16224f75f3aee95   -1.742569\n",
       "    ec5f799564f4b53cc95a5eda08d9701f   -1.720872\n",
       "    63ebfb0ebf06a8f4ad9d020b70090974   -1.720872\n",
       "Name: recipe, dtype: float64"
      ]
     },
     "metadata": {},
     "output_type": "display_data"
    },
    {
     "name": "stdout",
     "output_type": "stream",
     "text": [
      "natural gas, burned in gas turbine, for compressor station -2.1664628160125723\n",
      "electricity production, natural gas, aluminium industry -1.8706435891809745\n",
      "electricity production, natural gas, combined cycle power plant -1.7425690318313984\n",
      "electricity production, natural gas, conventional power plant -1.720872268515839\n",
      "heat and power co-generation, natural gas, conventional power plant, 100MW electrical -1.7208722353887713\n",
      "\n",
      "ipcc Production of electricity by nuclear\n"
     ]
    },
    {
     "data": {
      "text/plain": [
       "CA  ad33196c34fb6cfe124393d9877c08a2   -4.483492\n",
       "    290e0761b255a77f6ac10289ec71558d   -2.178361\n",
       "    57a04b0324c03205d16224f75f3aee95   -1.924753\n",
       "    ec5f799564f4b53cc95a5eda08d9701f   -1.913198\n",
       "    63ebfb0ebf06a8f4ad9d020b70090974   -1.913198\n",
       "Name: ipcc, dtype: float64"
      ]
     },
     "metadata": {},
     "output_type": "display_data"
    },
    {
     "name": "stdout",
     "output_type": "stream",
     "text": [
      "natural gas, burned in gas turbine, for compressor station -4.483492111978228\n",
      "electricity production, natural gas, aluminium industry -2.1783613413253446\n",
      "electricity production, natural gas, combined cycle power plant -1.9247528978213477\n",
      "electricity production, natural gas, conventional power plant -1.913198074563409\n",
      "heat and power co-generation, natural gas, conventional power plant, 100MW electrical -1.9131980447611387\n",
      "\n",
      "recipe Production of electricity by nuclear\n"
     ]
    },
    {
     "data": {
      "text/plain": [
       "CA  ad33196c34fb6cfe124393d9877c08a2   -2.166463\n",
       "    290e0761b255a77f6ac10289ec71558d   -1.870644\n",
       "    57a04b0324c03205d16224f75f3aee95   -1.742569\n",
       "    ec5f799564f4b53cc95a5eda08d9701f   -1.720872\n",
       "    63ebfb0ebf06a8f4ad9d020b70090974   -1.720872\n",
       "Name: recipe, dtype: float64"
      ]
     },
     "metadata": {},
     "output_type": "display_data"
    },
    {
     "name": "stdout",
     "output_type": "stream",
     "text": [
      "natural gas, burned in gas turbine, for compressor station -2.1664628160125723\n",
      "electricity production, natural gas, aluminium industry -1.8706435891809745\n",
      "electricity production, natural gas, combined cycle power plant -1.7425690318313984\n",
      "electricity production, natural gas, conventional power plant -1.720872268515839\n",
      "heat and power co-generation, natural gas, conventional power plant, 100MW electrical -1.7208722353887713\n",
      "\n",
      "ipcc Production of electricity by solar thermal\n"
     ]
    },
    {
     "data": {
      "text/plain": [
       "CA  ad33196c34fb6cfe124393d9877c08a2   -4.483492\n",
       "    290e0761b255a77f6ac10289ec71558d   -2.178361\n",
       "    57a04b0324c03205d16224f75f3aee95   -1.924753\n",
       "    ec5f799564f4b53cc95a5eda08d9701f   -1.913198\n",
       "    63ebfb0ebf06a8f4ad9d020b70090974   -1.913198\n",
       "Name: ipcc, dtype: float64"
      ]
     },
     "metadata": {},
     "output_type": "display_data"
    },
    {
     "name": "stdout",
     "output_type": "stream",
     "text": [
      "natural gas, burned in gas turbine, for compressor station -4.483492111978228\n",
      "electricity production, natural gas, aluminium industry -2.1783613413253446\n",
      "electricity production, natural gas, combined cycle power plant -1.9247528978213477\n",
      "electricity production, natural gas, conventional power plant -1.913198074563409\n",
      "heat and power co-generation, natural gas, conventional power plant, 100MW electrical -1.9131980447611387\n",
      "\n",
      "recipe Production of electricity by solar thermal\n"
     ]
    },
    {
     "data": {
      "text/plain": [
       "CA  ad33196c34fb6cfe124393d9877c08a2   -2.166463\n",
       "    290e0761b255a77f6ac10289ec71558d   -1.870644\n",
       "    57a04b0324c03205d16224f75f3aee95   -1.742569\n",
       "    ec5f799564f4b53cc95a5eda08d9701f   -1.720872\n",
       "    63ebfb0ebf06a8f4ad9d020b70090974   -1.720872\n",
       "Name: recipe, dtype: float64"
      ]
     },
     "metadata": {},
     "output_type": "display_data"
    },
    {
     "name": "stdout",
     "output_type": "stream",
     "text": [
      "natural gas, burned in gas turbine, for compressor station -2.1664628160125723\n",
      "electricity production, natural gas, aluminium industry -1.8706435891809745\n",
      "electricity production, natural gas, combined cycle power plant -1.7425690318313984\n",
      "electricity production, natural gas, conventional power plant -1.720872268515839\n",
      "heat and power co-generation, natural gas, conventional power plant, 100MW electrical -1.7208722353887713\n",
      "\n",
      "ipcc Production of electricity by biomass and waste\n"
     ]
    },
    {
     "data": {
      "text/plain": [
       "CA  ad33196c34fb6cfe124393d9877c08a2   -4.483492\n",
       "    290e0761b255a77f6ac10289ec71558d   -2.178361\n",
       "    57a04b0324c03205d16224f75f3aee95   -1.924753\n",
       "    ec5f799564f4b53cc95a5eda08d9701f   -1.913198\n",
       "    63ebfb0ebf06a8f4ad9d020b70090974   -1.913198\n",
       "Name: ipcc, dtype: float64"
      ]
     },
     "metadata": {},
     "output_type": "display_data"
    },
    {
     "name": "stdout",
     "output_type": "stream",
     "text": [
      "natural gas, burned in gas turbine, for compressor station -4.483492111978228\n",
      "electricity production, natural gas, aluminium industry -2.1783613413253446\n",
      "electricity production, natural gas, combined cycle power plant -1.9247528978213477\n",
      "electricity production, natural gas, conventional power plant -1.913198074563409\n",
      "heat and power co-generation, natural gas, conventional power plant, 100MW electrical -1.9131980447611387\n",
      "\n",
      "recipe Production of electricity by biomass and waste\n"
     ]
    },
    {
     "data": {
      "text/plain": [
       "CA  ad33196c34fb6cfe124393d9877c08a2   -2.166463\n",
       "    290e0761b255a77f6ac10289ec71558d   -1.870644\n",
       "    57a04b0324c03205d16224f75f3aee95   -1.742569\n",
       "    ec5f799564f4b53cc95a5eda08d9701f   -1.720872\n",
       "    63ebfb0ebf06a8f4ad9d020b70090974   -1.720872\n",
       "Name: recipe, dtype: float64"
      ]
     },
     "metadata": {},
     "output_type": "display_data"
    },
    {
     "name": "stdout",
     "output_type": "stream",
     "text": [
      "natural gas, burned in gas turbine, for compressor station -2.1664628160125723\n",
      "electricity production, natural gas, aluminium industry -1.8706435891809745\n",
      "electricity production, natural gas, combined cycle power plant -1.7425690318313984\n",
      "electricity production, natural gas, conventional power plant -1.720872268515839\n",
      "heat and power co-generation, natural gas, conventional power plant, 100MW electrical -1.7208722353887713\n",
      "\n",
      "ipcc Production of electricity by hydro\n"
     ]
    },
    {
     "data": {
      "text/plain": [
       "CA  ad33196c34fb6cfe124393d9877c08a2   -4.483492\n",
       "    290e0761b255a77f6ac10289ec71558d   -2.178361\n",
       "    57a04b0324c03205d16224f75f3aee95   -1.924753\n",
       "    ec5f799564f4b53cc95a5eda08d9701f   -1.913198\n",
       "    63ebfb0ebf06a8f4ad9d020b70090974   -1.913198\n",
       "Name: ipcc, dtype: float64"
      ]
     },
     "metadata": {},
     "output_type": "display_data"
    },
    {
     "name": "stdout",
     "output_type": "stream",
     "text": [
      "natural gas, burned in gas turbine, for compressor station -4.483492111978228\n",
      "electricity production, natural gas, aluminium industry -2.1783613413253446\n",
      "electricity production, natural gas, combined cycle power plant -1.9247528978213477\n",
      "electricity production, natural gas, conventional power plant -1.913198074563409\n",
      "heat and power co-generation, natural gas, conventional power plant, 100MW electrical -1.9131980447611387\n",
      "\n",
      "recipe Production of electricity by hydro\n"
     ]
    },
    {
     "data": {
      "text/plain": [
       "CA  ad33196c34fb6cfe124393d9877c08a2   -2.166463\n",
       "    290e0761b255a77f6ac10289ec71558d   -1.870644\n",
       "    57a04b0324c03205d16224f75f3aee95   -1.742569\n",
       "    ec5f799564f4b53cc95a5eda08d9701f   -1.720872\n",
       "    63ebfb0ebf06a8f4ad9d020b70090974   -1.720872\n",
       "Name: recipe, dtype: float64"
      ]
     },
     "metadata": {},
     "output_type": "display_data"
    },
    {
     "name": "stdout",
     "output_type": "stream",
     "text": [
      "natural gas, burned in gas turbine, for compressor station -2.1664628160125723\n",
      "electricity production, natural gas, aluminium industry -1.8706435891809745\n",
      "electricity production, natural gas, combined cycle power plant -1.7425690318313984\n",
      "electricity production, natural gas, conventional power plant -1.720872268515839\n",
      "heat and power co-generation, natural gas, conventional power plant, 100MW electrical -1.7208722353887713\n",
      "\n",
      "ipcc Distribution and trade of electricity\n"
     ]
    },
    {
     "data": {
      "text/plain": [
       "CA  ad33196c34fb6cfe124393d9877c08a2   -4.483492\n",
       "    290e0761b255a77f6ac10289ec71558d   -2.178361\n",
       "    57a04b0324c03205d16224f75f3aee95   -1.924753\n",
       "    ec5f799564f4b53cc95a5eda08d9701f   -1.913198\n",
       "    63ebfb0ebf06a8f4ad9d020b70090974   -1.913198\n",
       "Name: ipcc, dtype: float64"
      ]
     },
     "metadata": {},
     "output_type": "display_data"
    },
    {
     "name": "stdout",
     "output_type": "stream",
     "text": [
      "natural gas, burned in gas turbine, for compressor station -4.483492111978228\n",
      "electricity production, natural gas, aluminium industry -2.1783613413253446\n",
      "electricity production, natural gas, combined cycle power plant -1.9247528978213477\n",
      "electricity production, natural gas, conventional power plant -1.913198074563409\n",
      "heat and power co-generation, natural gas, conventional power plant, 100MW electrical -1.9131980447611387\n",
      "\n",
      "recipe Distribution and trade of electricity\n"
     ]
    },
    {
     "data": {
      "text/plain": [
       "CA  ad33196c34fb6cfe124393d9877c08a2   -2.166463\n",
       "    290e0761b255a77f6ac10289ec71558d   -1.870644\n",
       "    57a04b0324c03205d16224f75f3aee95   -1.742569\n",
       "    ec5f799564f4b53cc95a5eda08d9701f   -1.720872\n",
       "    63ebfb0ebf06a8f4ad9d020b70090974   -1.720872\n",
       "Name: recipe, dtype: float64"
      ]
     },
     "metadata": {},
     "output_type": "display_data"
    },
    {
     "name": "stdout",
     "output_type": "stream",
     "text": [
      "natural gas, burned in gas turbine, for compressor station -2.1664628160125723\n",
      "electricity production, natural gas, aluminium industry -1.8706435891809745\n",
      "electricity production, natural gas, combined cycle power plant -1.7425690318313984\n",
      "electricity production, natural gas, conventional power plant -1.720872268515839\n",
      "heat and power co-generation, natural gas, conventional power plant, 100MW electrical -1.7208722353887713\n",
      "\n",
      "ipcc Transmission of electricity\n"
     ]
    },
    {
     "data": {
      "text/plain": [
       "CA  ad33196c34fb6cfe124393d9877c08a2   -4.483492\n",
       "    290e0761b255a77f6ac10289ec71558d   -2.178361\n",
       "    57a04b0324c03205d16224f75f3aee95   -1.924753\n",
       "    ec5f799564f4b53cc95a5eda08d9701f   -1.913198\n",
       "    63ebfb0ebf06a8f4ad9d020b70090974   -1.913198\n",
       "Name: ipcc, dtype: float64"
      ]
     },
     "metadata": {},
     "output_type": "display_data"
    },
    {
     "name": "stdout",
     "output_type": "stream",
     "text": [
      "natural gas, burned in gas turbine, for compressor station -4.483492111978228\n",
      "electricity production, natural gas, aluminium industry -2.1783613413253446\n",
      "electricity production, natural gas, combined cycle power plant -1.9247528978213477\n",
      "electricity production, natural gas, conventional power plant -1.913198074563409\n",
      "heat and power co-generation, natural gas, conventional power plant, 100MW electrical -1.9131980447611387\n",
      "\n",
      "recipe Transmission of electricity\n"
     ]
    },
    {
     "data": {
      "text/plain": [
       "CA  ad33196c34fb6cfe124393d9877c08a2   -2.166463\n",
       "    290e0761b255a77f6ac10289ec71558d   -1.870644\n",
       "    57a04b0324c03205d16224f75f3aee95   -1.742569\n",
       "    ec5f799564f4b53cc95a5eda08d9701f   -1.720872\n",
       "    63ebfb0ebf06a8f4ad9d020b70090974   -1.720872\n",
       "Name: recipe, dtype: float64"
      ]
     },
     "metadata": {},
     "output_type": "display_data"
    },
    {
     "name": "stdout",
     "output_type": "stream",
     "text": [
      "natural gas, burned in gas turbine, for compressor station -2.1664628160125723\n",
      "electricity production, natural gas, aluminium industry -1.8706435891809745\n",
      "electricity production, natural gas, combined cycle power plant -1.7425690318313984\n",
      "electricity production, natural gas, conventional power plant -1.720872268515839\n",
      "heat and power co-generation, natural gas, conventional power plant, 100MW electrical -1.7208722353887713\n",
      "\n",
      "ipcc Production of electricity by coal\n"
     ]
    },
    {
     "data": {
      "text/plain": [
       "CA  ad33196c34fb6cfe124393d9877c08a2   -4.483492\n",
       "    290e0761b255a77f6ac10289ec71558d   -2.178361\n",
       "    57a04b0324c03205d16224f75f3aee95   -1.924753\n",
       "    ec5f799564f4b53cc95a5eda08d9701f   -1.913198\n",
       "    63ebfb0ebf06a8f4ad9d020b70090974   -1.913198\n",
       "Name: ipcc, dtype: float64"
      ]
     },
     "metadata": {},
     "output_type": "display_data"
    },
    {
     "name": "stdout",
     "output_type": "stream",
     "text": [
      "natural gas, burned in gas turbine, for compressor station -4.483492111978228\n",
      "electricity production, natural gas, aluminium industry -2.1783613413253446\n",
      "electricity production, natural gas, combined cycle power plant -1.9247528978213477\n",
      "electricity production, natural gas, conventional power plant -1.913198074563409\n",
      "heat and power co-generation, natural gas, conventional power plant, 100MW electrical -1.9131980447611387\n",
      "\n",
      "recipe Production of electricity by coal\n"
     ]
    },
    {
     "data": {
      "text/plain": [
       "CA  ad33196c34fb6cfe124393d9877c08a2   -2.166463\n",
       "    290e0761b255a77f6ac10289ec71558d   -1.870644\n",
       "    57a04b0324c03205d16224f75f3aee95   -1.742569\n",
       "    ec5f799564f4b53cc95a5eda08d9701f   -1.720872\n",
       "    63ebfb0ebf06a8f4ad9d020b70090974   -1.720872\n",
       "Name: recipe, dtype: float64"
      ]
     },
     "metadata": {},
     "output_type": "display_data"
    },
    {
     "name": "stdout",
     "output_type": "stream",
     "text": [
      "natural gas, burned in gas turbine, for compressor station -2.1664628160125723\n",
      "electricity production, natural gas, aluminium industry -1.8706435891809745\n",
      "electricity production, natural gas, combined cycle power plant -1.7425690318313984\n",
      "electricity production, natural gas, conventional power plant -1.720872268515839\n",
      "heat and power co-generation, natural gas, conventional power plant, 100MW electrical -1.7208722353887713\n",
      "\n",
      "ipcc Production of electricity by Geothermal\n"
     ]
    },
    {
     "data": {
      "text/plain": [
       "CA  ad33196c34fb6cfe124393d9877c08a2   -4.483492\n",
       "    290e0761b255a77f6ac10289ec71558d   -2.178361\n",
       "    57a04b0324c03205d16224f75f3aee95   -1.924753\n",
       "    ec5f799564f4b53cc95a5eda08d9701f   -1.913198\n",
       "    63ebfb0ebf06a8f4ad9d020b70090974   -1.913198\n",
       "Name: ipcc, dtype: float64"
      ]
     },
     "metadata": {},
     "output_type": "display_data"
    },
    {
     "name": "stdout",
     "output_type": "stream",
     "text": [
      "natural gas, burned in gas turbine, for compressor station -4.483492111978228\n",
      "electricity production, natural gas, aluminium industry -2.1783613413253446\n",
      "electricity production, natural gas, combined cycle power plant -1.9247528978213477\n",
      "electricity production, natural gas, conventional power plant -1.913198074563409\n",
      "heat and power co-generation, natural gas, conventional power plant, 100MW electrical -1.9131980447611387\n",
      "\n",
      "recipe Production of electricity by Geothermal\n"
     ]
    },
    {
     "data": {
      "text/plain": [
       "CA  ad33196c34fb6cfe124393d9877c08a2   -2.166463\n",
       "    290e0761b255a77f6ac10289ec71558d   -1.870644\n",
       "    57a04b0324c03205d16224f75f3aee95   -1.742569\n",
       "    ec5f799564f4b53cc95a5eda08d9701f   -1.720872\n",
       "    63ebfb0ebf06a8f4ad9d020b70090974   -1.720872\n",
       "Name: recipe, dtype: float64"
      ]
     },
     "metadata": {},
     "output_type": "display_data"
    },
    {
     "name": "stdout",
     "output_type": "stream",
     "text": [
      "natural gas, burned in gas turbine, for compressor station -2.1664628160125723\n",
      "electricity production, natural gas, aluminium industry -1.8706435891809745\n",
      "electricity production, natural gas, combined cycle power plant -1.7425690318313984\n",
      "electricity production, natural gas, conventional power plant -1.720872268515839\n",
      "heat and power co-generation, natural gas, conventional power plant, 100MW electrical -1.7208722353887713\n",
      "\n",
      "ipcc Chemicals nec\n"
     ]
    },
    {
     "data": {
      "text/plain": [
       "CA  52e5c6db31f64e2fa47bbcbd0fe176c2   -13.652695\n",
       "TR  52e5c6db31f64e2fa47bbcbd0fe176c2   -12.252129\n",
       "CA  71a8fac5f043d4800cfafb362755e5ae    -6.991488\n",
       "    c33b53dde99d48438551721df7bf5e6b    -6.991488\n",
       "    d57d0bea687db36e48cc3ba7be3d88ff    -6.991488\n",
       "Name: ipcc, dtype: float64"
      ]
     },
     "metadata": {},
     "output_type": "display_data"
    },
    {
     "name": "stdout",
     "output_type": "stream",
     "text": [
      "market for helium, crude -13.652695228119368\n",
      "market for helium, crude -12.252129183515422\n",
      "ethane extraction, from natural gas liquids -6.991488030242942\n",
      "butane extraction, from natural gas liquids -6.991488030242942\n",
      "pentane extraction, from natural gas liquids -6.991488030242942\n",
      "\n",
      "recipe Chemicals nec\n"
     ]
    },
    {
     "data": {
      "text/plain": [
       "CA  52e5c6db31f64e2fa47bbcbd0fe176c2   -3.110691\n",
       "TR  52e5c6db31f64e2fa47bbcbd0fe176c2   -2.714724\n",
       "CA  71a8fac5f043d4800cfafb362755e5ae   -2.164463\n",
       "    c33b53dde99d48438551721df7bf5e6b   -2.164463\n",
       "    d57d0bea687db36e48cc3ba7be3d88ff   -2.164463\n",
       "Name: recipe, dtype: float64"
      ]
     },
     "metadata": {},
     "output_type": "display_data"
    },
    {
     "name": "stdout",
     "output_type": "stream",
     "text": [
      "market for helium, crude -3.1106906993893766\n",
      "market for helium, crude -2.7147238208858018\n",
      "ethane extraction, from natural gas liquids -2.1644625824246075\n",
      "butane extraction, from natural gas liquids -2.1644625824246075\n",
      "pentane extraction, from natural gas liquids -2.1644625824246075\n",
      "\n",
      "ipcc Plastics, basic\n"
     ]
    },
    {
     "data": {
      "text/plain": [
       "CA  52e5c6db31f64e2fa47bbcbd0fe176c2   -13.652695\n",
       "TR  52e5c6db31f64e2fa47bbcbd0fe176c2   -12.252129\n",
       "CA  71a8fac5f043d4800cfafb362755e5ae    -6.991488\n",
       "    c33b53dde99d48438551721df7bf5e6b    -6.991488\n",
       "    d57d0bea687db36e48cc3ba7be3d88ff    -6.991488\n",
       "Name: ipcc, dtype: float64"
      ]
     },
     "metadata": {},
     "output_type": "display_data"
    },
    {
     "name": "stdout",
     "output_type": "stream",
     "text": [
      "market for helium, crude -13.652695228119368\n",
      "market for helium, crude -12.252129183515422\n",
      "ethane extraction, from natural gas liquids -6.991488030242942\n",
      "butane extraction, from natural gas liquids -6.991488030242942\n",
      "pentane extraction, from natural gas liquids -6.991488030242942\n",
      "\n",
      "recipe Plastics, basic\n"
     ]
    },
    {
     "data": {
      "text/plain": [
       "CA  52e5c6db31f64e2fa47bbcbd0fe176c2   -3.110691\n",
       "TR  52e5c6db31f64e2fa47bbcbd0fe176c2   -2.714724\n",
       "CA  71a8fac5f043d4800cfafb362755e5ae   -2.164463\n",
       "    c33b53dde99d48438551721df7bf5e6b   -2.164463\n",
       "    d57d0bea687db36e48cc3ba7be3d88ff   -2.164463\n",
       "Name: recipe, dtype: float64"
      ]
     },
     "metadata": {},
     "output_type": "display_data"
    },
    {
     "name": "stdout",
     "output_type": "stream",
     "text": [
      "market for helium, crude -3.1106906993893766\n",
      "market for helium, crude -2.7147238208858018\n",
      "ethane extraction, from natural gas liquids -2.1644625824246075\n",
      "butane extraction, from natural gas liquids -2.1644625824246075\n",
      "pentane extraction, from natural gas liquids -2.1644625824246075\n",
      "\n",
      "ipcc Manufacture of other non-metallic mineral products n.e.c.\n"
     ]
    },
    {
     "data": {
      "text/plain": [
       "CA  e8c10376ca2a0ae8812636f52c478471   -0.126414\n",
       "    45b8193fdf97651f7b629b62e4364a35   -0.050692\n",
       "Name: ipcc, dtype: float64"
      ]
     },
     "metadata": {},
     "output_type": "display_data"
    },
    {
     "name": "stdout",
     "output_type": "stream",
     "text": [
      "glass wool mat production -0.126413614769292\n",
      "market for glass wool mat -0.050692046776783746\n",
      "\n",
      "ipcc Manufacture of gas; distribution of gaseous fuels through mains\n"
     ]
    },
    {
     "data": {
      "text/plain": [
       "CA  7d1ba6ebb4bf8c3124bce538282a7115   -20.309833\n",
       "TR  7d1ba6ebb4bf8c3124bce538282a7115   -18.374750\n",
       "CA  a46f4a3c5920a287edd9b8b4ab7e2c75   -14.191067\n",
       "    e6c07ed6fc2a0e5e3e2ff60e5de29dca   -14.177598\n",
       "    0fa0de1ef68aad40ac6825f405c4b0d0   -13.652696\n",
       "Name: ipcc, dtype: float64"
      ]
     },
     "metadata": {},
     "output_type": "display_data"
    },
    {
     "name": "stdout",
     "output_type": "stream",
     "text": [
      "natural gas pressure reduction from high to low pressure -20.30983318033867\n",
      "natural gas pressure reduction from high to low pressure -18.374749534398614\n",
      "natural gas, from high pressure network (1-5 bar), at service station -14.1910669840239\n",
      "market for natural gas, from high pressure network (1-5 bar), at service station -14.177598021080026\n",
      "natural gas liquids production -13.652695596517926\n",
      "\n",
      "recipe Manufacture of gas; distribution of gaseous fuels through mains\n"
     ]
    },
    {
     "data": {
      "text/plain": [
       "CA  7d1ba6ebb4bf8c3124bce538282a7115   -3.428972\n",
       "    34475266bb20732990bbcb3c2ac77461   -3.217455\n",
       "    0fa0de1ef68aad40ac6825f405c4b0d0   -3.110691\n",
       "    d0edfd7fe072f4a364f9855ab4e98539   -3.110691\n",
       "    67e53ed694e4e20e243b8a9781e3224e   -3.110691\n",
       "Name: recipe, dtype: float64"
      ]
     },
     "metadata": {},
     "output_type": "display_data"
    },
    {
     "name": "stdout",
     "output_type": "stream",
     "text": [
      "natural gas pressure reduction from high to low pressure -3.428971885310935\n",
      "market for natural gas, low pressure -3.2174552547805066\n",
      "natural gas liquids production -3.11069081906773\n",
      "market for natural gas liquids -3.11069081906773\n",
      "natural gas liquids production -3.110690699389377\n",
      "\n",
      "ipcc Cultivation of wheat\n"
     ]
    },
    {
     "data": {
      "text/plain": [
       "CA  9d3dcc50d271e50da28de13723b2bb90   -1.253557\n",
       "    2086ed0c012d5e4415ca381df34f1e6b   -1.014692\n",
       "Name: ipcc, dtype: float64"
      ]
     },
     "metadata": {},
     "output_type": "display_data"
    },
    {
     "name": "stdout",
     "output_type": "stream",
     "text": [
      "drying of maize grain -1.253556982261948\n",
      "market for drying of maize grain -1.0146916349673478\n",
      "\n",
      "recipe Cultivation of wheat\n"
     ]
    },
    {
     "data": {
      "text/plain": [
       "CA  9d3dcc50d271e50da28de13723b2bb90   -0.302837\n",
       "    2086ed0c012d5e4415ca381df34f1e6b   -0.269583\n",
       "Name: recipe, dtype: float64"
      ]
     },
     "metadata": {},
     "output_type": "display_data"
    },
    {
     "name": "stdout",
     "output_type": "stream",
     "text": [
      "drying of maize grain -0.30283662955637936\n",
      "market for drying of maize grain -0.2695828246868117\n",
      "\n",
      "ipcc Cultivation of oil seeds\n"
     ]
    },
    {
     "data": {
      "text/plain": [
       "CA  9d3dcc50d271e50da28de13723b2bb90   -1.253557\n",
       "    2086ed0c012d5e4415ca381df34f1e6b   -1.014692\n",
       "Name: ipcc, dtype: float64"
      ]
     },
     "metadata": {},
     "output_type": "display_data"
    },
    {
     "name": "stdout",
     "output_type": "stream",
     "text": [
      "drying of maize grain -1.253556982261948\n",
      "market for drying of maize grain -1.0146916349673478\n",
      "\n",
      "recipe Cultivation of oil seeds\n"
     ]
    },
    {
     "data": {
      "text/plain": [
       "CA  9d3dcc50d271e50da28de13723b2bb90   -0.302837\n",
       "    2086ed0c012d5e4415ca381df34f1e6b   -0.269583\n",
       "Name: recipe, dtype: float64"
      ]
     },
     "metadata": {},
     "output_type": "display_data"
    },
    {
     "name": "stdout",
     "output_type": "stream",
     "text": [
      "drying of maize grain -0.30283662955637936\n",
      "market for drying of maize grain -0.2695828246868117\n",
      "\n",
      "ipcc Cultivation of cereal grains nec\n"
     ]
    },
    {
     "data": {
      "text/plain": [
       "CA  9d3dcc50d271e50da28de13723b2bb90   -1.253557\n",
       "    2086ed0c012d5e4415ca381df34f1e6b   -1.014692\n",
       "Name: ipcc, dtype: float64"
      ]
     },
     "metadata": {},
     "output_type": "display_data"
    },
    {
     "name": "stdout",
     "output_type": "stream",
     "text": [
      "drying of maize grain -1.253556982261948\n",
      "market for drying of maize grain -1.0146916349673478\n",
      "\n",
      "recipe Cultivation of cereal grains nec\n"
     ]
    },
    {
     "data": {
      "text/plain": [
       "CA  9d3dcc50d271e50da28de13723b2bb90   -0.302837\n",
       "    2086ed0c012d5e4415ca381df34f1e6b   -0.269583\n",
       "Name: recipe, dtype: float64"
      ]
     },
     "metadata": {},
     "output_type": "display_data"
    },
    {
     "name": "stdout",
     "output_type": "stream",
     "text": [
      "drying of maize grain -0.30283662955637936\n",
      "market for drying of maize grain -0.2695828246868117\n",
      "\n",
      "ipcc Other land transport\n"
     ]
    },
    {
     "data": {
      "text/plain": [
       "CA  c904364b2c1530590243bb9ff58422db   -1.043774\n",
       "    c8894c98550491f94bb1f9a529184d75   -1.043321\n",
       "    6ebc190ca93a25139c1416e0eba3ad20   -1.033237\n",
       "    129ea36adcb0996467260a5f5210dd28   -1.032992\n",
       "    fa5f508e738bee6b4cebf21f1dd3ef88   -1.007674\n",
       "Name: ipcc, dtype: float64"
      ]
     },
     "metadata": {},
     "output_type": "display_data"
    },
    {
     "name": "stdout",
     "output_type": "stream",
     "text": [
      "transport, passenger car, small size, natural gas, EURO 3 -1.043773956276395\n",
      "transport, passenger car, small size, natural gas, EURO 4 -1.0433210588674813\n",
      "market for transport, passenger car, small size, natural gas, EURO 3 -1.0332372267070369\n",
      "market for transport, passenger car, small size, natural gas, EURO 4 -1.032991591605249\n",
      "transport, passenger car, small size, natural gas, EURO 5 -1.0076739544347613\n",
      "\n",
      "recipe Other land transport\n"
     ]
    },
    {
     "data": {
      "text/plain": [
       "CA  c904364b2c1530590243bb9ff58422db   -0.747365\n",
       "    6ebc190ca93a25139c1416e0eba3ad20   -0.740787\n",
       "    c8894c98550491f94bb1f9a529184d75   -0.701081\n",
       "    129ea36adcb0996467260a5f5210dd28   -0.695191\n",
       "    1a6a751247cf6fac91ce81b33cb7bde7   -0.685356\n",
       "Name: recipe, dtype: float64"
      ]
     },
     "metadata": {},
     "output_type": "display_data"
    },
    {
     "name": "stdout",
     "output_type": "stream",
     "text": [
      "transport, passenger car, small size, natural gas, EURO 3 -0.7473647790732822\n",
      "market for transport, passenger car, small size, natural gas, EURO 3 -0.7407866016747806\n",
      "transport, passenger car, small size, natural gas, EURO 4 -0.7010807717022148\n",
      "market for transport, passenger car, small size, natural gas, EURO 4 -0.6951907171300409\n",
      "transport, passenger car, medium size, natural gas, EURO 3 -0.6853559033543926\n",
      "\n",
      "ipcc Manufacture of fabricated metal products, except machinery and equipment\n"
     ]
    },
    {
     "data": {
      "text/plain": [
       "CA  7f6195e12ed9f192f4d15d0694ff2f3d   -0.025606\n",
       "    cf0171845f6f41e1c1313de788e0661a   -0.020729\n",
       "    416472c093e9f13ee22a836b3e8b051e   -0.009765\n",
       "    37f3958bd078a5adc8a02d364d7a1f87   -0.003477\n",
       "Name: ipcc, dtype: float64"
      ]
     },
     "metadata": {},
     "output_type": "display_data"
    },
    {
     "name": "stdout",
     "output_type": "stream",
     "text": [
      "contouring, brass -0.02560617523326345\n",
      "market for contouring, brass -0.02072910133260911\n",
      "selective coating, copper sheet, black chrome -0.009764633759849744\n",
      "market for selective coat, copper sheet, black chrome -0.0034769613422602464\n",
      "\n",
      "ipcc Steam and hot water supply\n"
     ]
    },
    {
     "data": {
      "text/plain": [
       "CA  70252303e334af0d258b6344420b9b2b   -1.445927\n",
       "    2d5c8864d02a6110e33f885c2e0f1b0c   -1.440728\n",
       "    77e6364badc0704a7ea4888b146691b5   -1.440728\n",
       "    5719cc3c57c7b5cc07f57fcab273c3af   -1.440616\n",
       "    afc440104cdd2847b13315cbe350fab7   -1.440616\n",
       "Name: ipcc, dtype: float64"
      ]
     },
     "metadata": {},
     "output_type": "display_data"
    },
    {
     "name": "stdout",
     "output_type": "stream",
     "text": [
      "heat production, natural gas, at boiler condensing modulating <100kW -1.4459270739397743\n",
      "heat and power co-generation, natural gas, 160kW electrical, lambda=1 -1.4407282043775504\n",
      "heat and power co-generation, natural gas, 160kW electrical, lambda=1 -1.4407281788914634\n",
      "heat and power co-generation, natural gas, 160kW electrical, Jakobsberg -1.4406162474834936\n",
      "heat and power co-generation, natural gas, 160kW electrical, Jakobsberg -1.4406161811434357\n",
      "\n",
      "recipe Steam and hot water supply\n"
     ]
    },
    {
     "data": {
      "text/plain": [
       "CA  77e6364badc0704a7ea4888b146691b5   -1.421180\n",
       "    2d5c8864d02a6110e33f885c2e0f1b0c   -1.421180\n",
       "    5719cc3c57c7b5cc07f57fcab273c3af   -1.421126\n",
       "    afc440104cdd2847b13315cbe350fab7   -1.421126\n",
       "    9e64391cf256cff9f2468efad996b4e1   -1.417845\n",
       "Name: recipe, dtype: float64"
      ]
     },
     "metadata": {},
     "output_type": "display_data"
    },
    {
     "name": "stdout",
     "output_type": "stream",
     "text": [
      "heat and power co-generation, natural gas, 160kW electrical, lambda=1 -1.4211802089507133\n",
      "heat and power co-generation, natural gas, 160kW electrical, lambda=1 -1.4211802033174346\n",
      "heat and power co-generation, natural gas, 160kW electrical, Jakobsberg -1.4211258096366586\n",
      "heat and power co-generation, natural gas, 160kW electrical, Jakobsberg -1.4211257790979717\n",
      "market for heat, central or small-scale, natural gas, Jakobsberg -1.4178445264182027\n",
      "\n",
      "ipcc Extraction of natural gas and services related to natural gas extraction, excluding surveying\n"
     ]
    },
    {
     "data": {
      "text/plain": [
       "CA  c74deafc10fd19cc2608289d656b3f07   -8.193688\n",
       "    17760a9c901e98e20db30da45d668239   -7.723903\n",
       "BG  c74deafc10fd19cc2608289d656b3f07   -7.698501\n",
       "    17760a9c901e98e20db30da45d668239   -7.257107\n",
       "TR  c74deafc10fd19cc2608289d656b3f07   -4.011541\n",
       "Name: ipcc, dtype: float64"
      ]
     },
     "metadata": {},
     "output_type": "display_data"
    },
    {
     "name": "stdout",
     "output_type": "stream",
     "text": [
      "market for natural gas, liquefied -8.193688458532261\n",
      "natural gas production, liquefied -7.723902583672251\n",
      "market for natural gas, liquefied -7.698501203172968\n",
      "natural gas production, liquefied -7.257106934749526\n",
      "market for natural gas, liquefied -4.011540717688918\n",
      "\n",
      "recipe Extraction of natural gas and services related to natural gas extraction, excluding surveying\n"
     ]
    },
    {
     "data": {
      "text/plain": [
       "CA  c74deafc10fd19cc2608289d656b3f07   -2.534053\n",
       "    17760a9c901e98e20db30da45d668239   -2.459973\n",
       "BG  c74deafc10fd19cc2608289d656b3f07   -2.344894\n",
       "    17760a9c901e98e20db30da45d668239   -2.276344\n",
       "TR  c74deafc10fd19cc2608289d656b3f07   -0.930415\n",
       "Name: recipe, dtype: float64"
      ]
     },
     "metadata": {},
     "output_type": "display_data"
    },
    {
     "name": "stdout",
     "output_type": "stream",
     "text": [
      "market for natural gas, liquefied -2.5340525728271337\n",
      "natural gas production, liquefied -2.4599729057063597\n",
      "market for natural gas, liquefied -2.34489431634351\n",
      "natural gas production, liquefied -2.2763444400501696\n",
      "market for natural gas, liquefied -0.9304147789158813\n",
      "\n",
      "ipcc Transport via pipelines\n"
     ]
    },
    {
     "data": {
      "text/plain": [
       "CA  c61fe3ea4965e119209c96632b10bcb8   -8.933319\n",
       "Name: ipcc, dtype: float64"
      ]
     },
     "metadata": {},
     "output_type": "display_data"
    },
    {
     "name": "stdout",
     "output_type": "stream",
     "text": [
      "natural gas, high pressure, import from CA-AB -8.933319235536386\n",
      "\n",
      "recipe Transport via pipelines\n"
     ]
    },
    {
     "data": {
      "text/plain": [
       "CA  c61fe3ea4965e119209c96632b10bcb8   -2.851397\n",
       "Name: recipe, dtype: float64"
      ]
     },
     "metadata": {},
     "output_type": "display_data"
    },
    {
     "name": "stdout",
     "output_type": "stream",
     "text": [
      "natural gas, high pressure, import from CA-AB -2.8513966643276474\n",
      "\n",
      "ipcc Pulp\n"
     ]
    },
    {
     "data": {
      "text/plain": [
       "CA  ae6494ac779fe6e41b3859ef8ac30363   -0.006299\n",
       "    97f0f3c6800b9e64a873b3088c6819e1   -0.001418\n",
       "Name: ipcc, dtype: float64"
      ]
     },
     "metadata": {},
     "output_type": "display_data"
    },
    {
     "name": "stdout",
     "output_type": "stream",
     "text": [
      "paper production, woodfree, uncoated, at integrated mill -0.006298841736871674\n",
      "chipboard production, white lined -0.00141820224154372\n",
      "\n",
      "ipcc Cultivation of crops nec\n"
     ]
    },
    {
     "data": {
      "text/plain": [
       "CA  9d3dcc50d271e50da28de13723b2bb90   -1.253557\n",
       "    2086ed0c012d5e4415ca381df34f1e6b   -1.014692\n",
       "WF  b5fad0bdadff7b7802b02bb5c8014584   -0.029779\n",
       "    6cd80f816916cc41b74bacf98c5d2bbd   -0.024625\n",
       "Name: ipcc, dtype: float64"
      ]
     },
     "metadata": {},
     "output_type": "display_data"
    },
    {
     "name": "stdout",
     "output_type": "stream",
     "text": [
      "drying of maize grain -1.253556982261948\n",
      "market for drying of maize grain -1.0146916349673478\n",
      "market for vanilla seedling, for planting -0.02977919362751007\n",
      "market for vanilla -0.024624531443225427\n",
      "\n",
      "recipe Cultivation of crops nec\n"
     ]
    },
    {
     "data": {
      "text/plain": [
       "CA  9d3dcc50d271e50da28de13723b2bb90   -0.302837\n",
       "    2086ed0c012d5e4415ca381df34f1e6b   -0.269583\n",
       "Name: recipe, dtype: float64"
      ]
     },
     "metadata": {},
     "output_type": "display_data"
    },
    {
     "name": "stdout",
     "output_type": "stream",
     "text": [
      "drying of maize grain -0.30283662955637936\n",
      "market for drying of maize grain -0.2695828246868117\n",
      "\n",
      "ipcc P- and other fertiliser\n"
     ]
    },
    {
     "data": {
      "text/plain": [
       "CA  52e5c6db31f64e2fa47bbcbd0fe176c2   -13.652695\n",
       "TR  52e5c6db31f64e2fa47bbcbd0fe176c2   -12.252129\n",
       "FR  52e5c6db31f64e2fa47bbcbd0fe176c2    -6.860768\n",
       "BG  52e5c6db31f64e2fa47bbcbd0fe176c2    -6.779072\n",
       "DK  52e5c6db31f64e2fa47bbcbd0fe176c2    -1.990646\n",
       "Name: ipcc, dtype: float64"
      ]
     },
     "metadata": {},
     "output_type": "display_data"
    },
    {
     "name": "stdout",
     "output_type": "stream",
     "text": [
      "market for helium, crude -13.652695228119368\n",
      "market for helium, crude -12.252129183515422\n",
      "market for helium, crude -6.860767688127489\n",
      "market for helium, crude -6.779072023205671\n",
      "market for helium, crude -1.9906460568783386\n",
      "\n",
      "recipe P- and other fertiliser\n"
     ]
    },
    {
     "data": {
      "text/plain": [
       "CA  52e5c6db31f64e2fa47bbcbd0fe176c2   -3.110691\n",
       "TR  52e5c6db31f64e2fa47bbcbd0fe176c2   -2.714724\n",
       "FR  52e5c6db31f64e2fa47bbcbd0fe176c2   -1.211434\n",
       "BG  52e5c6db31f64e2fa47bbcbd0fe176c2   -1.184317\n",
       "CA  8e5716a1c50476d1c3a7f297ea461324   -0.730200\n",
       "Name: recipe, dtype: float64"
      ]
     },
     "metadata": {},
     "output_type": "display_data"
    },
    {
     "name": "stdout",
     "output_type": "stream",
     "text": [
      "market for helium, crude -3.1106906993893766\n",
      "market for helium, crude -2.7147238208858018\n",
      "market for helium, crude -1.2114343513755015\n",
      "market for helium, crude -1.1843172044097956\n",
      "ammonia production, steam reforming, liquid -0.7301996117858496\n",
      "\n",
      "recipe Real estate activities\n"
     ]
    },
    {
     "data": {
      "text/plain": [
       "RU  4352d210c973dd28af51a0a2d32c1c2d   -3.798647\n",
       "    7ca2e3a95c4a1100ea15c85513bd42cb   -3.798647\n",
       "Name: recipe, dtype: float64"
      ]
     },
     "metadata": {},
     "output_type": "display_data"
    },
    {
     "name": "stdout",
     "output_type": "stream",
     "text": [
      "market for land use change, perennial crop -3.7986470167470308\n",
      "land use change, perennial crop -3.7986470167470308\n",
      "\n",
      "ipcc Cultivation of paddy rice\n"
     ]
    },
    {
     "data": {
      "text/plain": [
       "CA  9d3dcc50d271e50da28de13723b2bb90   -1.253557\n",
       "    2086ed0c012d5e4415ca381df34f1e6b   -1.014692\n",
       "Name: ipcc, dtype: float64"
      ]
     },
     "metadata": {},
     "output_type": "display_data"
    },
    {
     "name": "stdout",
     "output_type": "stream",
     "text": [
      "drying of maize grain -1.253556982261948\n",
      "market for drying of maize grain -1.0146916349673478\n",
      "\n",
      "recipe Cultivation of paddy rice\n"
     ]
    },
    {
     "data": {
      "text/plain": [
       "CA  9d3dcc50d271e50da28de13723b2bb90   -0.302837\n",
       "    2086ed0c012d5e4415ca381df34f1e6b   -0.269583\n",
       "Name: recipe, dtype: float64"
      ]
     },
     "metadata": {},
     "output_type": "display_data"
    },
    {
     "name": "stdout",
     "output_type": "stream",
     "text": [
      "drying of maize grain -0.30283662955637936\n",
      "market for drying of maize grain -0.2695828246868117\n",
      "\n",
      "ipcc Cultivation of sugar cane, sugar beet\n"
     ]
    },
    {
     "data": {
      "text/plain": [
       "CA  9d3dcc50d271e50da28de13723b2bb90   -1.253557\n",
       "    2086ed0c012d5e4415ca381df34f1e6b   -1.014692\n",
       "Name: ipcc, dtype: float64"
      ]
     },
     "metadata": {},
     "output_type": "display_data"
    },
    {
     "name": "stdout",
     "output_type": "stream",
     "text": [
      "drying of maize grain -1.253556982261948\n",
      "market for drying of maize grain -1.0146916349673478\n",
      "\n",
      "recipe Cultivation of sugar cane, sugar beet\n"
     ]
    },
    {
     "data": {
      "text/plain": [
       "CA  9d3dcc50d271e50da28de13723b2bb90   -0.302837\n",
       "    2086ed0c012d5e4415ca381df34f1e6b   -0.269583\n",
       "Name: recipe, dtype: float64"
      ]
     },
     "metadata": {},
     "output_type": "display_data"
    },
    {
     "name": "stdout",
     "output_type": "stream",
     "text": [
      "drying of maize grain -0.30283662955637936\n",
      "market for drying of maize grain -0.2695828246868117\n",
      "\n",
      "ipcc Cultivation of plant-based fibers\n"
     ]
    },
    {
     "data": {
      "text/plain": [
       "CA  9d3dcc50d271e50da28de13723b2bb90   -1.253557\n",
       "    2086ed0c012d5e4415ca381df34f1e6b   -1.014692\n",
       "Name: ipcc, dtype: float64"
      ]
     },
     "metadata": {},
     "output_type": "display_data"
    },
    {
     "name": "stdout",
     "output_type": "stream",
     "text": [
      "drying of maize grain -1.253556982261948\n",
      "market for drying of maize grain -1.0146916349673478\n",
      "\n",
      "recipe Cultivation of plant-based fibers\n"
     ]
    },
    {
     "data": {
      "text/plain": [
       "CA  9d3dcc50d271e50da28de13723b2bb90   -0.302837\n",
       "    2086ed0c012d5e4415ca381df34f1e6b   -0.269583\n",
       "Name: recipe, dtype: float64"
      ]
     },
     "metadata": {},
     "output_type": "display_data"
    },
    {
     "name": "stdout",
     "output_type": "stream",
     "text": [
      "drying of maize grain -0.30283662955637936\n",
      "market for drying of maize grain -0.2695828246868117\n",
      "\n",
      "ipcc Manufacture of rubber and plastic products\n"
     ]
    },
    {
     "data": {
      "text/plain": [
       "CA  109ffbd3e684b245b7f9708df4e7e002   -0.447216\n",
       "    d2e1bb5bc3e944dd66cfc593d600f489   -0.169197\n",
       "Name: ipcc, dtype: float64"
      ]
     },
     "metadata": {},
     "output_type": "display_data"
    },
    {
     "name": "stdout",
     "output_type": "stream",
     "text": [
      "injection moulding -0.4472158644216972\n",
      "market for injection moulding -0.16919741664102536\n",
      "\n",
      "ipcc Processing of dairy products\n"
     ]
    },
    {
     "data": {
      "text/plain": [
       "CA  255a9b18c2ea695396deac060f446b3c   -2.402138\n",
       "    544541d330f0415ee6574981efed762c   -1.400253\n",
       "Name: ipcc, dtype: float64"
      ]
     },
     "metadata": {},
     "output_type": "display_data"
    },
    {
     "name": "stdout",
     "output_type": "stream",
     "text": [
      "market for evaporation of milk -2.4021376267172503\n",
      "milk evaporation -1.40025329060893\n",
      "\n",
      "recipe Processing of dairy products\n"
     ]
    },
    {
     "data": {
      "text/plain": [
       "CA  255a9b18c2ea695396deac060f446b3c   -2.081214\n",
       "    544541d330f0415ee6574981efed762c   -1.278007\n",
       "Name: recipe, dtype: float64"
      ]
     },
     "metadata": {},
     "output_type": "display_data"
    },
    {
     "name": "stdout",
     "output_type": "stream",
     "text": [
      "market for evaporation of milk -2.081213802165319\n",
      "milk evaporation -1.2780069961187819\n",
      "\n",
      "ipcc Manufacture of electrical machinery and apparatus n.e.c.\n"
     ]
    },
    {
     "data": {
      "text/plain": [
       "CA  7a4afd8b46d1b436f5af93f3756887e2   -0.185933\n",
       "    6c00b24f269aedec423c19a7e2668d05   -0.145390\n",
       "Name: ipcc, dtype: float64"
      ]
     },
     "metadata": {},
     "output_type": "display_data"
    },
    {
     "name": "stdout",
     "output_type": "stream",
     "text": [
      "anode production, prebake, for aluminium electrolysis -0.18593273934013504\n",
      "market for anode, prebake, for aluminium electrolysis -0.14538981962479874\n",
      "\n",
      "ipcc Mining of lead, zinc and tin ores and concentrates\n"
     ]
    },
    {
     "data": {
      "text/plain": [
       "CA  b2719502090a263788b4edb28a0b04b4   -0.317448\n",
       "    e9fa4f882bb02efc0c06fd604467ab07   -0.031376\n",
       "Name: ipcc, dtype: float64"
      ]
     },
     "metadata": {},
     "output_type": "display_data"
    },
    {
     "name": "stdout",
     "output_type": "stream",
     "text": [
      "gold production -0.3174484127269977\n",
      "market for gold -0.03137567793936326\n",
      "\n",
      "ipcc Mining of aluminium ores and concentrates\n"
     ]
    },
    {
     "data": {
      "text/plain": [
       "CA  b2719502090a263788b4edb28a0b04b4   -0.317448\n",
       "    e9fa4f882bb02efc0c06fd604467ab07   -0.031376\n",
       "Name: ipcc, dtype: float64"
      ]
     },
     "metadata": {},
     "output_type": "display_data"
    },
    {
     "name": "stdout",
     "output_type": "stream",
     "text": [
      "gold production -0.3174484127269977\n",
      "market for gold -0.03137567793936326\n",
      "\n",
      "ipcc Mining of precious metal ores and concentrates\n"
     ]
    },
    {
     "data": {
      "text/plain": [
       "CA  b2719502090a263788b4edb28a0b04b4   -0.317448\n",
       "    e9fa4f882bb02efc0c06fd604467ab07   -0.031376\n",
       "Name: ipcc, dtype: float64"
      ]
     },
     "metadata": {},
     "output_type": "display_data"
    },
    {
     "name": "stdout",
     "output_type": "stream",
     "text": [
      "gold production -0.3174484127269977\n",
      "market for gold -0.03137567793936326\n",
      "\n",
      "ipcc Mining of other non-ferrous metal ores and concentrates\n"
     ]
    },
    {
     "data": {
      "text/plain": [
       "CA  b2719502090a263788b4edb28a0b04b4   -0.317448\n",
       "    e9fa4f882bb02efc0c06fd604467ab07   -0.031376\n",
       "Name: ipcc, dtype: float64"
      ]
     },
     "metadata": {},
     "output_type": "display_data"
    },
    {
     "name": "stdout",
     "output_type": "stream",
     "text": [
      "gold production -0.3174484127269977\n",
      "market for gold -0.03137567793936326\n",
      "\n",
      "ipcc Mining of copper ores and concentrates\n"
     ]
    },
    {
     "data": {
      "text/plain": [
       "CA  b2719502090a263788b4edb28a0b04b4   -0.317448\n",
       "    e9fa4f882bb02efc0c06fd604467ab07   -0.031376\n",
       "Name: ipcc, dtype: float64"
      ]
     },
     "metadata": {},
     "output_type": "display_data"
    },
    {
     "name": "stdout",
     "output_type": "stream",
     "text": [
      "gold production -0.3174484127269977\n",
      "market for gold -0.03137567793936326\n",
      "\n",
      "ipcc Mining of nickel ores and concentrates\n"
     ]
    },
    {
     "data": {
      "text/plain": [
       "CA  b2719502090a263788b4edb28a0b04b4   -0.317448\n",
       "    e9fa4f882bb02efc0c06fd604467ab07   -0.031376\n",
       "Name: ipcc, dtype: float64"
      ]
     },
     "metadata": {},
     "output_type": "display_data"
    },
    {
     "name": "stdout",
     "output_type": "stream",
     "text": [
      "gold production -0.3174484127269977\n",
      "market for gold -0.03137567793936326\n",
      "\n",
      "ipcc Manufacture of basic iron and steel and of ferro-alloys and first products thereof\n"
     ]
    },
    {
     "data": {
      "text/plain": [
       "CA  90b7ef2b5411e5b7673451296f8efbab   -0.664295\n",
       "    76b0d5c9d6543093c86b1e48b71ea97c   -0.566179\n",
       "Name: ipcc, dtype: float64"
      ]
     },
     "metadata": {},
     "output_type": "display_data"
    },
    {
     "name": "stdout",
     "output_type": "stream",
     "text": [
      "market for forging, steel -0.6642948143540173\n",
      "forging, steel, large open die -0.5661787355538427\n",
      "\n",
      "recipe Manufacture of basic iron and steel and of ferro-alloys and first products thereof\n"
     ]
    },
    {
     "data": {
      "text/plain": [
       "CA  90b7ef2b5411e5b7673451296f8efbab   -0.048632\n",
       "    76b0d5c9d6543093c86b1e48b71ea97c   -0.044059\n",
       "Name: recipe, dtype: float64"
      ]
     },
     "metadata": {},
     "output_type": "display_data"
    },
    {
     "name": "stdout",
     "output_type": "stream",
     "text": [
      "market for forging, steel -0.04863242053434732\n",
      "forging, steel, large open die -0.044058698801022034\n",
      "\n",
      "ipcc Extraction of crude petroleum and services related to crude oil extraction, excluding surveying\n"
     ]
    },
    {
     "data": {
      "text/plain": [
       "TR  fac6446c0a8e3d33876f02079ac55476   -0.364349\n",
       "Name: ipcc, dtype: float64"
      ]
     },
     "metadata": {},
     "output_type": "display_data"
    },
    {
     "name": "stdout",
     "output_type": "stream",
     "text": [
      "market for natural gas, high pressure -0.36434879939660536\n",
      "\n",
      "ipcc Quarrying of stone\n"
     ]
    },
    {
     "data": {
      "text/plain": [
       "CA  cd67f4c9450f1e9f63ce4038ab442ef4   -0.285359\n",
       "Name: ipcc, dtype: float64"
      ]
     },
     "metadata": {},
     "output_type": "display_data"
    },
    {
     "name": "stdout",
     "output_type": "stream",
     "text": [
      "lime production, milled, loose -0.28535928477333633\n",
      "\n",
      "ipcc Quarrying of sand and clay\n"
     ]
    },
    {
     "data": {
      "text/plain": [
       "CA  cd67f4c9450f1e9f63ce4038ab442ef4   -0.285359\n",
       "Name: ipcc, dtype: float64"
      ]
     },
     "metadata": {},
     "output_type": "display_data"
    },
    {
     "name": "stdout",
     "output_type": "stream",
     "text": [
      "lime production, milled, loose -0.28535928477333633\n",
      "\n",
      "ipcc Paper\n"
     ]
    },
    {
     "data": {
      "text/plain": [
       "CA  828c89c95ab8cd210059f09fcf81f036   -0.848700\n",
       "    499aaf4a5a42a60e71775aaf67adc45f   -0.842787\n",
       "    11a80e2f0f97dadce3e2b320e9c75b7e   -0.842787\n",
       "    1273903da48448f0db38ced3ae37c8b7   -0.842787\n",
       "    b2c54ae9fba569daecfdb39f8073bc87   -0.825077\n",
       "Name: ipcc, dtype: float64"
      ]
     },
     "metadata": {},
     "output_type": "display_data"
    },
    {
     "name": "stdout",
     "output_type": "stream",
     "text": [
      "treatment of recovered paper to linerboard, testliner -0.8486998073410247\n",
      "treatment of recovered paper to fluting medium, wellenstoff -0.8427869742101177\n",
      "treatment of recovered paper to fluting medium, wellenstoff -0.8427869628222026\n",
      "treatment of recovered paper to fluting medium, wellenstoff -0.8427869443562622\n",
      "treatment of recovered paper to linerboard, testliner -0.8250769626818817\n",
      "\n",
      "recipe Paper\n"
     ]
    },
    {
     "data": {
      "text/plain": [
       "CA  499aaf4a5a42a60e71775aaf67adc45f   -0.660427\n",
       "    11a80e2f0f97dadce3e2b320e9c75b7e   -0.660427\n",
       "    1273903da48448f0db38ced3ae37c8b7   -0.660427\n",
       "    b2c54ae9fba569daecfdb39f8073bc87   -0.613921\n",
       "    cdc3d1c1e4b253b72063fcd606884f11   -0.613920\n",
       "Name: recipe, dtype: float64"
      ]
     },
     "metadata": {},
     "output_type": "display_data"
    },
    {
     "name": "stdout",
     "output_type": "stream",
     "text": [
      "treatment of recovered paper to fluting medium, wellenstoff -0.6604268001330721\n",
      "treatment of recovered paper to fluting medium, wellenstoff -0.6604267866744498\n",
      "treatment of recovered paper to fluting medium, wellenstoff -0.6604265999262092\n",
      "treatment of recovered paper to linerboard, testliner -0.6139205011885621\n",
      "treatment of recovered paper to linerboard, testliner -0.613920491369623\n",
      "\n",
      "ipcc N-fertiliser\n"
     ]
    },
    {
     "data": {
      "text/plain": [
       "CA  52e5c6db31f64e2fa47bbcbd0fe176c2   -13.652695\n",
       "TR  52e5c6db31f64e2fa47bbcbd0fe176c2   -12.252129\n",
       "FR  52e5c6db31f64e2fa47bbcbd0fe176c2    -6.860768\n",
       "BG  52e5c6db31f64e2fa47bbcbd0fe176c2    -6.779072\n",
       "DK  52e5c6db31f64e2fa47bbcbd0fe176c2    -1.990646\n",
       "Name: ipcc, dtype: float64"
      ]
     },
     "metadata": {},
     "output_type": "display_data"
    },
    {
     "name": "stdout",
     "output_type": "stream",
     "text": [
      "market for helium, crude -13.652695228119368\n",
      "market for helium, crude -12.252129183515422\n",
      "market for helium, crude -6.860767688127489\n",
      "market for helium, crude -6.779072023205671\n",
      "market for helium, crude -1.9906460568783386\n",
      "\n",
      "recipe N-fertiliser\n"
     ]
    },
    {
     "data": {
      "text/plain": [
       "CA  52e5c6db31f64e2fa47bbcbd0fe176c2   -3.110691\n",
       "TR  52e5c6db31f64e2fa47bbcbd0fe176c2   -2.714724\n",
       "FR  52e5c6db31f64e2fa47bbcbd0fe176c2   -1.211434\n",
       "BG  52e5c6db31f64e2fa47bbcbd0fe176c2   -1.184317\n",
       "CA  8e5716a1c50476d1c3a7f297ea461324   -0.730200\n",
       "Name: recipe, dtype: float64"
      ]
     },
     "metadata": {},
     "output_type": "display_data"
    },
    {
     "name": "stdout",
     "output_type": "stream",
     "text": [
      "market for helium, crude -3.1106906993893766\n",
      "market for helium, crude -2.7147238208858018\n",
      "market for helium, crude -1.2114343513755015\n",
      "market for helium, crude -1.1843172044097956\n",
      "ammonia production, steam reforming, liquid -0.7301996117858496\n",
      "\n",
      "ipcc Processing of Food products nec\n"
     ]
    },
    {
     "data": {
      "text/plain": [
       "CA  8854743323103daec092a2422ffd36e9   -0.235826\n",
       "    5757b132fc879174934ad927a1e9e715   -0.217486\n",
       "Name: ipcc, dtype: float64"
      ]
     },
     "metadata": {},
     "output_type": "display_data"
    },
    {
     "name": "stdout",
     "output_type": "stream",
     "text": [
      "polyester-complexed starch biopolymer production -0.23582648273817503\n",
      "market for polyester-complexed starch biopolymer -0.2174859046252708\n",
      "\n",
      "ipcc Mining of chemical and fertilizer minerals, production of salt, other mining and quarrying n.e.c.\n"
     ]
    },
    {
     "data": {
      "text/plain": [
       "CA  497431b6b3bf955649d79a42936473c3   -0.052008\n",
       "Name: ipcc, dtype: float64"
      ]
     },
     "metadata": {},
     "output_type": "display_data"
    },
    {
     "name": "stdout",
     "output_type": "stream",
     "text": [
      "market for lime -0.05200793303661181\n",
      "\n",
      "ipcc Manufacture of bricks, tiles and construction products, in baked clay\n"
     ]
    },
    {
     "data": {
      "text/plain": [
       "CA  79d502c9d1ca6297ceef9a3e2aa48608   -1.186505\n",
       "    adf06edb828da816f5680f5c6d7cced6   -0.759575\n",
       "Name: ipcc, dtype: float64"
      ]
     },
     "metadata": {},
     "output_type": "display_data"
    },
    {
     "name": "stdout",
     "output_type": "stream",
     "text": [
      "shale brick production -1.1865053496454094\n",
      "market for shale brick -0.7595753220838839\n",
      "\n",
      "ipcc Processed rice\n"
     ]
    },
    {
     "data": {
      "text/plain": [
       "CA  8854743323103daec092a2422ffd36e9   -0.235826\n",
       "    5757b132fc879174934ad927a1e9e715   -0.217486\n",
       "Name: ipcc, dtype: float64"
      ]
     },
     "metadata": {},
     "output_type": "display_data"
    },
    {
     "name": "stdout",
     "output_type": "stream",
     "text": [
      "polyester-complexed starch biopolymer production -0.23582648273817503\n",
      "market for polyester-complexed starch biopolymer -0.2174859046252708\n",
      "\n",
      "ipcc Sea and coastal water transport\n"
     ]
    },
    {
     "data": {
      "text/plain": [
       "CA  8b80b7e9439d32f0aa2c1b839b0fce17   -1.346696\n",
       "    3b459e4bb3fb627639b1f457e000f893   -1.346696\n",
       "Name: ipcc, dtype: float64"
      ]
     },
     "metadata": {},
     "output_type": "display_data"
    },
    {
     "name": "stdout",
     "output_type": "stream",
     "text": [
      "transport, freight, sea, liquefied natural gas -1.3466956084714439\n",
      "market for transport, freight, sea, liquefied natural gas -1.3466956084714437\n",
      "\n",
      "recipe Sea and coastal water transport\n"
     ]
    },
    {
     "data": {
      "text/plain": [
       "CA  3b459e4bb3fb627639b1f457e000f893   -1.215006\n",
       "    8b80b7e9439d32f0aa2c1b839b0fce17   -1.215006\n",
       "Name: recipe, dtype: float64"
      ]
     },
     "metadata": {},
     "output_type": "display_data"
    },
    {
     "name": "stdout",
     "output_type": "stream",
     "text": [
      "market for transport, freight, sea, liquefied natural gas -1.215005675086731\n",
      "transport, freight, sea, liquefied natural gas -1.215005675086731\n",
      "\n"
     ]
    }
   ],
   "source": [
    "for code, datasets in sector_dict_inv.items():\n",
    "    name = exio_name_dict[code]\n",
    "    dss = set(itertools.chain.from_iterable([ref_ds_dict_inv[d] for d in datasets]))\n",
    "    ind = pd.Index([i for i in full_index if i in dss])\n",
    "    for m in ('ipcc', 'recipe'):#rel_scores.columns:\n",
    "        scores = rel_scores.loc[ind, m].copy()\n",
    "        scores = scores[scores<0]\n",
    "        if scores.min() < 0:\n",
    "            print(m, name)\n",
    "            display(scores.nsmallest())\n",
    "            for i, s in scores.nsmallest().iteritems():\n",
    "                if s <0:\n",
    "                    ds_code = ref_ds_dict[i]\n",
    "                    ds = db.get(ds_code)\n",
    "                    print(ds['name'], s)\n",
    "            print()"
   ]
  },
  {
   "cell_type": "code",
   "execution_count": 70,
   "metadata": {},
   "outputs": [],
   "source": [
    "ipcc = scores[['ipcc', 'ipcc_eco']]"
   ]
  },
  {
   "cell_type": "code",
   "execution_count": 83,
   "metadata": {},
   "outputs": [],
   "source": [
    "sign_change = ipcc/ipcc.abs()\n",
    "changed = sign_change.loc[(sign_change['ipcc'] != sign_change['ipcc_eco']).values].dropna()"
   ]
  },
  {
   "cell_type": "code",
   "execution_count": 86,
   "metadata": {
    "scrolled": true
   },
   "outputs": [
    {
     "data": {
      "text/html": [
       "<div>\n",
       "<style scoped>\n",
       "    .dataframe tbody tr th:only-of-type {\n",
       "        vertical-align: middle;\n",
       "    }\n",
       "\n",
       "    .dataframe tbody tr th {\n",
       "        vertical-align: top;\n",
       "    }\n",
       "\n",
       "    .dataframe thead th {\n",
       "        text-align: right;\n",
       "    }\n",
       "</style>\n",
       "<table border=\"1\" class=\"dataframe\">\n",
       "  <thead>\n",
       "    <tr style=\"text-align: right;\">\n",
       "      <th></th>\n",
       "      <th></th>\n",
       "      <th>ipcc</th>\n",
       "      <th>ipcc_eco</th>\n",
       "    </tr>\n",
       "  </thead>\n",
       "  <tbody>\n",
       "    <tr>\n",
       "      <th rowspan=\"2\" valign=\"top\">AT</th>\n",
       "      <th>1b86f8d2360c6d2f749b8dc52c61c417</th>\n",
       "      <td>-0.103414</td>\n",
       "      <td>0.067613</td>\n",
       "    </tr>\n",
       "    <tr>\n",
       "      <th>db75eda6edb27b2572f7690112f60ddd</th>\n",
       "      <td>-0.103414</td>\n",
       "      <td>0.067433</td>\n",
       "    </tr>\n",
       "    <tr>\n",
       "      <th rowspan=\"5\" valign=\"top\">AU</th>\n",
       "      <th>17760a9c901e98e20db30da45d668239</th>\n",
       "      <td>-0.210997</td>\n",
       "      <td>0.844315</td>\n",
       "    </tr>\n",
       "    <tr>\n",
       "      <th>1b86f8d2360c6d2f749b8dc52c61c417</th>\n",
       "      <td>-0.080855</td>\n",
       "      <td>0.067613</td>\n",
       "    </tr>\n",
       "    <tr>\n",
       "      <th>c74deafc10fd19cc2608289d656b3f07</th>\n",
       "      <td>-0.210997</td>\n",
       "      <td>0.795906</td>\n",
       "    </tr>\n",
       "    <tr>\n",
       "      <th>d475f9302366f087f1f1fbaffc216a5d</th>\n",
       "      <td>-0.052405</td>\n",
       "      <td>0.886054</td>\n",
       "    </tr>\n",
       "    <tr>\n",
       "      <th>db75eda6edb27b2572f7690112f60ddd</th>\n",
       "      <td>-0.080855</td>\n",
       "      <td>0.067433</td>\n",
       "    </tr>\n",
       "    <tr>\n",
       "      <th rowspan=\"6\" valign=\"top\">BE</th>\n",
       "      <th>17760a9c901e98e20db30da45d668239</th>\n",
       "      <td>-0.358615</td>\n",
       "      <td>0.844315</td>\n",
       "    </tr>\n",
       "    <tr>\n",
       "      <th>1b86f8d2360c6d2f749b8dc52c61c417</th>\n",
       "      <td>-0.119964</td>\n",
       "      <td>0.067613</td>\n",
       "    </tr>\n",
       "    <tr>\n",
       "      <th>84a74c6e316cd16bc7dab303cc7ce122</th>\n",
       "      <td>-2.204664</td>\n",
       "      <td>8.272929</td>\n",
       "    </tr>\n",
       "    <tr>\n",
       "      <th>c74deafc10fd19cc2608289d656b3f07</th>\n",
       "      <td>-0.358615</td>\n",
       "      <td>0.795906</td>\n",
       "    </tr>\n",
       "    <tr>\n",
       "      <th>d31c5f81a6d136ee579a27d698501b3b</th>\n",
       "      <td>-2.252447</td>\n",
       "      <td>8.220970</td>\n",
       "    </tr>\n",
       "    <tr>\n",
       "      <th>db75eda6edb27b2572f7690112f60ddd</th>\n",
       "      <td>-0.119964</td>\n",
       "      <td>0.067433</td>\n",
       "    </tr>\n",
       "    <tr>\n",
       "      <th rowspan=\"17\" valign=\"top\">BG</th>\n",
       "      <th>0b96caffccc12b8f6d3d3a561a8d9ca0</th>\n",
       "      <td>-2.310650</td>\n",
       "      <td>0.799068</td>\n",
       "    </tr>\n",
       "    <tr>\n",
       "      <th>0fa0de1ef68aad40ac6825f405c4b0d0</th>\n",
       "      <td>-2.946706</td>\n",
       "      <td>0.434677</td>\n",
       "    </tr>\n",
       "    <tr>\n",
       "      <th>10e2595d51068af21a5160f1a8cb20e9</th>\n",
       "      <td>-0.008403</td>\n",
       "      <td>0.028470</td>\n",
       "    </tr>\n",
       "    <tr>\n",
       "      <th>14ecc3d97a6669a3e4faadf01eb1d511</th>\n",
       "      <td>-0.026117</td>\n",
       "      <td>0.074343</td>\n",
       "    </tr>\n",
       "    <tr>\n",
       "      <th>15c2a7bf08edd78236076bf3555f9a1c</th>\n",
       "      <td>-0.025460</td>\n",
       "      <td>0.074812</td>\n",
       "    </tr>\n",
       "    <tr>\n",
       "      <th>17760a9c901e98e20db30da45d668239</th>\n",
       "      <td>-6.127286</td>\n",
       "      <td>0.844315</td>\n",
       "    </tr>\n",
       "    <tr>\n",
       "      <th>1b86f8d2360c6d2f749b8dc52c61c417</th>\n",
       "      <td>-0.116105</td>\n",
       "      <td>0.067613</td>\n",
       "    </tr>\n",
       "    <tr>\n",
       "      <th>2d5c8864d02a6110e33f885c2e0f1b0c</th>\n",
       "      <td>-0.009974</td>\n",
       "      <td>0.029126</td>\n",
       "    </tr>\n",
       "    <tr>\n",
       "      <th>32bf8a4f3c5e32d04262fe6773168cd3</th>\n",
       "      <td>-0.185712</td>\n",
       "      <td>0.633653</td>\n",
       "    </tr>\n",
       "    <tr>\n",
       "      <th>34475266bb20732990bbcb3c2ac77461</th>\n",
       "      <td>-3.219428</td>\n",
       "      <td>0.491674</td>\n",
       "    </tr>\n",
       "    <tr>\n",
       "      <th>422042d8ac79d48adcdddca48a2479fa</th>\n",
       "      <td>-0.009016</td>\n",
       "      <td>0.031187</td>\n",
       "    </tr>\n",
       "    <tr>\n",
       "      <th>4e7ed653dd09864a9acf1a4cd34f7afc</th>\n",
       "      <td>-3.842611</td>\n",
       "      <td>0.682695</td>\n",
       "    </tr>\n",
       "    <tr>\n",
       "      <th>4ef3711fa4fe5760dd91c0e838db6a5d</th>\n",
       "      <td>-3.842611</td>\n",
       "      <td>0.683034</td>\n",
       "    </tr>\n",
       "    <tr>\n",
       "      <th>52e5c6db31f64e2fa47bbcbd0fe176c2</th>\n",
       "      <td>-23.984813</td>\n",
       "      <td>3.538067</td>\n",
       "    </tr>\n",
       "    <tr>\n",
       "      <th>5719cc3c57c7b5cc07f57fcab273c3af</th>\n",
       "      <td>-0.079422</td>\n",
       "      <td>0.231837</td>\n",
       "    </tr>\n",
       "    <tr>\n",
       "      <th>671b51535e23074963008612d9f213de</th>\n",
       "      <td>-3.473145</td>\n",
       "      <td>1.170073</td>\n",
       "    </tr>\n",
       "    <tr>\n",
       "      <th>67e53ed694e4e20e243b8a9781e3224e</th>\n",
       "      <td>-23.984813</td>\n",
       "      <td>3.538067</td>\n",
       "    </tr>\n",
       "    <tr>\n",
       "      <th>...</th>\n",
       "      <th>...</th>\n",
       "      <td>...</td>\n",
       "      <td>...</td>\n",
       "    </tr>\n",
       "    <tr>\n",
       "      <th rowspan=\"4\" valign=\"top\">WA</th>\n",
       "      <th>c33b53dde99d48438551721df7bf5e6b</th>\n",
       "      <td>-0.765034</td>\n",
       "      <td>0.742783</td>\n",
       "    </tr>\n",
       "    <tr>\n",
       "      <th>c74deafc10fd19cc2608289d656b3f07</th>\n",
       "      <td>-0.049675</td>\n",
       "      <td>0.795906</td>\n",
       "    </tr>\n",
       "    <tr>\n",
       "      <th>d57d0bea687db36e48cc3ba7be3d88ff</th>\n",
       "      <td>-0.765034</td>\n",
       "      <td>0.742783</td>\n",
       "    </tr>\n",
       "    <tr>\n",
       "      <th>db75eda6edb27b2572f7690112f60ddd</th>\n",
       "      <td>-0.050709</td>\n",
       "      <td>0.067433</td>\n",
       "    </tr>\n",
       "    <tr>\n",
       "      <th rowspan=\"6\" valign=\"top\">WF</th>\n",
       "      <th>6cd80f816916cc41b74bacf98c5d2bbd</th>\n",
       "      <td>-0.330207</td>\n",
       "      <td>13.409667</td>\n",
       "    </tr>\n",
       "    <tr>\n",
       "      <th>84a74c6e316cd16bc7dab303cc7ce122</th>\n",
       "      <td>-2.344792</td>\n",
       "      <td>8.272929</td>\n",
       "    </tr>\n",
       "    <tr>\n",
       "      <th>a0a6609c9c9dcd3be5cd9f806536c261</th>\n",
       "      <td>-0.993249</td>\n",
       "      <td>0.571498</td>\n",
       "    </tr>\n",
       "    <tr>\n",
       "      <th>a1d18fe4c1a0fa0edcb6d8957aeceaa1</th>\n",
       "      <td>-0.050825</td>\n",
       "      <td>0.029244</td>\n",
       "    </tr>\n",
       "    <tr>\n",
       "      <th>b5fad0bdadff7b7802b02bb5c8014584</th>\n",
       "      <td>-0.017326</td>\n",
       "      <td>0.581806</td>\n",
       "    </tr>\n",
       "    <tr>\n",
       "      <th>d31c5f81a6d136ee579a27d698501b3b</th>\n",
       "      <td>-2.394548</td>\n",
       "      <td>8.220970</td>\n",
       "    </tr>\n",
       "    <tr>\n",
       "      <th rowspan=\"13\" valign=\"top\">WL</th>\n",
       "      <th>0a11021d5aaba49476893ca52c05a6d6</th>\n",
       "      <td>-0.140546</td>\n",
       "      <td>0.739003</td>\n",
       "    </tr>\n",
       "    <tr>\n",
       "      <th>0b96caffccc12b8f6d3d3a561a8d9ca0</th>\n",
       "      <td>-3.334188</td>\n",
       "      <td>0.799068</td>\n",
       "    </tr>\n",
       "    <tr>\n",
       "      <th>1a3f22d946ff2077452dce03e631a2c2</th>\n",
       "      <td>-0.097798</td>\n",
       "      <td>0.790962</td>\n",
       "    </tr>\n",
       "    <tr>\n",
       "      <th>38cd27437f90eff4a2fe283bf163119c</th>\n",
       "      <td>-1.267548</td>\n",
       "      <td>0.551672</td>\n",
       "    </tr>\n",
       "    <tr>\n",
       "      <th>71a8fac5f043d4800cfafb362755e5ae</th>\n",
       "      <td>-3.395247</td>\n",
       "      <td>0.742783</td>\n",
       "    </tr>\n",
       "    <tr>\n",
       "      <th>860180360915da2a3756f37fd599029e</th>\n",
       "      <td>-1.108265</td>\n",
       "      <td>0.963016</td>\n",
       "    </tr>\n",
       "    <tr>\n",
       "      <th>8e6667a97d845894a327887ce3379910</th>\n",
       "      <td>-3.352150</td>\n",
       "      <td>0.794687</td>\n",
       "    </tr>\n",
       "    <tr>\n",
       "      <th>8f14b72ac465a70509a1e82d8c22f682</th>\n",
       "      <td>-1.224800</td>\n",
       "      <td>0.603632</td>\n",
       "    </tr>\n",
       "    <tr>\n",
       "      <th>a0a6609c9c9dcd3be5cd9f806536c261</th>\n",
       "      <td>-0.991812</td>\n",
       "      <td>0.571498</td>\n",
       "    </tr>\n",
       "    <tr>\n",
       "      <th>a1d18fe4c1a0fa0edcb6d8957aeceaa1</th>\n",
       "      <td>-0.050751</td>\n",
       "      <td>0.029244</td>\n",
       "    </tr>\n",
       "    <tr>\n",
       "      <th>c33b53dde99d48438551721df7bf5e6b</th>\n",
       "      <td>-3.395247</td>\n",
       "      <td>0.742783</td>\n",
       "    </tr>\n",
       "    <tr>\n",
       "      <th>d2a0bed05c8459540384d88b61ba04ab</th>\n",
       "      <td>0.549981</td>\n",
       "      <td>-0.136025</td>\n",
       "    </tr>\n",
       "    <tr>\n",
       "      <th>d57d0bea687db36e48cc3ba7be3d88ff</th>\n",
       "      <td>-3.395247</td>\n",
       "      <td>0.742783</td>\n",
       "    </tr>\n",
       "    <tr>\n",
       "      <th rowspan=\"7\" valign=\"top\">ZA</th>\n",
       "      <th>17760a9c901e98e20db30da45d668239</th>\n",
       "      <td>-0.528684</td>\n",
       "      <td>0.844315</td>\n",
       "    </tr>\n",
       "    <tr>\n",
       "      <th>1b86f8d2360c6d2f749b8dc52c61c417</th>\n",
       "      <td>-0.113916</td>\n",
       "      <td>0.067613</td>\n",
       "    </tr>\n",
       "    <tr>\n",
       "      <th>a0a6609c9c9dcd3be5cd9f806536c261</th>\n",
       "      <td>-0.991894</td>\n",
       "      <td>0.571498</td>\n",
       "    </tr>\n",
       "    <tr>\n",
       "      <th>a1d18fe4c1a0fa0edcb6d8957aeceaa1</th>\n",
       "      <td>-0.050756</td>\n",
       "      <td>0.029244</td>\n",
       "    </tr>\n",
       "    <tr>\n",
       "      <th>c74deafc10fd19cc2608289d656b3f07</th>\n",
       "      <td>-0.528684</td>\n",
       "      <td>0.795906</td>\n",
       "    </tr>\n",
       "    <tr>\n",
       "      <th>d475f9302366f087f1f1fbaffc216a5d</th>\n",
       "      <td>-0.422758</td>\n",
       "      <td>0.886054</td>\n",
       "    </tr>\n",
       "    <tr>\n",
       "      <th>db75eda6edb27b2572f7690112f60ddd</th>\n",
       "      <td>-0.113916</td>\n",
       "      <td>0.067433</td>\n",
       "    </tr>\n",
       "  </tbody>\n",
       "</table>\n",
       "<p>540 rows × 2 columns</p>\n",
       "</div>"
      ],
      "text/plain": [
       "                                          ipcc   ipcc_eco\n",
       "AT 1b86f8d2360c6d2f749b8dc52c61c417  -0.103414   0.067613\n",
       "   db75eda6edb27b2572f7690112f60ddd  -0.103414   0.067433\n",
       "AU 17760a9c901e98e20db30da45d668239  -0.210997   0.844315\n",
       "   1b86f8d2360c6d2f749b8dc52c61c417  -0.080855   0.067613\n",
       "   c74deafc10fd19cc2608289d656b3f07  -0.210997   0.795906\n",
       "   d475f9302366f087f1f1fbaffc216a5d  -0.052405   0.886054\n",
       "   db75eda6edb27b2572f7690112f60ddd  -0.080855   0.067433\n",
       "BE 17760a9c901e98e20db30da45d668239  -0.358615   0.844315\n",
       "   1b86f8d2360c6d2f749b8dc52c61c417  -0.119964   0.067613\n",
       "   84a74c6e316cd16bc7dab303cc7ce122  -2.204664   8.272929\n",
       "   c74deafc10fd19cc2608289d656b3f07  -0.358615   0.795906\n",
       "   d31c5f81a6d136ee579a27d698501b3b  -2.252447   8.220970\n",
       "   db75eda6edb27b2572f7690112f60ddd  -0.119964   0.067433\n",
       "BG 0b96caffccc12b8f6d3d3a561a8d9ca0  -2.310650   0.799068\n",
       "   0fa0de1ef68aad40ac6825f405c4b0d0  -2.946706   0.434677\n",
       "   10e2595d51068af21a5160f1a8cb20e9  -0.008403   0.028470\n",
       "   14ecc3d97a6669a3e4faadf01eb1d511  -0.026117   0.074343\n",
       "   15c2a7bf08edd78236076bf3555f9a1c  -0.025460   0.074812\n",
       "   17760a9c901e98e20db30da45d668239  -6.127286   0.844315\n",
       "   1b86f8d2360c6d2f749b8dc52c61c417  -0.116105   0.067613\n",
       "   2d5c8864d02a6110e33f885c2e0f1b0c  -0.009974   0.029126\n",
       "   32bf8a4f3c5e32d04262fe6773168cd3  -0.185712   0.633653\n",
       "   34475266bb20732990bbcb3c2ac77461  -3.219428   0.491674\n",
       "   422042d8ac79d48adcdddca48a2479fa  -0.009016   0.031187\n",
       "   4e7ed653dd09864a9acf1a4cd34f7afc  -3.842611   0.682695\n",
       "   4ef3711fa4fe5760dd91c0e838db6a5d  -3.842611   0.683034\n",
       "   52e5c6db31f64e2fa47bbcbd0fe176c2 -23.984813   3.538067\n",
       "   5719cc3c57c7b5cc07f57fcab273c3af  -0.079422   0.231837\n",
       "   671b51535e23074963008612d9f213de  -3.473145   1.170073\n",
       "   67e53ed694e4e20e243b8a9781e3224e -23.984813   3.538067\n",
       "...                                        ...        ...\n",
       "WA c33b53dde99d48438551721df7bf5e6b  -0.765034   0.742783\n",
       "   c74deafc10fd19cc2608289d656b3f07  -0.049675   0.795906\n",
       "   d57d0bea687db36e48cc3ba7be3d88ff  -0.765034   0.742783\n",
       "   db75eda6edb27b2572f7690112f60ddd  -0.050709   0.067433\n",
       "WF 6cd80f816916cc41b74bacf98c5d2bbd  -0.330207  13.409667\n",
       "   84a74c6e316cd16bc7dab303cc7ce122  -2.344792   8.272929\n",
       "   a0a6609c9c9dcd3be5cd9f806536c261  -0.993249   0.571498\n",
       "   a1d18fe4c1a0fa0edcb6d8957aeceaa1  -0.050825   0.029244\n",
       "   b5fad0bdadff7b7802b02bb5c8014584  -0.017326   0.581806\n",
       "   d31c5f81a6d136ee579a27d698501b3b  -2.394548   8.220970\n",
       "WL 0a11021d5aaba49476893ca52c05a6d6  -0.140546   0.739003\n",
       "   0b96caffccc12b8f6d3d3a561a8d9ca0  -3.334188   0.799068\n",
       "   1a3f22d946ff2077452dce03e631a2c2  -0.097798   0.790962\n",
       "   38cd27437f90eff4a2fe283bf163119c  -1.267548   0.551672\n",
       "   71a8fac5f043d4800cfafb362755e5ae  -3.395247   0.742783\n",
       "   860180360915da2a3756f37fd599029e  -1.108265   0.963016\n",
       "   8e6667a97d845894a327887ce3379910  -3.352150   0.794687\n",
       "   8f14b72ac465a70509a1e82d8c22f682  -1.224800   0.603632\n",
       "   a0a6609c9c9dcd3be5cd9f806536c261  -0.991812   0.571498\n",
       "   a1d18fe4c1a0fa0edcb6d8957aeceaa1  -0.050751   0.029244\n",
       "   c33b53dde99d48438551721df7bf5e6b  -3.395247   0.742783\n",
       "   d2a0bed05c8459540384d88b61ba04ab   0.549981  -0.136025\n",
       "   d57d0bea687db36e48cc3ba7be3d88ff  -3.395247   0.742783\n",
       "ZA 17760a9c901e98e20db30da45d668239  -0.528684   0.844315\n",
       "   1b86f8d2360c6d2f749b8dc52c61c417  -0.113916   0.067613\n",
       "   a0a6609c9c9dcd3be5cd9f806536c261  -0.991894   0.571498\n",
       "   a1d18fe4c1a0fa0edcb6d8957aeceaa1  -0.050756   0.029244\n",
       "   c74deafc10fd19cc2608289d656b3f07  -0.528684   0.795906\n",
       "   d475f9302366f087f1f1fbaffc216a5d  -0.422758   0.886054\n",
       "   db75eda6edb27b2572f7690112f60ddd  -0.113916   0.067433\n",
       "\n",
       "[540 rows x 2 columns]"
      ]
     },
     "execution_count": 86,
     "metadata": {},
     "output_type": "execute_result"
    }
   ],
   "source": [
    "ipcc.loc[changed.index]"
   ]
  },
  {
   "cell_type": "code",
   "execution_count": 87,
   "metadata": {
    "scrolled": true
   },
   "outputs": [
    {
     "name": "stdout",
     "output_type": "stream",
     "text": [
      "GLO market for natural gas, burned in gas motor, for storage\n",
      "RoW natural gas, burned in gas motor, for storage\n",
      "RoW natural gas production, liquefied\n",
      "GLO market for natural gas, burned in gas motor, for storage\n",
      "GLO market for natural gas, liquefied\n",
      "RoW evaporation of natural gas\n",
      "RoW natural gas, burned in gas motor, for storage\n",
      "RoW natural gas production, liquefied\n",
      "GLO market for natural gas, burned in gas motor, for storage\n",
      "GLO market for helium\n",
      "GLO market for natural gas, liquefied\n",
      "GLO helium purification\n",
      "RoW natural gas, burned in gas motor, for storage\n",
      "GLO market for butane\n",
      "GLO natural gas liquids production\n",
      "RoW heat and power co-generation, natural gas, 500kW electrical, lean burn\n",
      "Europe without Switzerland heat production, natural gas, at boiler atmospheric non-modulating <100kW\n",
      "Europe without Switzerland heat production, natural gas, at boiler fan burner non-modulating <100kW\n",
      "RoW natural gas production, liquefied\n",
      "GLO market for natural gas, burned in gas motor, for storage\n",
      "Europe without Switzerland heat and power co-generation, natural gas, 160kW electrical, lambda=1\n",
      "RoW heat and power co-generation, natural gas, 200kW electrical, lean burn\n",
      "RoW market for natural gas, low pressure\n",
      "Europe without Switzerland heat and power co-generation, natural gas, 50kW electrical, lean burn\n",
      "GLO market for natural gas, from medium pressure network (0.1-1 bar), at service station\n",
      "RoW natural gas, from medium pressure network (0.1-1 bar), at service station\n",
      "GLO market for helium, crude\n",
      "RoW heat and power co-generation, natural gas, 160kW electrical, Jakobsberg\n",
      "RoW natural gas, from low pressure network (<0.1 bar), at service station\n",
      "GLO natural gas liquids production\n",
      "Europe without Switzerland heat production, natural gas, at boiler condensing modulating <100kW\n",
      "GLO ethane extraction, from natural gas liquids\n",
      "Europe without Switzerland heat and power co-generation, natural gas, 160kW electrical, lambda=1\n",
      "RoW natural gas pressure reduction from high to low pressure\n",
      "GLO market for helium\n",
      "GLO market for pentane\n",
      "GLO market for ethane\n",
      "GLO market for heat, central or small-scale, natural gas, Jakobsberg\n",
      "Europe without Switzerland market for heat, central or small-scale, natural gas\n",
      "RoW natural gas, from high pressure network (1-5 bar), at service station\n",
      "RoW heat and power co-generation, natural gas, 160kW electrical, Jakobsberg\n",
      "Europe without Switzerland heat production, natural gas, at boiler atmospheric low-NOx non-modulating <100kW\n",
      "RoW heat and power co-generation, natural gas, 200kW electrical, lean burn\n",
      "GLO butane extraction, from natural gas liquids\n",
      "GLO market for natural gas, liquefied\n",
      "Europe without Switzerland heat production, natural gas, at boiler atm. low-NOx condensing non-modulating <100kW\n",
      "GLO market for natural gas liquids\n",
      "GLO helium purification\n",
      "GLO pentane extraction, from natural gas liquids\n",
      "Europe without Switzerland heat and power co-generation, natural gas, 50kW electrical, lean burn\n",
      "RoW natural gas, burned in gas motor, for storage\n",
      "Europe without Switzerland heat production, natural gas, at boiler modulating <100kW\n",
      "GLO market for natural gas, from high pressure network (1-5 bar), at service station\n",
      "Europe without Switzerland heat production, natural gas, at boiler fan burner low-NOx non-modulating <100kW\n",
      "Europe without Switzerland heat and power co-generation, natural gas, mini-plant 2KW electrical\n",
      "RoW heat and power co-generation, natural gas, 500kW electrical, lean burn\n",
      "Europe without Switzerland heat and power co-generation, natural gas, mini-plant 2KW electrical\n",
      "RoW natural gas, burned in micro gas turbine, 100kWe\n",
      "GLO market for natural gas, from low pressure network (<0.1 bar), at service station\n",
      "RoW market for ammonia, liquid\n",
      "GLO carbon disulfide production\n",
      "GLO market for butane\n",
      "GLO natural gas liquids production\n",
      "CA-QC injection moulding\n",
      "RoW heat and power co-generation, natural gas, 500kW electrical, lean burn\n",
      "RoW treatment of recovered paper to fluting medium, wellenstoff\n",
      "RoW treatment of recovered paper to fluting medium, wellenstoff\n",
      "GLO market for transport, passenger car, small size, natural gas, EURO 4\n",
      "GLO market for transport, passenger car, medium size, natural gas, EURO 5\n",
      "RoW natural gas production, liquefied\n",
      "RoW magnesium production, electrolysis\n",
      "GLO market for carbon disulfide\n",
      "RoW transport, passenger car, medium size, natural gas, EURO 3\n",
      "GLO market for natural gas, burned in gas motor, for storage\n",
      "GLO dimethylacetamide production\n",
      "GLO market for drying of maize grain\n",
      "GLO market for evaporation of milk\n",
      "GLO market for transport, passenger car, large size, natural gas, EURO 3\n",
      "CA-QC treatment of waste cooking oil, purified, esterification\n",
      "RoW urea production, as N\n",
      "RoW acetic acid production, product in 98% solution state\n",
      "IAI Area, North America, without Quebec electricity production, natural gas, aluminium industry\n",
      "CA-QC heat production, natural gas, at industrial furnace >100kW\n",
      "RoW transport, passenger car, large size, natural gas, EURO 5\n",
      "RoW heat and power co-generation, natural gas, 160kW electrical, lambda=1\n",
      "GLO market for NOx retained, by selective catalytic reduction\n",
      "GLO market for acetic acid, without water, in 98% solution state\n",
      "RoW heat and power co-generation, natural gas, 200kW electrical, lean burn\n",
      "RoW market for natural gas, low pressure\n",
      "GLO market for selective coat, copper sheet, black chrome\n",
      "GLO methanol production\n",
      "GLO market for transport, freight, sea, liquefied natural gas\n",
      "RoW chloromethyl methyl ether production\n",
      "CA-QC selective coating, copper sheet, black chrome\n",
      "CA-AB natural gas production\n",
      "GLO sodium methoxide production\n",
      "RoW market for fluting medium\n",
      "RoW heat and power co-generation, natural gas, 50kW electrical, lean burn\n",
      "GLO market for transport, passenger car, large size, natural gas, EURO 4\n",
      "GLO market for transport, passenger car, medium size, natural gas, EURO 3\n",
      "CA-QC heat production, natural gas, at boiler modulating >100kW\n",
      "GLO market for glass wool mat\n",
      "GLO market for used vegetable cooking oil, purified\n",
      "CA-AB natural gas production\n",
      "GLO market for lime\n",
      "RoW treatment of recovered paper to fluting medium, wellenstoff\n",
      "GLO market for natural gas, from medium pressure network (0.1-1 bar), at service station\n",
      "RoW natural gas, from medium pressure network (0.1-1 bar), at service station\n",
      "GLO market for helium, crude\n",
      "CA-QC milk evaporation\n",
      "RoW dimethylamine production\n",
      "RoW heat and power co-generation, natural gas, 160kW electrical, Jakobsberg\n",
      "GLO market for polyester-complexed starch biopolymer\n",
      "CA-SK electricity production, natural gas, combined cycle power plant\n",
      "RoW transport, passenger car, large size, natural gas, EURO 3\n",
      "RoW heat and power co-generation, natural gas, 1MW electrical, lean burn\n",
      "RoW transport, passenger car, large size, natural gas, EURO 4\n",
      "CA-AB natural gas production\n",
      "RoW oxidation of methanol\n",
      "CA-SK heat and power co-generation, natural gas, conventional power plant, 100MW electrical\n",
      "GLO market for methyl tert-butyl ether\n",
      "CA-QC heat production, natural gas, at industrial furnace low-NOx >100kW\n",
      "GLO market for dimethyl sulfoxide\n",
      "RoW natural gas, from low pressure network (<0.1 bar), at service station\n",
      "GLO trimethyl borate production\n",
      "GLO market for dimethylamine\n",
      "GLO natural gas liquids production\n",
      "GLO market for methylamine\n",
      "GLO market for anode, prebake, for aluminium electrolysis\n",
      "CA-AB natural gas production\n",
      "GLO market for transport, passenger car, small size, natural gas, EURO 3\n",
      "RoW heat production, natural gas, at boiler condensing modulating <100kW\n",
      "GLO market for transport, passenger car, medium size, natural gas, EURO 4\n",
      "GLO ethane extraction, from natural gas liquids\n",
      "RoW market for linerboard\n",
      "CA-QC forging, steel, large open die\n",
      "RoW heat and power co-generation, natural gas, 160kW electrical, lambda=1\n",
      "CA-QC shale brick production\n",
      "CA-QC anode production, prebake, for aluminium electrolysis\n",
      "GLO market for dimethyl sulfide\n",
      "RoW natural gas pressure reduction from high to low pressure\n",
      "RoW dimethyl sulfate production\n",
      "GLO selective catalytic reduction of nitrogen oxides\n",
      "GLO market for methyl formate\n",
      "CA-QC contouring, brass\n",
      "CA-QC treatment of recovered paper to linerboard, testliner\n",
      "RoW methyl formate production\n",
      "GLO market for helium\n",
      "CA-QC treatment of used vegetable cooking oil, purification\n",
      "GLO market for pentane\n"
     ]
    },
    {
     "name": "stdout",
     "output_type": "stream",
     "text": [
      "RoW polyester-complexed starch biopolymer production\n",
      "RoW trimethylamine production\n",
      "GLO methanol to generic market for solvent for chromatography analysis\n",
      "GLO market for dimethyl ether\n",
      "GLO transport, freight, sea, liquefied natural gas\n",
      "RoW ammonia production, steam reforming, liquid\n",
      "GLO market for ethane\n",
      "GLO market for methanol\n",
      "GLO market for drying, natural gas\n",
      "GLO market for forging, steel\n",
      "CA-QC heat production, natural gas, at boiler condensing modulating >100kW\n",
      "RoW heat and power co-generation, natural gas, 1MW electrical, lean burn\n",
      "GLO market for dimethyl sulfate\n",
      "RoW chipboard production, white lined\n",
      "RoW magnesium production, electrolysis\n",
      "GLO market for trimethyl borate\n",
      "RoW methyl tert-butyl ether production\n",
      "CA-QC drying of maize grain\n",
      "RoW magnesium production, electrolysis\n",
      "GLO market for heat, central or small-scale, natural gas, Jakobsberg\n",
      "GLO market for ammonium thiocyanate\n",
      "RoW heat and power co-generation, natural gas, combined cycle power plant, 400MW electrical\n",
      "RoW heat and power co-generation, natural gas, combined cycle power plant, 400MW electrical\n",
      "RoW natural gas, from high pressure network (1-5 bar), at service station\n",
      "RoW N,N-dimethylformamide production\n",
      "GLO market for transport, passenger car, small size, natural gas, EURO 5\n",
      "CA-SK heat and power co-generation, natural gas, conventional power plant, 100MW electrical\n",
      "CA-QC natural gas, burned in gas turbine, for compressor station\n",
      "GLO market for shale brick\n",
      "CA-QC paper production, woodfree, uncoated, at integrated mill\n",
      "RoW transport, passenger car, medium size, natural gas, EURO 4\n",
      "RoW heat and power co-generation, natural gas, 160kW electrical, Jakobsberg\n",
      "CA gold production\n",
      "RoW treatment of recovered paper to linerboard, testliner\n",
      "GLO market for solvent for chromatography analysis\n",
      "CA-QC market for heat, district or industrial, natural gas\n",
      "CA-AB natural gas production\n",
      "GLO market for formaldehyde\n",
      "RoW heat and power co-generation, natural gas, 200kW electrical, lean burn\n",
      "RoW dimethyl sulfide production\n",
      "CA-QC treatment of waste cooking oil, purified, esterification\n",
      "GLO butane extraction, from natural gas liquids\n",
      "RoW dimethyl ether production\n",
      "GLO market for N,N-dimethylformamide\n",
      "RoW dimethyl sulfoxide production\n",
      "CA-QC natural gas, high pressure, import from CA-AB\n",
      "GLO market for natural gas, liquefied\n",
      "RoW transport, passenger car, small size, natural gas, EURO 4\n",
      "RoW transport, passenger car, small size, natural gas, EURO 3\n",
      "CA-AB natural gas production\n",
      "GLO market for trimethylamine\n",
      "CA-QC lime production, milled, loose\n",
      "RoW treatment of recovered paper to linerboard, testliner\n",
      "GLO market for contouring, brass\n",
      "GLO market for natural gas liquids\n",
      "RoW methylamine production\n",
      "GLO market for transport, passenger car, large size, natural gas, EURO 5\n",
      "GLO market for injection moulding\n",
      "GLO helium purification\n",
      "RoW evaporation of natural gas\n",
      "GLO pentane extraction, from natural gas liquids\n",
      "RoW heat and power co-generation, natural gas, 50kW electrical, lean burn\n",
      "RoW natural gas, burned in gas motor, for storage\n",
      "RoW corrugated board box production\n",
      "RoW drying, natural gas\n",
      "GLO market for chloromethyl methyl ether\n",
      "GLO market for natural gas, from high pressure network (1-5 bar), at service station\n",
      "CA-QC glass wool mat production\n",
      "GLO ammonium thiocyanate production\n",
      "GLO market for gold\n",
      "GLO market for dimethylacetamide\n",
      "RoW heat and power co-generation, natural gas, mini-plant 2KW electrical\n",
      "CA-SK electricity production, natural gas, conventional power plant\n",
      "RoW oxidation of methanol\n",
      "RoW electricity production, natural gas, 10MW\n",
      "RoW heat and power co-generation, natural gas, 500kW electrical, lean burn\n",
      "RoW heat and power co-generation, natural gas, mini-plant 2KW electrical\n",
      "RoW natural gas, burned in micro gas turbine, 100kWe\n",
      "RoW transport, passenger car, medium size, natural gas, EURO 5\n",
      "GLO market for sodium methoxide\n",
      "GLO market for natural gas, from low pressure network (<0.1 bar), at service station\n",
      "RoW transport, passenger car, small size, natural gas, EURO 5\n",
      "CA-QC market for natural gas, high pressure\n",
      "RoW natural gas production, liquefied\n",
      "GLO market for natural gas, burned in gas motor, for storage\n",
      "RoW heat and power co-generation, natural gas, combined cycle power plant, 400MW electrical\n",
      "RoW heat and power co-generation, natural gas, combined cycle power plant, 400MW electrical\n",
      "GLO market for natural gas, liquefied\n",
      "RoW evaporation of natural gas\n",
      "RoW natural gas, burned in gas motor, for storage\n",
      "GLO market for butane\n",
      "GLO natural gas liquids production\n",
      "RoW natural gas production, liquefied\n",
      "GLO market for natural gas, burned in gas motor, for storage\n",
      "RoW market for natural gas, low pressure\n",
      "GLO market for natural gas, from medium pressure network (0.1-1 bar), at service station\n",
      "RoW natural gas, from medium pressure network (0.1-1 bar), at service station\n",
      "GLO market for helium, crude\n",
      "RoW natural gas, from low pressure network (<0.1 bar), at service station\n",
      "GLO natural gas liquids production\n",
      "GLO ethane extraction, from natural gas liquids\n",
      "RoW natural gas pressure reduction from high to low pressure\n",
      "GLO market for helium\n",
      "GLO market for ethane\n",
      "RoW heat and power co-generation, natural gas, combined cycle power plant, 400MW electrical\n",
      "RoW heat and power co-generation, natural gas, combined cycle power plant, 400MW electrical\n",
      "RoW natural gas, from high pressure network (1-5 bar), at service station\n",
      "GLO butane extraction, from natural gas liquids\n",
      "GLO market for natural gas, liquefied\n",
      "GLO market for natural gas liquids\n",
      "GLO helium purification\n",
      "GLO pentane extraction, from natural gas liquids\n",
      "RoW natural gas, burned in gas motor, for storage\n",
      "GLO market for natural gas, from high pressure network (1-5 bar), at service station\n",
      "GLO market for natural gas, from low pressure network (<0.1 bar), at service station\n",
      "GLO market for natural gas, burned in gas motor, for storage\n",
      "RoW heat and power co-generation, natural gas, combined cycle power plant, 400MW electrical\n",
      "RoW heat and power co-generation, natural gas, combined cycle power plant, 400MW electrical\n",
      "RoW natural gas, burned in gas motor, for storage\n",
      "GLO market for butane\n",
      "GLO natural gas liquids production\n",
      "RoW natural gas production, liquefied\n",
      "GLO market for natural gas, burned in gas motor, for storage\n",
      "RoW market for natural gas, low pressure\n",
      "GLO market for natural gas, from medium pressure network (0.1-1 bar), at service station\n",
      "RoW natural gas, from medium pressure network (0.1-1 bar), at service station\n",
      "GLO market for helium, crude\n",
      "RoW natural gas, from low pressure network (<0.1 bar), at service station\n",
      "GLO natural gas liquids production\n",
      "GLO ethane extraction, from natural gas liquids\n",
      "RoW natural gas pressure reduction from high to low pressure\n",
      "GLO market for helium\n",
      "GLO market for ethane\n",
      "RoW natural gas, from high pressure network (1-5 bar), at service station\n",
      "GLO butane extraction, from natural gas liquids\n",
      "GLO market for natural gas, liquefied\n",
      "GLO market for natural gas liquids\n",
      "GLO helium purification\n",
      "GLO pentane extraction, from natural gas liquids\n",
      "RoW natural gas, burned in gas motor, for storage\n",
      "GLO market for natural gas, from high pressure network (1-5 bar), at service station\n",
      "GLO market for natural gas, from low pressure network (<0.1 bar), at service station\n",
      "RoW natural gas production, liquefied\n",
      "GLO market for natural gas, burned in gas motor, for storage\n",
      "RoW heat and power co-generation, natural gas, combined cycle power plant, 400MW electrical\n",
      "RoW heat and power co-generation, natural gas, combined cycle power plant, 400MW electrical\n",
      "GLO market for natural gas, liquefied\n",
      "RoW natural gas, burned in gas motor, for storage\n",
      "GLO market for butane\n",
      "GLO natural gas liquids production\n",
      "RoW heat and power co-generation, natural gas, 500kW electrical, lean burn\n",
      "Europe without Switzerland heat production, natural gas, at boiler atmospheric non-modulating <100kW\n",
      "Europe without Switzerland heat production, natural gas, at boiler fan burner non-modulating <100kW\n",
      "RoW natural gas production, liquefied\n",
      "GLO market for natural gas, burned in gas motor, for storage\n",
      "Europe without Switzerland heat and power co-generation, natural gas, 160kW electrical, lambda=1\n",
      "RoW heat and power co-generation, natural gas, 200kW electrical, lean burn\n",
      "RoW market for natural gas, low pressure\n",
      "Europe without Switzerland heat and power co-generation, natural gas, 50kW electrical, lean burn\n"
     ]
    },
    {
     "name": "stdout",
     "output_type": "stream",
     "text": [
      "GLO market for natural gas, from medium pressure network (0.1-1 bar), at service station\n",
      "RoW natural gas, from medium pressure network (0.1-1 bar), at service station\n",
      "GLO market for helium, crude\n",
      "RoW heat and power co-generation, natural gas, 160kW electrical, Jakobsberg\n",
      "RoW natural gas, from low pressure network (<0.1 bar), at service station\n",
      "GLO natural gas liquids production\n",
      "Europe without Switzerland heat production, natural gas, at boiler condensing modulating <100kW\n",
      "GLO ethane extraction, from natural gas liquids\n",
      "Europe without Switzerland heat and power co-generation, natural gas, 160kW electrical, lambda=1\n",
      "RoW natural gas pressure reduction from high to low pressure\n",
      "GLO market for helium\n",
      "GLO market for ethane\n",
      "GLO market for heat, central or small-scale, natural gas, Jakobsberg\n",
      "RoW heat and power co-generation, natural gas, combined cycle power plant, 400MW electrical\n",
      "RoW heat and power co-generation, natural gas, combined cycle power plant, 400MW electrical\n",
      "Europe without Switzerland market for heat, central or small-scale, natural gas\n",
      "RoW natural gas, from high pressure network (1-5 bar), at service station\n",
      "RoW heat and power co-generation, natural gas, 160kW electrical, Jakobsberg\n",
      "Europe without Switzerland heat production, natural gas, at boiler atmospheric low-NOx non-modulating <100kW\n",
      "RoW heat and power co-generation, natural gas, 200kW electrical, lean burn\n",
      "GLO butane extraction, from natural gas liquids\n",
      "GLO market for natural gas, liquefied\n",
      "Europe without Switzerland heat production, natural gas, at boiler atm. low-NOx condensing non-modulating <100kW\n",
      "GLO market for natural gas liquids\n",
      "GLO helium purification\n",
      "GLO pentane extraction, from natural gas liquids\n",
      "Europe without Switzerland heat and power co-generation, natural gas, 50kW electrical, lean burn\n",
      "RoW natural gas, burned in gas motor, for storage\n",
      "Europe without Switzerland heat production, natural gas, at boiler modulating <100kW\n",
      "GLO market for natural gas, from high pressure network (1-5 bar), at service station\n",
      "Europe without Switzerland heat production, natural gas, at boiler fan burner low-NOx non-modulating <100kW\n",
      "Europe without Switzerland heat and power co-generation, natural gas, mini-plant 2KW electrical\n",
      "RoW heat and power co-generation, natural gas, 500kW electrical, lean burn\n",
      "Europe without Switzerland heat and power co-generation, natural gas, mini-plant 2KW electrical\n",
      "RoW natural gas, burned in micro gas turbine, 100kWe\n",
      "GLO market for natural gas, from low pressure network (<0.1 bar), at service station\n",
      "RoW natural gas production, liquefied\n",
      "GLO market for natural gas, burned in gas motor, for storage\n",
      "GLO market for natural gas, liquefied\n",
      "RoW natural gas, burned in gas motor, for storage\n",
      "GLO market for natural gas, burned in gas motor, for storage\n",
      "RoW natural gas, from low pressure network (<0.1 bar), at service station\n",
      "RoW natural gas, burned in gas motor, for storage\n",
      "GLO market for natural gas, from low pressure network (<0.1 bar), at service station\n",
      "GLO market for natural gas, burned in gas motor, for storage\n",
      "RoW natural gas, burned in gas motor, for storage\n",
      "GLO market for natural gas, burned in gas motor, for storage\n",
      "RoW heat and power co-generation, natural gas, combined cycle power plant, 400MW electrical\n",
      "RoW heat and power co-generation, natural gas, combined cycle power plant, 400MW electrical\n",
      "RoW natural gas, burned in gas motor, for storage\n",
      "GLO market for natural gas, burned in gas motor, for storage\n",
      "RoW heat and power co-generation, natural gas, combined cycle power plant, 400MW electrical\n",
      "RoW heat and power co-generation, natural gas, combined cycle power plant, 400MW electrical\n",
      "RoW natural gas, burned in gas motor, for storage\n",
      "RoW natural gas production, liquefied\n",
      "GLO market for natural gas, burned in gas motor, for storage\n",
      "RoW heat and power co-generation, natural gas, combined cycle power plant, 400MW electrical\n",
      "RoW heat and power co-generation, natural gas, combined cycle power plant, 400MW electrical\n",
      "GLO market for natural gas, liquefied\n",
      "RoW natural gas, burned in gas motor, for storage\n",
      "GLO market for natural gas, burned in gas motor, for storage\n",
      "RoW natural gas, burned in gas motor, for storage\n",
      "GLO natural gas liquids production\n",
      "RoW natural gas production, liquefied\n",
      "RoW market for natural gas, low pressure\n",
      "GLO market for natural gas, from medium pressure network (0.1-1 bar), at service station\n",
      "RoW natural gas, from medium pressure network (0.1-1 bar), at service station\n",
      "GLO market for helium, crude\n",
      "GLO natural gas liquids production\n",
      "RoW natural gas pressure reduction from high to low pressure\n",
      "RoW natural gas, from high pressure network (1-5 bar), at service station\n",
      "GLO market for natural gas, liquefied\n",
      "GLO market for natural gas liquids\n",
      "JP evaporation of natural gas\n",
      "GLO market for natural gas, from high pressure network (1-5 bar), at service station\n",
      "JP market for natural gas, high pressure\n",
      "RoW natural gas production, liquefied\n",
      "GLO market for natural gas, burned in gas motor, for storage\n",
      "GLO market for natural gas, liquefied\n",
      "RoW natural gas, burned in gas motor, for storage\n",
      "GLO market for helium\n",
      "GLO helium purification\n",
      "RoW natural gas production, liquefied\n",
      "GLO market for natural gas, burned in gas motor, for storage\n",
      "RoW heat and power co-generation, natural gas, combined cycle power plant, 400MW electrical\n",
      "RoW heat and power co-generation, natural gas, combined cycle power plant, 400MW electrical\n",
      "GLO market for natural gas, liquefied\n",
      "RoW natural gas, burned in gas motor, for storage\n",
      "RoW heat and power co-generation, natural gas, combined cycle power plant, 400MW electrical\n",
      "RoW heat and power co-generation, natural gas, combined cycle power plant, 400MW electrical\n",
      "GLO natural gas liquids production\n",
      "RoW market for natural gas, low pressure\n",
      "GLO market for natural gas, from medium pressure network (0.1-1 bar), at service station\n",
      "RoW natural gas, from medium pressure network (0.1-1 bar), at service station\n",
      "GLO market for helium, crude\n",
      "RoW natural gas, from low pressure network (<0.1 bar), at service station\n",
      "GLO natural gas liquids production\n",
      "RoW natural gas pressure reduction from high to low pressure\n",
      "GLO market for helium\n",
      "RoW heat and power co-generation, natural gas, combined cycle power plant, 400MW electrical\n",
      "RoW heat and power co-generation, natural gas, combined cycle power plant, 400MW electrical\n",
      "RoW natural gas, from high pressure network (1-5 bar), at service station\n",
      "GLO market for natural gas liquids\n",
      "GLO helium purification\n",
      "GLO market for natural gas, from high pressure network (1-5 bar), at service station\n",
      "GLO market for natural gas, from low pressure network (<0.1 bar), at service station\n",
      "RoW natural gas production, liquefied\n",
      "GLO market for natural gas, burned in gas motor, for storage\n",
      "GLO market for natural gas, liquefied\n",
      "RoW natural gas, burned in gas motor, for storage\n",
      "RoW natural gas production, liquefied\n",
      "GLO market for natural gas, burned in gas motor, for storage\n",
      "GLO market for helium\n",
      "GLO market for natural gas, liquefied\n",
      "GLO helium purification\n",
      "RoW natural gas, burned in gas motor, for storage\n",
      "RoW natural gas production, liquefied\n",
      "GLO market for natural gas, burned in gas motor, for storage\n",
      "GLO market for helium\n",
      "RoW heat and power co-generation, natural gas, combined cycle power plant, 400MW electrical\n",
      "RoW heat and power co-generation, natural gas, combined cycle power plant, 400MW electrical\n",
      "GLO market for natural gas, liquefied\n",
      "GLO helium purification\n",
      "RoW natural gas, burned in gas motor, for storage\n",
      "RoW natural gas production, liquefied\n",
      "GLO market for natural gas, burned in gas motor, for storage\n",
      "RoW heat and power co-generation, natural gas, combined cycle power plant, 400MW electrical\n",
      "RoW heat and power co-generation, natural gas, combined cycle power plant, 400MW electrical\n",
      "GLO market for natural gas, liquefied\n",
      "RoW natural gas, burned in gas motor, for storage\n",
      "GLO market for natural gas, burned in gas motor, for storage\n",
      "RoW natural gas, burned in gas motor, for storage\n",
      "GLO natural gas liquids production\n",
      "RoW heat and power co-generation, natural gas, 500kW electrical, lean burn\n",
      "RoW treatment of recovered paper to fluting medium, wellenstoff\n",
      "RoW treatment of recovered paper to fluting medium, wellenstoff\n",
      "RoW natural gas production, liquefied\n",
      "GLO market for natural gas, burned in gas motor, for storage\n"
     ]
    },
    {
     "name": "stdout",
     "output_type": "stream",
     "text": [
      "RoW heat and power co-generation, natural gas, 160kW electrical, lambda=1\n",
      "RoW heat and power co-generation, natural gas, 200kW electrical, lean burn\n",
      "RoW market for natural gas, low pressure\n",
      "RoW market for fluting medium\n",
      "RoW heat and power co-generation, natural gas, 50kW electrical, lean burn\n",
      "RoW treatment of recovered paper to fluting medium, wellenstoff\n",
      "GLO market for natural gas, from medium pressure network (0.1-1 bar), at service station\n",
      "RoW natural gas, from medium pressure network (0.1-1 bar), at service station\n",
      "GLO market for helium, crude\n",
      "RoW heat and power co-generation, natural gas, 160kW electrical, Jakobsberg\n",
      "RoW heat and power co-generation, natural gas, 1MW electrical, lean burn\n",
      "RoW natural gas, from low pressure network (<0.1 bar), at service station\n",
      "GLO natural gas liquids production\n",
      "RoW heat production, natural gas, at boiler condensing modulating <100kW\n",
      "RoW market for linerboard\n",
      "RoW heat and power co-generation, natural gas, 160kW electrical, lambda=1\n",
      "RoW natural gas pressure reduction from high to low pressure\n",
      "RoW treatment of recovered paper to linerboard, testliner\n",
      "GLO market for helium\n",
      "GLO market for drying, natural gas\n",
      "RoW heat and power co-generation, natural gas, 1MW electrical, lean burn\n",
      "GLO market for heat, central or small-scale, natural gas, Jakobsberg\n",
      "RoW natural gas, from high pressure network (1-5 bar), at service station\n",
      "RoW heat and power co-generation, natural gas, 160kW electrical, Jakobsberg\n",
      "RoW treatment of recovered paper to linerboard, testliner\n",
      "RoW heat and power co-generation, natural gas, 200kW electrical, lean burn\n",
      "GLO market for natural gas, liquefied\n",
      "RoW treatment of recovered paper to linerboard, testliner\n",
      "GLO market for natural gas liquids\n",
      "GLO helium purification\n",
      "RoW evaporation of natural gas\n",
      "RoW heat and power co-generation, natural gas, 50kW electrical, lean burn\n",
      "RoW natural gas, burned in gas motor, for storage\n",
      "RoW drying, natural gas\n",
      "GLO market for natural gas, from high pressure network (1-5 bar), at service station\n",
      "RoW heat and power co-generation, natural gas, mini-plant 2KW electrical\n",
      "RoW heat and power co-generation, natural gas, 500kW electrical, lean burn\n",
      "RoW heat and power co-generation, natural gas, mini-plant 2KW electrical\n",
      "RoW natural gas, burned in micro gas turbine, 100kWe\n",
      "GLO market for natural gas, from low pressure network (<0.1 bar), at service station\n",
      "RoW market for natural gas, high pressure\n",
      "RoW natural gas production, liquefied\n",
      "GLO market for natural gas, burned in gas motor, for storage\n",
      "RoW heat and power co-generation, natural gas, combined cycle power plant, 400MW electrical\n",
      "RoW heat and power co-generation, natural gas, combined cycle power plant, 400MW electrical\n",
      "GLO market for natural gas, liquefied\n",
      "RoW evaporation of natural gas\n",
      "RoW natural gas, burned in gas motor, for storage\n",
      "RoW natural gas production, liquefied\n",
      "GLO market for natural gas, burned in gas motor, for storage\n",
      "GLO market for natural gas, liquefied\n",
      "RoW evaporation of natural gas\n",
      "RoW natural gas, burned in gas motor, for storage\n",
      "RoW electricity production, natural gas, 10MW\n",
      "GLO market for butane\n",
      "RoW natural gas production, liquefied\n",
      "GLO market for natural gas, burned in gas motor, for storage\n",
      "GLO methanol production\n",
      "GLO ethane extraction, from natural gas liquids\n",
      "GLO market for ethane\n",
      "GLO market for methanol\n",
      "RoW heat and power co-generation, natural gas, combined cycle power plant, 400MW electrical\n",
      "RoW heat and power co-generation, natural gas, combined cycle power plant, 400MW electrical\n",
      "GLO butane extraction, from natural gas liquids\n",
      "GLO market for natural gas, liquefied\n",
      "GLO pentane extraction, from natural gas liquids\n",
      "RoW natural gas, burned in gas motor, for storage\n",
      "GLO market for vanilla\n",
      "GLO market for helium\n",
      "RoW heat and power co-generation, natural gas, combined cycle power plant, 400MW electrical\n",
      "RoW heat and power co-generation, natural gas, combined cycle power plant, 400MW electrical\n",
      "GLO market for vanilla seedling, for planting\n",
      "GLO helium purification\n",
      "GLO carbon disulfide production\n",
      "GLO market for butane\n",
      "GLO market for carbon disulfide\n",
      "GLO methanol production\n",
      "GLO ethane extraction, from natural gas liquids\n",
      "GLO market for pentane\n",
      "GLO market for ethane\n",
      "GLO market for methanol\n",
      "RoW heat and power co-generation, natural gas, combined cycle power plant, 400MW electrical\n",
      "RoW heat and power co-generation, natural gas, combined cycle power plant, 400MW electrical\n",
      "GLO butane extraction, from natural gas liquids\n",
      "CO palm fruit bunch production\n",
      "GLO pentane extraction, from natural gas liquids\n",
      "RoW natural gas production, liquefied\n",
      "GLO market for natural gas, burned in gas motor, for storage\n",
      "RoW heat and power co-generation, natural gas, combined cycle power plant, 400MW electrical\n",
      "RoW heat and power co-generation, natural gas, combined cycle power plant, 400MW electrical\n",
      "GLO market for natural gas, liquefied\n",
      "RoW evaporation of natural gas\n",
      "RoW natural gas, burned in gas motor, for storage\n"
     ]
    }
   ],
   "source": [
    "for i in changed.index:\n",
    "    ds = db.get(ref_ds_dict[i])\n",
    "    print(ds['location'], ds['name'])"
   ]
  },
  {
   "cell_type": "code",
   "execution_count": 79,
   "metadata": {},
   "outputs": [
    {
     "data": {
      "text/plain": [
       "ipcc        0\n",
       "ipcc_eco    0\n",
       "dtype: int64"
      ]
     },
     "execution_count": 79,
     "metadata": {},
     "output_type": "execute_result"
    }
   ],
   "source": [
    "ipcc.isna().sum()"
   ]
  },
  {
   "cell_type": "code",
   "execution_count": 76,
   "metadata": {},
   "outputs": [
    {
     "data": {
      "text/plain": [
       "False"
      ]
     },
     "execution_count": 76,
     "metadata": {},
     "output_type": "execute_result"
    }
   ],
   "source": [
    "np.nan == np.nan"
   ]
  },
  {
   "cell_type": "code",
   "execution_count": null,
   "metadata": {},
   "outputs": [],
   "source": []
  }
 ],
 "metadata": {
  "kernelspec": {
   "display_name": "Python [conda env:regeco]",
   "language": "python",
   "name": "conda-env-regeco-py"
  },
  "language_info": {
   "codemirror_mode": {
    "name": "ipython",
    "version": 3
   },
   "file_extension": ".py",
   "mimetype": "text/x-python",
   "name": "python",
   "nbconvert_exporter": "python",
   "pygments_lexer": "ipython3",
   "version": "3.6.13"
  }
 },
 "nbformat": 4,
 "nbformat_minor": 2
}
