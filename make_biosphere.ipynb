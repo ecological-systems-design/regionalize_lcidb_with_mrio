{
 "cells": [
  {
   "cell_type": "markdown",
   "id": "91ad2614",
   "metadata": {},
   "source": [
    "# Make biosphere matrix\n",
    "#### biosphere vector -> biosphere vector list -> biosphere matrix"
   ]
  },
  {
   "cell_type": "code",
   "execution_count": 1,
   "id": "512c4b33",
   "metadata": {},
   "outputs": [],
   "source": [
    "import pickle\n",
    "import random\n",
    "import itertools\n",
    "import pandas as pd\n",
    "import numpy as np\n",
    "import scipy.sparse as sp"
   ]
  },
  {
   "cell_type": "markdown",
   "id": "5dfa0f23",
   "metadata": {},
   "source": [
    "#### create biosphere index first "
   ]
  },
  {
   "cell_type": "code",
   "execution_count": 2,
   "id": "90d54bb1",
   "metadata": {},
   "outputs": [
    {
     "name": "stdout",
     "output_type": "stream",
     "text": [
      "4332 19013\n"
     ]
    }
   ],
   "source": [
    "with open('../data/processed_data/biosphere371.pickle', 'rb') as i:\n",
    "    biosphere = pickle.load(i)\n",
    "bio_code_dict = {b['code']:b for b in biosphere}\n",
    "\n",
    "with open('../data/processed_data/cutoff371_no_mg.pickle', 'rb') as i:\n",
    "# with open('/home/sipeng2/Master_Thesis/RegEcoData_crop_rev/data/update_eidb/cutoff371_data_new_no_mg.pickle', 'rb') as i:\n",
    "    datasets = pickle.load(i)\n",
    "code_dict = {d['code']:d for d in datasets}\n",
    "\n",
    "print(len(biosphere), len(datasets))"
   ]
  },
  {
   "cell_type": "code",
   "execution_count": 3,
   "id": "49eda266",
   "metadata": {},
   "outputs": [
    {
     "data": {
      "text/plain": [
       "2102"
      ]
     },
     "execution_count": 3,
     "metadata": {},
     "output_type": "execute_result"
    }
   ],
   "source": [
    "actual_flows = {e['flow'] for e in itertools.chain.from_iterable([d['exchanges'] for d in datasets]) if \n",
    "                e['type']=='biosphere'}\n",
    "len(actual_flows)"
   ]
  },
  {
   "cell_type": "code",
   "execution_count": 4,
   "id": "4dcc84c0",
   "metadata": {
    "scrolled": true
   },
   "outputs": [
    {
     "data": {
      "text/plain": [
       "2102"
      ]
     },
     "execution_count": 4,
     "metadata": {},
     "output_type": "execute_result"
    }
   ],
   "source": [
    "bio_index = sorted([b['code'] for b in biosphere if b['code'] in actual_flows]) # all possible bios flow\n",
    "bio_index_dict = {b:i for i,b in enumerate(bio_index)} #a dict showing bio flows and list index, used when fill amounts    \n",
    "len(bio_index_dict)"
   ]
  },
  {
   "cell_type": "markdown",
   "id": "d345419f",
   "metadata": {},
   "source": [
    "#### for each index in full index, fill values to create biosphere vector"
   ]
  },
  {
   "cell_type": "code",
   "execution_count": 5,
   "id": "20670c96",
   "metadata": {},
   "outputs": [
    {
     "data": {
      "text/plain": [
       "704378098"
      ]
     },
     "execution_count": 5,
     "metadata": {},
     "output_type": "execute_result"
    }
   ],
   "source": [
    "with open('../data/tech_vector/full_index.p', 'rb') as i:\n",
    "    full_index = pickle.load(i)\n",
    "    \n",
    "with open('../data/tech_vector/full_reference_dataset_dict.p', 'rb') as i:\n",
    "    reference_dataset_dict = pickle.load(i)\n",
    "\n",
    "# the shape of biosphere matrix should be:\n",
    "len(full_index)*len(bio_index)"
   ]
  },
  {
   "cell_type": "code",
   "execution_count": 6,
   "id": "6ea29bac",
   "metadata": {},
   "outputs": [],
   "source": [
    "def get_biosphere_exchanges(dataset):\n",
    "    bio_ex = [e for e in dataset['exchanges'] if e['type']=='biosphere']\n",
    "    return bio_ex\n",
    "\n",
    "def make_biosphere_vector(biosphere_exchanges):\n",
    "    vec = np.zeros((len(bio_index),1))\n",
    "    for e in biosphere_exchanges:\n",
    "        i = bio_index_dict[e['flow']]\n",
    "        amount = e['amount']\n",
    "        vec[i,0] = amount\n",
    "    sparse_vec = sp.coo_matrix(vec)\n",
    "    return sparse_vec"
   ]
  },
  {
   "cell_type": "code",
   "execution_count": 7,
   "id": "38b1e3bd",
   "metadata": {},
   "outputs": [],
   "source": [
    "vector_dict = dict()\n",
    "for code, dataset in code_dict.items():\n",
    "    bio_exchanges = get_biosphere_exchanges(dataset)\n",
    "    if bio_exchanges:\n",
    "        bio_vec = make_biosphere_vector(bio_exchanges)\n",
    "    else:\n",
    "        bio_vec = sp.coo_matrix((len(bio_index),1))\n",
    "    vector_dict[code] = bio_vec\n",
    "    \n",
    "biosphere_vector_list = [vector_dict[reference_dataset_dict[ind]] for ind in full_index]\n",
    "\n",
    "# more efficient\n",
    "# get_ipython().run_cell_magic('time', '', 'vector_dict = dict()\\nfor code, dataset in code_dict.items():\\n    bio_exchanges = get_biosphere_exchanges(dataset)\\n    if bio_exchanges:\\n        bio_vec = make_biosphere_vector(bio_exchanges)\\n    else:\\n        bio_vec = sp.coo_matrix((len(bio_index),1))\\n    \\n    vector_dict[code] = bio_vec')\n",
    "# get_ipython().run_cell_magic('time', '', 'biosphere_vector_list = [vector_dict[reference_dataset_dict[ind]] for ind in full_index]\\nprint(len(biosphere_vector_list))')"
   ]
  },
  {
   "cell_type": "code",
   "execution_count": 8,
   "id": "8870811c",
   "metadata": {},
   "outputs": [
    {
     "data": {
      "text/plain": [
       "335099"
      ]
     },
     "execution_count": 8,
     "metadata": {},
     "output_type": "execute_result"
    }
   ],
   "source": [
    "len(biosphere_vector_list)"
   ]
  },
  {
   "cell_type": "markdown",
   "id": "7d8ba0e0",
   "metadata": {},
   "source": [
    "#### biosphere vector list -> biosphere matrix"
   ]
  },
  {
   "cell_type": "code",
   "execution_count": 9,
   "id": "61a8aeb3",
   "metadata": {},
   "outputs": [
    {
     "name": "stdout",
     "output_type": "stream",
     "text": [
      "CPU times: user 10.6 s, sys: 106 ms, total: 10.7 s\n",
      "Wall time: 10.7 s\n"
     ]
    },
    {
     "data": {
      "text/plain": [
       "(2102, 335099)"
      ]
     },
     "execution_count": 9,
     "metadata": {},
     "output_type": "execute_result"
    }
   ],
   "source": [
    "get_ipython().magic('time biosphere_matrix = sp.hstack(biosphere_vector_list).tocsc()')\n",
    "biosphere_matrix.shape"
   ]
  },
  {
   "cell_type": "code",
   "execution_count": 10,
   "id": "5e527e2b",
   "metadata": {},
   "outputs": [],
   "source": [
    "with open('../data/final_matrix/biosphere_matrix_csc.p', 'wb') as o:\n",
    "    pickle.dump(biosphere_matrix, o)\n",
    "\n",
    "with open('../data/final_matrix/biosphere_index.p', 'wb') as o:\n",
    "    pickle.dump(bio_index, o)\n"
   ]
  },
  {
   "cell_type": "code",
   "execution_count": null,
   "id": "e80785d7",
   "metadata": {},
   "outputs": [],
   "source": []
  }
 ],
 "metadata": {
  "kernelspec": {
   "display_name": "reg_eco",
   "language": "python",
   "name": "reg_eco"
  },
  "language_info": {
   "codemirror_mode": {
    "name": "ipython",
    "version": 3
   },
   "file_extension": ".py",
   "mimetype": "text/x-python",
   "name": "python",
   "nbconvert_exporter": "python",
   "pygments_lexer": "ipython3",
   "version": "3.6.13"
  }
 },
 "nbformat": 4,
 "nbformat_minor": 5
}
